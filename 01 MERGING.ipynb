{
 "cells": [
  {
   "cell_type": "markdown",
   "metadata": {
    "id": "pVbrKjWrGl4m"
   },
   "source": [
    "# \"Implémentez un modèle de scoring\"\n",
    "_Merging data tables_\n",
    "\n",
    "\n",
    "References used for this notebook:\n",
    "\n",
    "- \"https://www.kaggle.com/gpreda/home-credit-default-risk-extensive-eda\"\n",
    "- "
   ]
  },
  {
   "cell_type": "markdown",
   "metadata": {
    "id": "AXy2xt5wB3ZD"
   },
   "source": [
    "## Setup"
   ]
  },
  {
   "cell_type": "markdown",
   "metadata": {
    "id": "NQ8_ZaJvGl4o"
   },
   "source": [
    "### Importing Packages and Modules"
   ]
  },
  {
   "cell_type": "code",
   "execution_count": 1,
   "metadata": {
    "executionInfo": {
     "elapsed": 24920,
     "status": "ok",
     "timestamp": 1607418564902,
     "user": {
      "displayName": "Maryse Muller",
      "photoUrl": "",
      "userId": "13230828717959946182"
     },
     "user_tz": -60
    },
    "id": "x1xzfQL5OvRk"
   },
   "outputs": [
    {
     "name": "stderr",
     "output_type": "stream",
     "text": [
      "c:\\Users\\adam_\\anaconda3\\envs\\OCP7\\lib\\site-packages\\tqdm\\auto.py:22: TqdmWarning: IProgress not found. Please update jupyter and ipywidgets. See https://ipywidgets.readthedocs.io/en/stable/user_install.html\n",
      "  from .autonotebook import tqdm as notebook_tqdm\n"
     ]
    }
   ],
   "source": [
    "from P7_functions import *"
   ]
  },
  {
   "cell_type": "markdown",
   "metadata": {
    "id": "xBgiuFEdQq78"
   },
   "source": [
    "Imports"
   ]
  },
  {
   "cell_type": "code",
   "execution_count": 2,
   "metadata": {
    "executionInfo": {
     "elapsed": 24921,
     "status": "ok",
     "timestamp": 1607418564910,
     "user": {
      "displayName": "Maryse Muller",
      "photoUrl": "",
      "userId": "13230828717959946182"
     },
     "user_tz": -60
    },
    "id": "oDhE9utOlwJe"
   },
   "outputs": [],
   "source": [
    "import io\n",
    "import pandas as pd\n",
    "import seaborn as sns\n",
    "import numpy as np\n",
    "import matplotlib.pyplot as plt\n",
    "%matplotlib inline\n",
    "plt.rcParams['figure.facecolor']='w'"
   ]
  },
  {
   "cell_type": "markdown",
   "metadata": {
    "id": "xNSTytWrQ0De"
   },
   "source": [
    "Display options."
   ]
  },
  {
   "cell_type": "code",
   "execution_count": 3,
   "metadata": {
    "executionInfo": {
     "elapsed": 24915,
     "status": "ok",
     "timestamp": 1607418564911,
     "user": {
      "displayName": "Maryse Muller",
      "photoUrl": "",
      "userId": "13230828717959946182"
     },
     "user_tz": -60
    },
    "id": "G0rRvyJaWO2h"
   },
   "outputs": [],
   "source": [
    "dictPdSettings = {'display.max_rows': 500, 'display.width': 100,\n",
    "                  'display.max_colwidth': 100,\n",
    "                  'display.float_format': lambda x: '%.2f' % x}\n",
    "for k,v in dictPdSettings.items():\n",
    "  pd.set_option(k,v)"
   ]
  },
  {
   "cell_type": "markdown",
   "metadata": {
    "id": "fmDu0rMFGl5A"
   },
   "source": [
    "### Read data"
   ]
  },
  {
   "cell_type": "code",
   "execution_count": 4,
   "metadata": {},
   "outputs": [
    {
     "data": {
      "text/plain": [
       "'c:\\\\Users\\\\adam_\\\\Desktop\\\\OC\\\\Project 07\\\\Project-07a-Model'"
      ]
     },
     "execution_count": 4,
     "metadata": {},
     "output_type": "execute_result"
    }
   ],
   "source": [
    "import os\n",
    "os.getcwd()"
   ]
  },
  {
   "cell_type": "code",
   "execution_count": 11,
   "metadata": {},
   "outputs": [],
   "source": [
    "path_data = '../data/raw'"
   ]
  },
  {
   "cell_type": "code",
   "execution_count": 7,
   "metadata": {},
   "outputs": [
    {
     "data": {
      "text/plain": [
       "<generator object walk at 0x00000122825552C8>"
      ]
     },
     "execution_count": 7,
     "metadata": {},
     "output_type": "execute_result"
    }
   ],
   "source": [
    "# os.walk(path_data)"
   ]
  },
  {
   "cell_type": "code",
   "execution_count": 12,
   "metadata": {
    "colab": {
     "base_uri": "https://localhost:8080/"
    },
    "executionInfo": {
     "elapsed": 24885,
     "status": "ok",
     "timestamp": 1607418564914,
     "user": {
      "displayName": "Maryse Muller",
      "photoUrl": "",
      "userId": "13230828717959946182"
     },
     "user_tz": -60
    },
    "id": "fh1xbbLJbvMT",
    "outputId": "84770dbc-b7e9-4cbc-a932-9577c9fd84c7"
   },
   "outputs": [
    {
     "name": "stdout",
     "output_type": "stream",
     "text": [
      "../data/raw ['application_test.csv', 'application_train.csv', 'bureau.csv', 'bureau_balance.csv', 'credit_card_balance.csv', 'HomeCredit_columns_description.csv', 'installments_payments.csv', 'POS_CASH_balance.csv', 'previous_application.csv', 'sample_submission.csv']\n"
     ]
    }
   ],
   "source": [
    "# get the name of all the .csv files in the 'DATA' directory\n",
    "\n",
    "li_files = []\n",
    "for n_dir, _, n_files in os.walk(path_data):\n",
    "    li_files = n_files\n",
    "    print(n_dir, li_files)\n",
    "li_files = sorted(li_files)"
   ]
  },
  {
   "cell_type": "code",
   "execution_count": 13,
   "metadata": {
    "executionInfo": {
     "elapsed": 24881,
     "status": "ok",
     "timestamp": 1607418564914,
     "user": {
      "displayName": "Maryse Muller",
      "photoUrl": "",
      "userId": "13230828717959946182"
     },
     "user_tz": -60
    },
    "id": "VXECOcGganax"
   },
   "outputs": [],
   "source": [
    "li_key_names = ['home_cred_desc','pos_cash_bal','app_test','app_train','bur',\n",
    "                'bur_bal','ccard_bal','install_pay','prev_app','samp_subm']\n",
    "dict_df = {}"
   ]
  },
  {
   "cell_type": "code",
   "execution_count": 14,
   "metadata": {
    "colab": {
     "base_uri": "https://localhost:8080/"
    },
    "executionInfo": {
     "elapsed": 90097,
     "status": "ok",
     "timestamp": 1607418630158,
     "user": {
      "displayName": "Maryse Muller",
      "photoUrl": "",
      "userId": "13230828717959946182"
     },
     "user_tz": -60
    },
    "id": "X0U3ffzeande",
    "outputId": "d76ef56a-6040-4e38-ea4f-8bf7e8f0392a"
   },
   "outputs": [
    {
     "name": "stdout",
     "output_type": "stream",
     "text": [
      "home_cred_desc HomeCredit_columns_description.csv\n",
      "pos_cash_bal POS_CASH_balance.csv\n",
      "app_test application_test.csv\n",
      "app_train application_train.csv\n",
      "bur bureau.csv\n",
      "bur_bal bureau_balance.csv\n",
      "ccard_bal credit_card_balance.csv\n",
      "install_pay installments_payments.csv\n",
      "prev_app previous_application.csv\n",
      "samp_subm sample_submission.csv\n"
     ]
    }
   ],
   "source": [
    "for k, n_file in zip(li_key_names, li_files):\n",
    "    print(k, n_file)\n",
    "    dict_df[k] = pd.read_csv(path_data+'\\\\'+ n_file, encoding = \"ISO-8859-1\")"
   ]
  },
  {
   "cell_type": "code",
   "execution_count": 15,
   "metadata": {
    "colab": {
     "base_uri": "https://localhost:8080/"
    },
    "executionInfo": {
     "elapsed": 90071,
     "status": "ok",
     "timestamp": 1607418630160,
     "user": {
      "displayName": "Maryse Muller",
      "photoUrl": "",
      "userId": "13230828717959946182"
     },
     "user_tz": -60
    },
    "id": "HtkHY3_Manji",
    "outputId": "72e41ef9-2e93-4342-b5f1-24cb7ece4e78"
   },
   "outputs": [
    {
     "data": {
      "text/plain": [
       "dict_keys(['home_cred_desc', 'pos_cash_bal', 'app_test', 'app_train', 'bur', 'bur_bal', 'ccard_bal', 'install_pay', 'prev_app', 'samp_subm'])"
      ]
     },
     "execution_count": 15,
     "metadata": {},
     "output_type": "execute_result"
    }
   ],
   "source": [
    "dict_df.keys()"
   ]
  },
  {
   "cell_type": "markdown",
   "metadata": {
    "id": "8Xs8PFRpxs0u"
   },
   "source": [
    "## Overview"
   ]
  },
  {
   "cell_type": "markdown",
   "metadata": {
    "id": "hhlNKoW5x8Ln"
   },
   "source": [
    "#### Size"
   ]
  },
  {
   "cell_type": "code",
   "execution_count": 16,
   "metadata": {
    "colab": {
     "base_uri": "https://localhost:8080/",
     "height": 193
    },
    "executionInfo": {
     "elapsed": 90047,
     "status": "ok",
     "timestamp": 1607418630163,
     "user": {
      "displayName": "Maryse Muller",
      "photoUrl": "",
      "userId": "13230828717959946182"
     },
     "user_tz": -60
    },
    "id": "aYkJhiJdanmv",
    "outputId": "d8ea5719-3115-4be2-debf-7ff69344813f"
   },
   "outputs": [
    {
     "data": {
      "text/plain": [
       "'home_cred_desc: (219, 5)'"
      ]
     },
     "metadata": {},
     "output_type": "display_data"
    },
    {
     "data": {
      "text/plain": [
       "'pos_cash_bal: (10001358, 8)'"
      ]
     },
     "metadata": {},
     "output_type": "display_data"
    },
    {
     "data": {
      "text/plain": [
       "'app_test: (48744, 121)'"
      ]
     },
     "metadata": {},
     "output_type": "display_data"
    },
    {
     "data": {
      "text/plain": [
       "'app_train: (307511, 122)'"
      ]
     },
     "metadata": {},
     "output_type": "display_data"
    },
    {
     "data": {
      "text/plain": [
       "'bur: (1716428, 17)'"
      ]
     },
     "metadata": {},
     "output_type": "display_data"
    },
    {
     "data": {
      "text/plain": [
       "'bur_bal: (27299925, 3)'"
      ]
     },
     "metadata": {},
     "output_type": "display_data"
    },
    {
     "data": {
      "text/plain": [
       "'ccard_bal: (3840312, 23)'"
      ]
     },
     "metadata": {},
     "output_type": "display_data"
    },
    {
     "data": {
      "text/plain": [
       "'install_pay: (13605401, 8)'"
      ]
     },
     "metadata": {},
     "output_type": "display_data"
    },
    {
     "data": {
      "text/plain": [
       "'prev_app: (1670214, 37)'"
      ]
     },
     "metadata": {},
     "output_type": "display_data"
    },
    {
     "data": {
      "text/plain": [
       "'samp_subm: (48744, 2)'"
      ]
     },
     "metadata": {},
     "output_type": "display_data"
    }
   ],
   "source": [
    "# Have a overview of the content\n",
    "\n",
    "for k, df in dict_df.items():\n",
    "    display(f\"{k}: {df.shape}\")"
   ]
  },
  {
   "cell_type": "markdown",
   "metadata": {
    "id": "p_9PpkbiWqS2"
   },
   "source": [
    "#### Primary keys"
   ]
  },
  {
   "cell_type": "code",
   "execution_count": 17,
   "metadata": {
    "colab": {
     "base_uri": "https://localhost:8080/"
    },
    "executionInfo": {
     "elapsed": 90027,
     "status": "ok",
     "timestamp": 1607418630166,
     "user": {
      "displayName": "Maryse Muller",
      "photoUrl": "",
      "userId": "13230828717959946182"
     },
     "user_tz": -60
    },
    "id": "4XcBbywzX8GP",
    "outputId": "00fa4ddb-3125-4baf-fb94-c814bc002aac"
   },
   "outputs": [
    {
     "data": {
      "text/plain": [
       "Index(['SK_ID_CURR', 'TARGET', 'NAME_CONTRACT_TYPE', 'CODE_GENDER', 'FLAG_OWN_CAR',\n",
       "       'FLAG_OWN_REALTY', 'CNT_CHILDREN', 'AMT_INCOME_TOTAL', 'AMT_CREDIT', 'AMT_ANNUITY',\n",
       "       ...\n",
       "       'FLAG_DOCUMENT_18', 'FLAG_DOCUMENT_19', 'FLAG_DOCUMENT_20', 'FLAG_DOCUMENT_21',\n",
       "       'AMT_REQ_CREDIT_BUREAU_HOUR', 'AMT_REQ_CREDIT_BUREAU_DAY', 'AMT_REQ_CREDIT_BUREAU_WEEK',\n",
       "       'AMT_REQ_CREDIT_BUREAU_MON', 'AMT_REQ_CREDIT_BUREAU_QRT', 'AMT_REQ_CREDIT_BUREAU_YEAR'],\n",
       "      dtype='object', length=122)"
      ]
     },
     "execution_count": 17,
     "metadata": {},
     "output_type": "execute_result"
    }
   ],
   "source": [
    "dict_df['app_train'].columns"
   ]
  },
  {
   "cell_type": "code",
   "execution_count": 18,
   "metadata": {
    "colab": {
     "base_uri": "https://localhost:8080/"
    },
    "executionInfo": {
     "elapsed": 90006,
     "status": "ok",
     "timestamp": 1607418630167,
     "user": {
      "displayName": "Maryse Muller",
      "photoUrl": "",
      "userId": "13230828717959946182"
     },
     "user_tz": -60
    },
    "id": "5dQ1aoZVXv7B",
    "outputId": "cac7fe4a-d934-44e9-b1bb-99ab1bd39be4"
   },
   "outputs": [
    {
     "data": {
      "text/plain": [
       "True"
      ]
     },
     "execution_count": 18,
     "metadata": {},
     "output_type": "execute_result"
    }
   ],
   "source": [
    "dict_df['app_train']['SK_ID_CURR'].is_unique"
   ]
  },
  {
   "cell_type": "code",
   "execution_count": 19,
   "metadata": {
    "colab": {
     "base_uri": "https://localhost:8080/"
    },
    "executionInfo": {
     "elapsed": 98900,
     "status": "ok",
     "timestamp": 1607418639085,
     "user": {
      "displayName": "Maryse Muller",
      "photoUrl": "",
      "userId": "13230828717959946182"
     },
     "user_tz": -60
    },
    "id": "eNR17YHyW1iC",
    "outputId": "0401b7fd-3edb-412c-bde9-fa8429912d37"
   },
   "outputs": [
    {
     "name": "stdout",
     "output_type": "stream",
     "text": [
      "-- HomeCredit_columns_description.csv\n",
      "['Unnamed: 0']\n",
      "-- POS_CASH_balance.csv\n",
      "[]\n",
      "-- application_test.csv\n",
      "['SK_ID_CURR']\n",
      "-- application_train.csv\n",
      "['SK_ID_CURR']\n",
      "-- bureau.csv\n",
      "['SK_ID_BUREAU']\n",
      "-- bureau_balance.csv\n",
      "[]\n",
      "-- credit_card_balance.csv\n",
      "[]\n",
      "-- installments_payments.csv\n",
      "[]\n",
      "-- previous_application.csv\n",
      "['SK_ID_PREV']\n",
      "-- sample_submission.csv\n",
      "['SK_ID_CURR']\n"
     ]
    }
   ],
   "source": [
    "# check the primary ids in the columns of each table\n",
    "\n",
    "for n_table, n_file in zip(li_key_names, li_files):\n",
    "    print('--', n_file)\n",
    "    print([col for col in dict_df[n_table].columns if dict_df[n_table][col].is_unique])"
   ]
  },
  {
   "cell_type": "markdown",
   "metadata": {
    "id": "jZJjQYOIyK2X"
   },
   "source": [
    "### Missing values"
   ]
  },
  {
   "cell_type": "code",
   "execution_count": null,
   "metadata": {
    "executionInfo": {
     "elapsed": 112196,
     "status": "ok",
     "timestamp": 1607418652384,
     "user": {
      "displayName": "Maryse Muller",
      "photoUrl": "",
      "userId": "13230828717959946182"
     },
     "user_tz": -60
    },
    "id": "vg1cQm_ZwjR_"
   },
   "outputs": [],
   "source": [
    "# Missing values\n",
    "\n",
    "df_missing = pd.DataFrame()\n",
    "for n_df, df in dict_df.items():\n",
    "    df_missing = pd.concat([df_missing,\n",
    "                            missing_data(df)['Percent'].to_frame(name=n_df)],\n",
    "                           axis=1)"
   ]
  },
  {
   "cell_type": "code",
   "execution_count": 21,
   "metadata": {
    "colab": {
     "base_uri": "https://localhost:8080/",
     "height": 281
    },
    "executionInfo": {
     "elapsed": 112183,
     "status": "ok",
     "timestamp": 1607418652399,
     "user": {
      "displayName": "Maryse Muller",
      "photoUrl": "",
      "userId": "13230828717959946182"
     },
     "user_tz": -60
    },
    "id": "LGRO5LFB2TdP",
    "outputId": "b600cc07-f2b9-4747-d936-161b720dfd87"
   },
   "outputs": [
    {
     "data": {
      "image/png": "[encoded data removed]",
      "text/plain": [
       "<Figure size 640x480 with 1 Axes>"
      ]
     },
     "metadata": {},
     "output_type": "display_data"
    }
   ],
   "source": [
    "# number of columns of each data table\n",
    "\n",
    "colors = sns.color_palette('tab10')[:df_missing.shape[0]]\n",
    "df_missing.count().plot.barh(ec='k', color=colors, width=0.8)\n",
    "plt.title('Number of columns for each data table', fontweight='bold')\n",
    "plt.grid()"
   ]
  },
  {
   "cell_type": "code",
   "execution_count": 22,
   "metadata": {
    "colab": {
     "base_uri": "https://localhost:8080/",
     "height": 133
    },
    "executionInfo": {
     "elapsed": 112161,
     "status": "ok",
     "timestamp": 1607418652403,
     "user": {
      "displayName": "Maryse Muller",
      "photoUrl": "",
      "userId": "13230828717959946182"
     },
     "user_tz": -60
    },
    "id": "d0Brup4h3ZTp",
    "outputId": "f47b03b6-a330-4f8a-c02e-a75268feb917"
   },
   "outputs": [
    {
     "data": {
      "text/html": [
       "<div>\n",
       "<style scoped>\n",
       "    .dataframe tbody tr th:only-of-type {\n",
       "        vertical-align: middle;\n",
       "    }\n",
       "\n",
       "    .dataframe tbody tr th {\n",
       "        vertical-align: top;\n",
       "    }\n",
       "\n",
       "    .dataframe thead th {\n",
       "        text-align: right;\n",
       "    }\n",
       "</style>\n",
       "<table border=\"1\" class=\"dataframe\">\n",
       "  <thead>\n",
       "    <tr style=\"text-align: right;\">\n",
       "      <th></th>\n",
       "      <th>data_table</th>\n",
       "      <th>column</th>\n",
       "      <th>missing_pct</th>\n",
       "    </tr>\n",
       "  </thead>\n",
       "  <tbody>\n",
       "    <tr>\n",
       "      <th>175</th>\n",
       "      <td>app_train</td>\n",
       "      <td>FLOORSMAX_AVG</td>\n",
       "      <td>49.76</td>\n",
       "    </tr>\n",
       "    <tr>\n",
       "      <th>219</th>\n",
       "      <td>app_train</td>\n",
       "      <td>FLAG_DOCUMENT_15</td>\n",
       "      <td>0.00</td>\n",
       "    </tr>\n",
       "    <tr>\n",
       "      <th>252</th>\n",
       "      <td>app_train</td>\n",
       "      <td>NAME_FAMILY_STATUS</td>\n",
       "      <td>0.00</td>\n",
       "    </tr>\n",
       "  </tbody>\n",
       "</table>\n",
       "</div>"
      ],
      "text/plain": [
       "    data_table              column  missing_pct\n",
       "175  app_train       FLOORSMAX_AVG        49.76\n",
       "219  app_train    FLAG_DOCUMENT_15         0.00\n",
       "252  app_train  NAME_FAMILY_STATUS         0.00"
      ]
     },
     "execution_count": 22,
     "metadata": {},
     "output_type": "execute_result"
    }
   ],
   "source": [
    "# rearrange the ratio of missing values in each columns\n",
    "\n",
    "df_missing_pct = df_missing.T.stack().reset_index()\n",
    "df_missing_pct.columns = ['data_table', 'column', 'missing_pct']\n",
    "df_missing_pct.sample(3)"
   ]
  },
  {
   "cell_type": "code",
   "execution_count": 23,
   "metadata": {
    "colab": {
     "base_uri": "https://localhost:8080/",
     "height": 307
    },
    "executionInfo": {
     "elapsed": 112488,
     "status": "ok",
     "timestamp": 1607418652757,
     "user": {
      "displayName": "Maryse Muller",
      "photoUrl": "",
      "userId": "13230828717959946182"
     },
     "user_tz": -60
    },
    "id": "csD00Z461wxd",
    "outputId": "953c9aaf-c3b5-48a8-ab2c-2613a5177255"
   },
   "outputs": [
    {
     "data": {
      "image/png": "[encoded data removed]",
      "text/plain": [
       "<Figure size 600x300 with 1 Axes>"
      ]
     },
     "metadata": {},
     "output_type": "display_data"
    }
   ],
   "source": [
    "sns.stripplot(x='data_table', y='missing_pct', data=df_missing_pct,\n",
    "              linewidth=1, alpha = 0.5, size=7)\n",
    "plt.gcf().set_size_inches(6,3)\n",
    "plt.xticks(rotation=45, ha='right')\n",
    "ax = plt.gca()\n",
    "ax.set_ylabel('Missing value ratio (%)')\n",
    "ax.set_xlabel('Data tables')\n",
    "ax.set_title('Ratio of missing values in the columns of each data table',\n",
    "             fontweight='bold', pad=15)\n",
    "plt.grid()"
   ]
  },
  {
   "cell_type": "markdown",
   "metadata": {
    "id": "E5heCgv9SdwI"
   },
   "source": [
    "## Merging and aggregations"
   ]
  },
  {
   "cell_type": "markdown",
   "metadata": {
    "id": "HzIjmgEnghr9"
   },
   "source": [
    "### Table columns descriptions"
   ]
  },
  {
   "cell_type": "markdown",
   "metadata": {
    "id": "TtppropxGDqr"
   },
   "source": [
    "**application_train and application_test (Main tables, ou r train ans test samples | target | info about loan and loan applicant at application time))**"
   ]
  },
  {
   "cell_type": "markdown",
   "metadata": {
    "id": "xJGp-XNfGJid"
   },
   "source": [
    "Many operations for each customer : \n",
    "- CREDIT_ACTIVE : If the credit has been totally payed\n",
    "- DAYS_CREDIT : Number of days since the last demand\n",
    "- CREDIT_DAY_OVERDUE : Number of days of late payment\n",
    "- DAYS_CREDIT_ENDDATE : Days left before end of credit. Negative if credit has ended.  (positive and negative values give the same information as CREDIT_ACTIVE)\n",
    "- DAYS_ENDDATE_FACT : End of credit date. (same information than DAYS_CREDIT_ENDDATE)\n",
    "- AMT_CREDIT_MAX_OVERDUE : Total amount of overdue\n",
    "- CNT_CREDIT_PROLONG Nombre : Number of times the credit has been delayed\n",
    "- AMT_CREDIT_SUM : Total sum of the bureau loan\n",
    "- AMT_CREDIT_SUM_DEBT : Sum left to pay\n",
    "- AMT_CREDIT_SUM_LIMIT : Limit amount autorized for the loan\n",
    "- AMT_CREDIT_SUM_OVERDUE : Amount of actual overdue\n",
    "- CREDIT_TYPE : Kind of way to pay\n",
    "- DAYS_CREDIT_UPDATE : Last update of informations\n",
    "- AMT_ANNUITY : Amount payed each year "
   ]
  },
  {
   "cell_type": "markdown",
   "metadata": {
    "id": "pnSqhp-EGMwv"
   },
   "source": [
    "**bureau_balance (Monthly balance of credits in Credit Bureau)**"
   ]
  },
  {
   "cell_type": "markdown",
   "metadata": {
    "id": "xHI2MBy1GRt7"
   },
   "source": [
    "MONTHS_BALANCE : Months of installment for application <br>\n",
    "STATUS : If number, number of months of failure to pay"
   ]
  },
  {
   "cell_type": "markdown",
   "metadata": {
    "id": "jhP4EZX8GS7x"
   },
   "source": [
    "**bureau (Appliation data from previous loans that client got from other institutions ans that were reported to Credit Bureau)**"
   ]
  },
  {
   "cell_type": "markdown",
   "metadata": {
    "id": "jDLbg9zrFf7R"
   },
   "source": [
    "\n",
    "\n",
    "\n",
    "\n",
    "Equivalent of Bureau table, which list the credits the customer had in Home Credit, a the main information about it.<br>\n",
    "- NAME_CONTRACT_TYPE, \n",
    "- AMT_ANNUITY : total anual repay\n",
    "- AMT_APPLICATION : how much asked, \n",
    "- AMT_CREDIT : total credit, \n",
    "- AMT_GOODS_PRICE : total of the good to buy (can be correlated to AMT_ANNUITY),\n",
    "- WEEKDAY_APPR_PROCESS_START : day in which the client asked, \n",
    "- HOUR_APPR_PROCESS_START : hour in which the client applied,\n",
    "- FLAG_LAST_APPL_PER_CONTRACT' : sometimes the client askedagain after being aproved, \n",
    "- NFLAG_LAST_APPL_IN_DAY : if the client contract or try an other credit in the same day,\n",
    "- NAME_CASH_LOAN_PURPOSE : purpose,\n",
    "- NAME_CONTRACT_STATUS : If approved or refused, \n",
    "- DAYS_DECISION : number of days to make the decision, \n",
    "- NAME_PAYMENT_TYPE : payment type,\n",
    "- CODE_REJECT_REASON' : reject reason, \n",
    "- NAME_TYPE_SUITE : who accompagned client, \n",
    "- NAME_CLIENT_TYPE : old or new client,\n",
    "- NAME_GOODS_CATEGORY : product bought, \n",
    "- NAME_PORTFOLIO : cash, pos, or car, \n",
    "- NAME_PRODUCT_TYPE,\n",
    "- CHANNEL_TYPE : way to attract client, \n",
    "- CNT_PAYMENT : end of the last payment when asked, ,\n",
    "- DAYS_FIRST_DRAWING : olest diturbance in last application, \n",
    "- DAYS_FIRST_DUE : Supposed first due of previous credit,\n",
    "- DAYS_LAST_DUE_1ST_VERSION: first due of previous credit, \n",
    "- DAYS_LAST_DUE : date last due, \n",
    "- DAYS_TERMINATION : date supposed last due, \n",
    "- NFLAG_INSURED_ON_APPROVAL : requested an insurance or not\n",
    "\n",
    "\n",
    "\n",
    "\n"
   ]
  },
  {
   "cell_type": "markdown",
   "metadata": {
    "id": "U-T6twk2GfCt"
   },
   "source": [
    "**POS_CASH_balance (Monthly balance of clients previous loans in Home Credit)**"
   ]
  },
  {
   "cell_type": "markdown",
   "metadata": {
    "id": "Lb7ETyYKGght"
   },
   "source": [
    "\n",
    "- MONTHS_BALANCE : month of balance from application\n",
    "- CNT_INSTALMENT : Term of previous credit\n",
    "- CNT_INSTALMENT_FUTURE : Number of installment left to pay\n",
    "- NAME_CONTRACT_STATUS : active or not\n",
    "- SK_DPD : days past due on the month\n",
    "- SK_DPD_DEF : day past du where the small mounth or small date are removed / tolerated\n"
   ]
  },
  {
   "cell_type": "markdown",
   "metadata": {
    "id": "wh492qvsGluP"
   },
   "source": [
    "**credit_card_balance (Monthly balance of clients previous credit card loans in Home Credit)**"
   ]
  },
  {
   "cell_type": "markdown",
   "metadata": {
    "id": "v20ZsRFUGmFc"
   },
   "source": [
    "\n",
    "- MONTHS_BALANCE : Month of the balance from application\n",
    "- AMT_BALANCE : amount of the balance for the month\n",
    "- AMT_CREDIT_LIMIT_ACTUAL : credit card limit during the month\n",
    "- AMT_DRAWINGS_ATM_CURRENT : amount taken at ATM with the credit card\n",
    "- AMT_DRAWINGS_CURRENT : Amount used with the credit card\n",
    "- AMT_DRAWINGS_OTHER_CURRENT :other amount use with the creedit card ? \n",
    "- AMT_DRAWINGS_POS_CURRENT : amount taken from AMT or bought during the month\n",
    "- AMT_INST_MIN_REGULARITY : minimal installment\n",
    "- AMT_PAYMENT_CURRENT : Payement for the month\n",
    "- AMT_PAYMENT_TOTAL_CURRENT : Total payment for the month ? \n",
    "- CNT_DRAWINGS_ATM_CURRENT : number of drawing at ATM\n",
    "- CNT_DRAWINGS_CURRENT : number of use of credit card\n",
    "- CNT_DRAWINGS_OTHER_CURRENT : number of other use of credit card ?\n",
    "- CNT_DRAWINGS_POS_CURRENT : total number of use during the month\n",
    "- CNT_INSTALMENT_MATURE_CUM : number of payed installments\n",
    "- NAME_CONTRACT_STATUS : active or not\n",
    "- SK_DPD : days past due on the month\n",
    "- SK_DPD_DEF : day past du where the small mounth or small date are removed / tolerated\n"
   ]
  },
  {
   "cell_type": "markdown",
   "metadata": {
    "id": "A8ySKToSGoc1"
   },
   "source": [
    "**POS_CASH_BALANCE (monthly balance of clients' previous loans in Home Credit)**"
   ]
  },
  {
   "cell_type": "markdown",
   "metadata": {
    "id": "hNI0VZiGGos5"
   },
   "source": [
    "\n",
    "Common features to POS and Credit, linked to specific installments\n",
    "- NUM_INSTALMENT_VERSION : version of installment\n",
    "- NUM_INSTALMENT_NUMBER : which installment is considered\n",
    "- DAYS_INSTALMENT : When was the installment supposed to be payed\n",
    "- DAYS_ENTRY_PAYMENT : When was it payed\n",
    "- AMT_INSTALMENT : Which amount was supposed to be payed\n",
    "- AMT_PAYMENT : How much was actually payed"
   ]
  },
  {
   "cell_type": "markdown",
   "metadata": {
    "id": "qUdWZosKIB-1"
   },
   "source": [
    "**installments_payments (Past payment data for each installmants of previous credits in Home Credit related to loans in our sample)**"
   ]
  },
  {
   "cell_type": "markdown",
   "metadata": {
    "id": "Vz8yc-EPINUw"
   },
   "source": [
    "- SK_ID_PREV\n",
    "- SK_ID_CURR\n",
    "- NUM_INSTALMENT_VERSION\n",
    "- NUM_INSTALMENT_NUMBER\n",
    "- DAYS_INSTALMENT\n",
    "- DAYS_ENTRY_PAYMENT\n",
    "- AMT_INSTALMENT\n",
    "- AMT_PAYMENT"
   ]
  },
  {
   "cell_type": "markdown",
   "metadata": {
    "id": "O9j1rhjBIf2F"
   },
   "source": [
    "**previous_application (Application data of clients previous loans in Home Credit)**"
   ]
  },
  {
   "cell_type": "markdown",
   "metadata": {
    "id": "oG6__uUaIogt"
   },
   "source": [
    "SK_ID_PREV\n",
    "SK_ID_CURR\n",
    "NAME_CONTRACT_TYPE\n",
    "AMT_ANNUITY\n",
    "AMT_APPLICATION\n",
    "AMT_CREDIT\n",
    "AMT_DOWN_PAYMENT\n",
    "AMT_GOODS_PRICE\n",
    "WEEKDAY_APPR_PROCESS_START\n",
    "HOUR_APPR_PROCESS_START\n",
    "FLAG_LAST_APPL_PER_CONTRACT\n",
    "NFLAG_LAST_APPL_IN_DAY\n",
    "RATE_DOWN_PAYMENT\n",
    "RATE_INTEREST_PRIMARY\n",
    "RATE_INTEREST_PRIVILEGED\n",
    "NAME_CASH_LOAN_PURPOSE\n",
    "NAME_CONTRACT_STATUS\n",
    "DAYS_DECISION\n",
    "NAME_PAYMENT_TYPE\n",
    "CODE_REJECT_REASON\n",
    "NAME_TYPE_SUITE\n",
    "NAME_CLIENT_TYPE\n",
    "NAME_GOODS_CATEGORY\n",
    "NAME_PORTFOLIO\n",
    "NAME_PRODUCT_TYPE\n",
    "CHANNEL_TYPE\n",
    "SELLERPLACE_AREA\n",
    "NAME_SELLER_INDUSTRY\n",
    "CNT_PAYMENT\n",
    "NAME_YIELD_GROUP\n",
    "PRODUCT_COMBINATION\n",
    "DAYS_FIRST_DRAWING\n",
    "DAYS_FIRST_DUE\n",
    "DAYS_LAST_DUE_1ST_VERSION\n",
    "DAYS_LAST_DUE\n",
    "DAYS_TERMINATION\n",
    "NFLAG_INSURED_ON_APPROVAL"
   ]
  },
  {
   "cell_type": "markdown",
   "metadata": {
    "id": "tF_smn5ISmVI"
   },
   "source": [
    "### Application train, test"
   ]
  },
  {
   "cell_type": "markdown",
   "metadata": {
    "_uuid": "a7e4771a4129291cecce72774ca1066f78d697fe",
    "id": "ANM34QQOvm6k"
   },
   "source": [
    "#### Check unique values"
   ]
  },
  {
   "cell_type": "markdown",
   "metadata": {
    "id": "MdFqfwAP-w3L"
   },
   "source": [
    "Let's check if the unique values are correctly distributed in each categorical columns of the training and test test."
   ]
  },
  {
   "cell_type": "code",
   "execution_count": 24,
   "metadata": {
    "_uuid": "119dbe64fbb52eaff6f64642bd87f8f427a37261",
    "colab": {
     "base_uri": "https://localhost:8080/"
    },
    "executionInfo": {
     "elapsed": 112756,
     "status": "ok",
     "timestamp": 1607418653049,
     "user": {
      "displayName": "Maryse Muller",
      "photoUrl": "",
      "userId": "13230828717959946182"
     },
     "user_tz": -60
    },
    "id": "EuIzyftDvm6k",
    "outputId": "77a15591-956c-49e8-9a0e-5fbb2520db70"
   },
   "outputs": [
    {
     "name": "stdout",
     "output_type": "stream",
     "text": [
      "NAME_CONTRACT_TYPE OK: same unique values in training set and test set\n",
      "feature CODE_GENDER has DIFFERENT values in training set and test set: ---->   {'XNA'}\n",
      "1 extra values in TRAIN\n",
      "FLAG_OWN_CAR OK: same unique values in training set and test set\n",
      "FLAG_OWN_REALTY OK: same unique values in training set and test set\n",
      "NAME_TYPE_SUITE OK: same unique values in training set and test set\n",
      "feature NAME_INCOME_TYPE has DIFFERENT values in training set and test set: ---->   {'Maternity leave'}\n",
      "1 extra values in TRAIN\n",
      "NAME_EDUCATION_TYPE OK: same unique values in training set and test set\n",
      "feature NAME_FAMILY_STATUS has DIFFERENT values in training set and test set: ---->   {'Unknown'}\n",
      "1 extra values in TRAIN\n",
      "NAME_HOUSING_TYPE OK: same unique values in training set and test set\n",
      "OCCUPATION_TYPE OK: same unique values in training set and test set\n",
      "WEEKDAY_APPR_PROCESS_START OK: same unique values in training set and test set\n",
      "ORGANIZATION_TYPE OK: same unique values in training set and test set\n",
      "FONDKAPREMONT_MODE OK: same unique values in training set and test set\n",
      "HOUSETYPE_MODE OK: same unique values in training set and test set\n",
      "WALLSMATERIAL_MODE OK: same unique values in training set and test set\n",
      "EMERGENCYSTATE_MODE OK: same unique values in training set and test set\n"
     ]
    }
   ],
   "source": [
    "# loop over the object columns of the application train data table\n",
    "\n",
    "for c in dict_df['app_train'].columns[dict_df['app_train'].dtypes == 'object']:\n",
    "    c_train = set(dict_df['app_train'][c].unique())\n",
    "    c_test = set(dict_df['app_test'][c].unique())\n",
    "    diff = c_train ^ c_test\n",
    "    len_diff = len(list(c_train)) - len(list(c_test))\n",
    "    if len(diff) > 0:\n",
    "        print('feature ' + c + \\\n",
    "' has DIFFERENT values in training set and test set: ---->  ', diff)\n",
    "        print(len_diff, 'extra values in TRAIN') if len_diff > 0 else print(len_diff, 'Extra values in TEST') \n",
    "    else:\n",
    "        print(f'{c} OK: same unique values in training set and test set')"
   ]
  },
  {
   "cell_type": "code",
   "execution_count": 25,
   "metadata": {
    "_uuid": "0e4d19f09a742e4233d20fc95759efd17592903d",
    "executionInfo": {
     "elapsed": 112756,
     "status": "ok",
     "timestamp": 1607418653052,
     "user": {
      "displayName": "Maryse Muller",
      "photoUrl": "",
      "userId": "13230828717959946182"
     },
     "user_tz": -60
    },
    "id": "4hpsz9xtvm6l"
   },
   "outputs": [],
   "source": [
    "# harmonize unique values in 'app_train' and 'app_test'\n",
    "\n",
    "dict_df['app_train']['CODE_GENDER'] = \\\n",
    "    dict_df['app_train']['CODE_GENDER'].map(lambda x: x if x != 'XNA' else np.nan)\n",
    "dict_df['app_train']['NAME_INCOME_TYPE'] = \\\n",
    "    dict_df['app_train']['NAME_INCOME_TYPE'].map(lambda x: x if x != 'Maternity leave' else np.nan)\n",
    "dict_df['app_train']['NAME_FAMILY_STATUS'] = \\\n",
    "    dict_df['app_train']['NAME_FAMILY_STATUS'].map(lambda x: x if x != 'Unknown' else np.nan)"
   ]
  },
  {
   "cell_type": "markdown",
   "metadata": {
    "_uuid": "40d05cb073ac27c94a6efc0974dac7500ff60ef1",
    "id": "hhNY3rjZvm6l"
   },
   "source": [
    "#### dropping quantitative features with small variance"
   ]
  },
  {
   "cell_type": "markdown",
   "metadata": {
    "id": "wqkyuo5FRBXv"
   },
   "source": [
    "training set"
   ]
  },
  {
   "cell_type": "code",
   "execution_count": 28,
   "metadata": {
    "colab": {
     "base_uri": "https://localhost:8080/",
     "height": 306
    },
    "executionInfo": {
     "elapsed": 114343,
     "status": "ok",
     "timestamp": 1607418654665,
     "user": {
      "displayName": "Maryse Muller",
      "photoUrl": "",
      "userId": "13230828717959946182"
     },
     "user_tz": -60
    },
    "id": "2mqEiPtHHV_o",
    "outputId": "a28e0883-d7b5-48a1-e872-3fa788521910"
   },
   "outputs": [],
   "source": [
    "# # Checking feature with std greater than 0.01 (relative) \n",
    "\n",
    "# df_desc = dict_df['app_train'].describe().T\n",
    "# df_desc = df_desc.assign(rel_std=df_desc['std']/(df_desc['max']-df_desc['min']))\n",
    "# low_var_cols_train = df_desc[df_desc['rel_std']<0.01].index\n",
    "# df_desc.loc[low_var_cols_train]"
   ]
  },
  {
   "cell_type": "code",
   "execution_count": 29,
   "metadata": {
    "_uuid": "0425104658a4fed0ed6d55afbb6c873d2ac3b2d2",
    "colab": {
     "base_uri": "https://localhost:8080/",
     "height": 191
    },
    "executionInfo": {
     "elapsed": 114672,
     "status": "ok",
     "timestamp": 1607418655024,
     "user": {
      "displayName": "Maryse Muller",
      "photoUrl": "",
      "userId": "13230828717959946182"
     },
     "user_tz": -60
    },
    "id": "HQbH2el_vm6l",
    "outputId": "1cafeae4-6d3c-484c-f6b8-869e7d7824b8"
   },
   "outputs": [],
   "source": [
    "# # Selection of feature with std greater than 0.01 (absolute) \n",
    "\n",
    "# df_num = dict_df['app_train'].select_dtypes(include=[np.number])\n",
    "# mask_cols = (df_num.std(axis = 0) < .01).values\n",
    "# low_var_cols_train = df_num.columns[mask_cols]\n",
    "# dict_df['app_train'][low_var_cols_train].describe().T"
   ]
  },
  {
   "cell_type": "markdown",
   "metadata": {
    "id": "17iNS5NkRE_Q"
   },
   "source": [
    "test set"
   ]
  },
  {
   "cell_type": "code",
   "execution_count": 30,
   "metadata": {
    "colab": {
     "base_uri": "https://localhost:8080/",
     "height": 105
    },
    "executionInfo": {
     "elapsed": 114937,
     "status": "ok",
     "timestamp": 1607418655318,
     "user": {
      "displayName": "Maryse Muller",
      "photoUrl": "",
      "userId": "13230828717959946182"
     },
     "user_tz": -60
    },
    "id": "FZi-ZV1EQRFB",
    "outputId": "bf4bbe16-64d8-47e3-961b-28e535f69427"
   },
   "outputs": [],
   "source": [
    "# # Checking feature with std greater than 0.01 (relative) \n",
    "\n",
    "# df_desc = dict_df['app_test'].describe().T\n",
    "# df_desc = df_desc.assign(rel_std=df_desc['std']/(df_desc['max']-df_desc['min']))\n",
    "# low_var_cols_test = df_desc[df_desc['rel_std']<0.01].index\n",
    "# df_desc.loc[low_var_cols_test]"
   ]
  },
  {
   "cell_type": "code",
   "execution_count": 31,
   "metadata": {
    "_uuid": "0425104658a4fed0ed6d55afbb6c873d2ac3b2d2",
    "colab": {
     "base_uri": "https://localhost:8080/",
     "height": 421
    },
    "executionInfo": {
     "elapsed": 115256,
     "status": "ok",
     "timestamp": 1607418655662,
     "user": {
      "displayName": "Maryse Muller",
      "photoUrl": "",
      "userId": "13230828717959946182"
     },
     "user_tz": -60
    },
    "id": "m5RbURrnQRFC",
    "outputId": "f1ac7eae-7778-4ea1-a72e-f2f9e9f4835b"
   },
   "outputs": [],
   "source": [
    "# # Selection of feature with std greater than 0.01 (absolute) \n",
    "\n",
    "# df_num = dict_df['app_test'].select_dtypes(include=[np.number])\n",
    "# mask_cols = (df_num.std(axis = 0) < .01).values\n",
    "# low_var_cols_test = df_num.columns[mask_cols]\n",
    "# dict_df['app_test'][low_var_cols_test].describe().T"
   ]
  },
  {
   "cell_type": "code",
   "execution_count": 32,
   "metadata": {
    "colab": {
     "base_uri": "https://localhost:8080/"
    },
    "executionInfo": {
     "elapsed": 115238,
     "status": "ok",
     "timestamp": 1607418655666,
     "user": {
      "displayName": "Maryse Muller",
      "photoUrl": "",
      "userId": "13230828717959946182"
     },
     "user_tz": -60
    },
    "id": "ZPaqGrcURYh7",
    "outputId": "6df18425-dc41-418b-9bee-2c3a43a8abbb"
   },
   "outputs": [],
   "source": [
    "# # Drop all the columns with low absolute variance\n",
    "# low_var_cols = list(set(low_var_cols_train) | set(low_var_cols_test))\n",
    "# print(low_var_cols)"
   ]
  },
  {
   "cell_type": "code",
   "execution_count": 33,
   "metadata": {
    "_uuid": "880be7369bbb342d2d4be7112023faf32dd23614",
    "colab": {
     "base_uri": "https://localhost:8080/"
    },
    "executionInfo": {
     "elapsed": 115217,
     "status": "ok",
     "timestamp": 1607418655667,
     "user": {
      "displayName": "Maryse Muller",
      "photoUrl": "",
      "userId": "13230828717959946182"
     },
     "user_tz": -60
    },
    "id": "22Ol1ggVvm6l",
    "outputId": "1ce1c0fd-ec38-4e81-f67c-e1da93bf7581"
   },
   "outputs": [],
   "source": [
    "# dict_df['app_train'] = dict_df['app_train'].drop(columns=low_var_cols)\n",
    "# dict_df['app_test'] = dict_df['app_test'].drop(columns=low_var_cols)\n",
    "# print(dict_df['app_train'].shape, dict_df['app_test'].shape) # 0.1585"
   ]
  },
  {
   "cell_type": "code",
   "execution_count": 26,
   "metadata": {
    "colab": {
     "base_uri": "https://localhost:8080/"
    },
    "executionInfo": {
     "elapsed": 115188,
     "status": "ok",
     "timestamp": 1607418655668,
     "user": {
      "displayName": "Maryse Muller",
      "photoUrl": "",
      "userId": "13230828717959946182"
     },
     "user_tz": -60
    },
    "id": "X6l4K9BvSFrP",
    "outputId": "96fad81a-21cc-4aa2-87bc-3f69a5f4d414"
   },
   "outputs": [
    {
     "data": {
      "text/plain": [
       "{'TARGET'}"
      ]
     },
     "execution_count": 26,
     "metadata": {},
     "output_type": "execute_result"
    }
   ],
   "source": [
    "set(dict_df['app_train'].columns) - set(dict_df['app_test'].columns)"
   ]
  },
  {
   "cell_type": "markdown",
   "metadata": {
    "_uuid": "821b810f22e400bc3858cdc9ba3058ea87579f1b",
    "id": "BqPqYIIGvm6l"
   },
   "source": [
    "### bureau_balance -> bureau"
   ]
  },
  {
   "cell_type": "code",
   "execution_count": 27,
   "metadata": {
    "colab": {
     "base_uri": "https://localhost:8080/"
    },
    "executionInfo": {
     "elapsed": 117560,
     "status": "ok",
     "timestamp": 1607418658065,
     "user": {
      "displayName": "Maryse Muller",
      "photoUrl": "",
      "userId": "13230828717959946182"
     },
     "user_tz": -60
    },
    "id": "Sqg9EP5bNmhh",
    "outputId": "b60a3a75-43ec-4027-e39b-0122be2f7a51"
   },
   "outputs": [
    {
     "data": {
      "text/plain": [
       "C    13646993\n",
       "0     7499507\n",
       "X     5810482\n",
       "1      242347\n",
       "5       62406\n",
       "2       23419\n",
       "3        8924\n",
       "4        5847\n",
       "Name: STATUS, dtype: int64"
      ]
     },
     "execution_count": 27,
     "metadata": {},
     "output_type": "execute_result"
    }
   ],
   "source": [
    "dict_df['bur_bal']['STATUS'].value_counts()"
   ]
  },
  {
   "cell_type": "code",
   "execution_count": 28,
   "metadata": {
    "executionInfo": {
     "elapsed": 120395,
     "status": "ok",
     "timestamp": 1607418660904,
     "user": {
      "displayName": "Maryse Muller",
      "photoUrl": "",
      "userId": "13230828717959946182"
     },
     "user_tz": -60
    },
    "id": "8fA0nMJbRQBo"
   },
   "outputs": [],
   "source": [
    "# Change 0 to 'N' in STATUS\n",
    "\n",
    "dict_df['bur_bal'].loc[:,'STATUS'] = \\\n",
    "    dict_df['bur_bal'].loc[:,'STATUS'].replace({'0': 'N'})"
   ]
  },
  {
   "cell_type": "code",
   "execution_count": 29,
   "metadata": {
    "executionInfo": {
     "elapsed": 134785,
     "status": "ok",
     "timestamp": 1607418675299,
     "user": {
      "displayName": "Maryse Muller",
      "photoUrl": "",
      "userId": "13230828717959946182"
     },
     "user_tz": -60
    },
    "id": "QXyFiKC6MCu2"
   },
   "outputs": [],
   "source": [
    "# copy content of STATUS in a new column and replace letters with 0\n",
    "\n",
    "dict_df['bur_bal']['STATUS_MONTHS_FAIL'] = \\\n",
    "                pd.to_numeric(dict_df['bur_bal']['STATUS'],\n",
    "                            errors='coerce').fillna(0)"
   ]
  },
  {
   "cell_type": "code",
   "execution_count": 30,
   "metadata": {
    "executionInfo": {
     "elapsed": 149401,
     "status": "ok",
     "timestamp": 1607418689918,
     "user": {
      "displayName": "Maryse Muller",
      "photoUrl": "",
      "userId": "13230828717959946182"
     },
     "user_tz": -60
    },
    "id": "-Q250pp4O4Bc"
   },
   "outputs": [],
   "source": [
    "# keep categorical values in STATUS, change numbers to 'F'\n",
    "\n",
    "mask = pd.to_numeric(dict_df['bur_bal']['STATUS'],\n",
    "                     errors='coerce').notna()\n",
    "\n",
    "dict_df['bur_bal'].loc[mask, 'STATUS'] = 'F'"
   ]
  },
  {
   "cell_type": "code",
   "execution_count": 31,
   "metadata": {
    "_uuid": "3ae27a55a60e02efe7dfc0691dc948150c7276fa",
    "colab": {
     "base_uri": "https://localhost:8080/"
    },
    "executionInfo": {
     "elapsed": 151450,
     "status": "ok",
     "timestamp": 1607418691991,
     "user": {
      "displayName": "Maryse Muller",
      "photoUrl": "",
      "userId": "13230828717959946182"
     },
     "user_tz": -60
    },
    "id": "IVsdwKAYvm6l",
    "outputId": "8f7c9aaa-74b0-4529-c6ff-5ac799f955a2"
   },
   "outputs": [
    {
     "data": {
      "text/plain": [
       "SK_ID_BUREAU          False\n",
       "MONTHS_BALANCE        False\n",
       "STATUS_MONTHS_FAIL    False\n",
       "Name: std, dtype: bool"
      ]
     },
     "execution_count": 31,
     "metadata": {},
     "output_type": "execute_result"
    }
   ],
   "source": [
    "# check quantitative variables with less than 0.01 absolute std\n",
    "\n",
    "dict_df['bur_bal'].describe().loc['std'] < .01"
   ]
  },
  {
   "cell_type": "code",
   "execution_count": 32,
   "metadata": {
    "colab": {
     "base_uri": "https://localhost:8080/"
    },
    "executionInfo": {
     "elapsed": 151426,
     "status": "ok",
     "timestamp": 1607418691992,
     "user": {
      "displayName": "Maryse Muller",
      "photoUrl": "",
      "userId": "13230828717959946182"
     },
     "user_tz": -60
    },
    "id": "gkAHYhA2QxyZ",
    "outputId": "e9ae8fa3-9916-4165-83b0-b8c125ad0bb9"
   },
   "outputs": [
    {
     "data": {
      "text/plain": [
       "Index(['SK_ID_BUREAU', 'MONTHS_BALANCE', 'STATUS', 'STATUS_MONTHS_FAIL'], dtype='object')"
      ]
     },
     "execution_count": 32,
     "metadata": {},
     "output_type": "execute_result"
    }
   ],
   "source": [
    "dict_df['bur_bal'].columns"
   ]
  },
  {
   "cell_type": "markdown",
   "metadata": {
    "_uuid": "284460f3a8c66a58336174961add50012c7c2fe8",
    "id": "9XDeGOPZvm6l"
   },
   "source": [
    "#### Bureau: loading, converting to numeric, dropping"
   ]
  },
  {
   "cell_type": "code",
   "execution_count": 33,
   "metadata": {
    "colab": {
     "base_uri": "https://localhost:8080/"
    },
    "executionInfo": {
     "elapsed": 152293,
     "status": "ok",
     "timestamp": 1607418692882,
     "user": {
      "displayName": "Maryse Muller",
      "photoUrl": "",
      "userId": "13230828717959946182"
     },
     "user_tz": -60
    },
    "id": "jKG0Vx8iu31G",
    "outputId": "b29ff960-2e69-4525-adb1-84da169b630f"
   },
   "outputs": [
    {
     "data": {
      "text/plain": [
       "SK_ID_CURR                False\n",
       "SK_ID_BUREAU              False\n",
       "DAYS_CREDIT               False\n",
       "CREDIT_DAY_OVERDUE        False\n",
       "DAYS_CREDIT_ENDDATE       False\n",
       "DAYS_ENDDATE_FACT         False\n",
       "AMT_CREDIT_MAX_OVERDUE    False\n",
       "CNT_CREDIT_PROLONG        False\n",
       "AMT_CREDIT_SUM            False\n",
       "AMT_CREDIT_SUM_DEBT       False\n",
       "AMT_CREDIT_SUM_LIMIT      False\n",
       "AMT_CREDIT_SUM_OVERDUE    False\n",
       "DAYS_CREDIT_UPDATE        False\n",
       "AMT_ANNUITY               False\n",
       "Name: std, dtype: bool"
      ]
     },
     "execution_count": 33,
     "metadata": {},
     "output_type": "execute_result"
    }
   ],
   "source": [
    "# check quantitative variables with less than 0.01 absolute std\n",
    "\n",
    "dict_df['bur'].describe().loc['std'] < .01"
   ]
  },
  {
   "cell_type": "markdown",
   "metadata": {
    "_uuid": "34cce46e1bcd3d4e1f84023a84474e25e531a2dc",
    "id": "JiO-1x2lvm6n"
   },
   "source": [
    "#### agregating Bureau_balance features"
   ]
  },
  {
   "cell_type": "code",
   "execution_count": 34,
   "metadata": {
    "colab": {
     "base_uri": "https://localhost:8080/"
    },
    "executionInfo": {
     "elapsed": 152271,
     "status": "ok",
     "timestamp": 1607418692883,
     "user": {
      "displayName": "Maryse Muller",
      "photoUrl": "",
      "userId": "13230828717959946182"
     },
     "user_tz": -60
    },
    "id": "qp07qRSnu1nm",
    "outputId": "cbfc929a-3ac5-4509-c1ac-e1f54916ffe2"
   },
   "outputs": [
    {
     "name": "stdout",
     "output_type": "stream",
     "text": [
      "Index(['SK_ID_BUREAU', 'MONTHS_BALANCE', 'STATUS', 'STATUS_MONTHS_FAIL'], dtype='object')\n"
     ]
    }
   ],
   "source": [
    "print(dict_df['bur_bal'].columns)"
   ]
  },
  {
   "cell_type": "code",
   "execution_count": 35,
   "metadata": {
    "executionInfo": {
     "elapsed": 324457,
     "status": "ok",
     "timestamp": 1607418865072,
     "user": {
      "displayName": "Maryse Muller",
      "photoUrl": "",
      "userId": "13230828717959946182"
     },
     "user_tz": -60
    },
    "id": "BGmW4ujJEvMZ"
   },
   "outputs": [],
   "source": [
    "# aggregate along 'SK_ID_BUREAU'\n",
    "\n",
    "def abs_min(x): return np.abs(np.min(x))\n",
    "def mode(x): return x.mode()[0]\n",
    "\n",
    "li_agg = {'MONTHS_BALANCE': [abs_min],\n",
    "          'STATUS': [mode, 'size'],\n",
    "          'STATUS_MONTHS_FAIL': ['mean', 'max']}\n",
    "\n",
    "dict_df['bur_bal'] = dict_df['bur_bal'].groupby('SK_ID_BUREAU').agg(li_agg)"
   ]
  },
  {
   "cell_type": "code",
   "execution_count": 36,
   "metadata": {
    "executionInfo": {
     "elapsed": 324463,
     "status": "ok",
     "timestamp": 1607418865083,
     "user": {
      "displayName": "Maryse Muller",
      "photoUrl": "",
      "userId": "13230828717959946182"
     },
     "user_tz": -60
    },
    "id": "kbm9HCOndvLe"
   },
   "outputs": [],
   "source": [
    "# flatten two levels columns indices\n",
    "\n",
    "dict_df['bur_bal'].columns = ['__'.join(tup).strip() \\\n",
    "                                for tup in dict_df['bur_bal'].columns.values]"
   ]
  },
  {
   "cell_type": "code",
   "execution_count": 37,
   "metadata": {
    "colab": {
     "base_uri": "https://localhost:8080/",
     "height": 220
    },
    "executionInfo": {
     "elapsed": 324443,
     "status": "ok",
     "timestamp": 1607418865088,
     "user": {
      "displayName": "Maryse Muller",
      "photoUrl": "",
      "userId": "13230828717959946182"
     },
     "user_tz": -60
    },
    "id": "XM8aIvOrxsI1",
    "outputId": "7b5ad41b-37bb-4c8d-cc2b-901670cfd9aa"
   },
   "outputs": [
    {
     "data": {
      "text/html": [
       "<div>\n",
       "<style scoped>\n",
       "    .dataframe tbody tr th:only-of-type {\n",
       "        vertical-align: middle;\n",
       "    }\n",
       "\n",
       "    .dataframe tbody tr th {\n",
       "        vertical-align: top;\n",
       "    }\n",
       "\n",
       "    .dataframe thead th {\n",
       "        text-align: right;\n",
       "    }\n",
       "</style>\n",
       "<table border=\"1\" class=\"dataframe\">\n",
       "  <thead>\n",
       "    <tr style=\"text-align: right;\">\n",
       "      <th></th>\n",
       "      <th>MONTHS_BALANCE__abs_min</th>\n",
       "      <th>STATUS__mode</th>\n",
       "      <th>STATUS__size</th>\n",
       "      <th>STATUS_MONTHS_FAIL__mean</th>\n",
       "      <th>STATUS_MONTHS_FAIL__max</th>\n",
       "    </tr>\n",
       "    <tr>\n",
       "      <th>SK_ID_BUREAU</th>\n",
       "      <th></th>\n",
       "      <th></th>\n",
       "      <th></th>\n",
       "      <th></th>\n",
       "      <th></th>\n",
       "    </tr>\n",
       "  </thead>\n",
       "  <tbody>\n",
       "    <tr>\n",
       "      <th>5001709</th>\n",
       "      <td>96</td>\n",
       "      <td>C</td>\n",
       "      <td>97</td>\n",
       "      <td>0.00</td>\n",
       "      <td>0.00</td>\n",
       "    </tr>\n",
       "    <tr>\n",
       "      <th>5001710</th>\n",
       "      <td>82</td>\n",
       "      <td>C</td>\n",
       "      <td>83</td>\n",
       "      <td>0.00</td>\n",
       "      <td>0.00</td>\n",
       "    </tr>\n",
       "    <tr>\n",
       "      <th>5001711</th>\n",
       "      <td>3</td>\n",
       "      <td>N</td>\n",
       "      <td>4</td>\n",
       "      <td>0.00</td>\n",
       "      <td>0.00</td>\n",
       "    </tr>\n",
       "    <tr>\n",
       "      <th>5001712</th>\n",
       "      <td>18</td>\n",
       "      <td>N</td>\n",
       "      <td>19</td>\n",
       "      <td>0.00</td>\n",
       "      <td>0.00</td>\n",
       "    </tr>\n",
       "    <tr>\n",
       "      <th>5001713</th>\n",
       "      <td>21</td>\n",
       "      <td>X</td>\n",
       "      <td>22</td>\n",
       "      <td>0.00</td>\n",
       "      <td>0.00</td>\n",
       "    </tr>\n",
       "  </tbody>\n",
       "</table>\n",
       "</div>"
      ],
      "text/plain": [
       "              MONTHS_BALANCE__abs_min STATUS__mode  STATUS__size  STATUS_MONTHS_FAIL__mean  \\\n",
       "SK_ID_BUREAU                                                                                 \n",
       "5001709                            96            C            97                      0.00   \n",
       "5001710                            82            C            83                      0.00   \n",
       "5001711                             3            N             4                      0.00   \n",
       "5001712                            18            N            19                      0.00   \n",
       "5001713                            21            X            22                      0.00   \n",
       "\n",
       "              STATUS_MONTHS_FAIL__max  \n",
       "SK_ID_BUREAU                           \n",
       "5001709                          0.00  \n",
       "5001710                          0.00  \n",
       "5001711                          0.00  \n",
       "5001712                          0.00  \n",
       "5001713                          0.00  "
      ]
     },
     "execution_count": 37,
     "metadata": {},
     "output_type": "execute_result"
    }
   ],
   "source": [
    "dict_df['bur_bal'].head()"
   ]
  },
  {
   "cell_type": "markdown",
   "metadata": {
    "id": "R4E_VA3rd1Qg"
   },
   "source": [
    "#### merging bureau_balance in to into bureau"
   ]
  },
  {
   "cell_type": "code",
   "execution_count": 38,
   "metadata": {
    "executionInfo": {
     "elapsed": 325446,
     "status": "ok",
     "timestamp": 1607418866094,
     "user": {
      "displayName": "Maryse Muller",
      "photoUrl": "",
      "userId": "13230828717959946182"
     },
     "user_tz": -60
    },
    "id": "ODCKNof414B2"
   },
   "outputs": [],
   "source": [
    "# merge 'bur_bal' into 'bur'\n",
    "\n",
    "dict_df['bur'] = dict_df['bur'].merge(dict_df['bur_bal'],\n",
    "                                      how='left',\n",
    "                                      on='SK_ID_BUREAU')"
   ]
  },
  {
   "cell_type": "code",
   "execution_count": 39,
   "metadata": {
    "executionInfo": {
     "elapsed": 325451,
     "status": "ok",
     "timestamp": 1607418866102,
     "user": {
      "displayName": "Maryse Muller",
      "photoUrl": "",
      "userId": "13230828717959946182"
     },
     "user_tz": -60
    },
    "id": "QADOnhX-13Df"
   },
   "outputs": [],
   "source": [
    "# add prefix to the name of the columns\n",
    "\n",
    "dict_df['bur'].columns = ['CB_'+col if col not in ['SK_ID_BUREAU',\n",
    "                                                  'SK_ID_CURR'] \\\n",
    "                            else col for col in dict_df['bur'].columns]"
   ]
  },
  {
   "cell_type": "code",
   "execution_count": 40,
   "metadata": {
    "colab": {
     "base_uri": "https://localhost:8080/",
     "height": 211
    },
    "executionInfo": {
     "elapsed": 325427,
     "status": "ok",
     "timestamp": 1607418866106,
     "user": {
      "displayName": "Maryse Muller",
      "photoUrl": "",
      "userId": "13230828717959946182"
     },
     "user_tz": -60
    },
    "id": "TDO5vHRyhsbD",
    "outputId": "08dd026f-f63e-41e3-b3f6-0bcfdfdef028"
   },
   "outputs": [
    {
     "data": {
      "text/html": [
       "<div>\n",
       "<style scoped>\n",
       "    .dataframe tbody tr th:only-of-type {\n",
       "        vertical-align: middle;\n",
       "    }\n",
       "\n",
       "    .dataframe tbody tr th {\n",
       "        vertical-align: top;\n",
       "    }\n",
       "\n",
       "    .dataframe thead th {\n",
       "        text-align: right;\n",
       "    }\n",
       "</style>\n",
       "<table border=\"1\" class=\"dataframe\">\n",
       "  <thead>\n",
       "    <tr style=\"text-align: right;\">\n",
       "      <th></th>\n",
       "      <th>SK_ID_CURR</th>\n",
       "      <th>SK_ID_BUREAU</th>\n",
       "      <th>CB_CREDIT_ACTIVE</th>\n",
       "      <th>CB_CREDIT_CURRENCY</th>\n",
       "      <th>CB_DAYS_CREDIT</th>\n",
       "      <th>CB_CREDIT_DAY_OVERDUE</th>\n",
       "      <th>CB_DAYS_CREDIT_ENDDATE</th>\n",
       "      <th>CB_DAYS_ENDDATE_FACT</th>\n",
       "      <th>CB_AMT_CREDIT_MAX_OVERDUE</th>\n",
       "      <th>CB_CNT_CREDIT_PROLONG</th>\n",
       "      <th>...</th>\n",
       "      <th>CB_AMT_CREDIT_SUM_LIMIT</th>\n",
       "      <th>CB_AMT_CREDIT_SUM_OVERDUE</th>\n",
       "      <th>CB_CREDIT_TYPE</th>\n",
       "      <th>CB_DAYS_CREDIT_UPDATE</th>\n",
       "      <th>CB_AMT_ANNUITY</th>\n",
       "      <th>CB_MONTHS_BALANCE__abs_min</th>\n",
       "      <th>CB_STATUS__mode</th>\n",
       "      <th>CB_STATUS__size</th>\n",
       "      <th>CB_STATUS_MONTHS_FAIL__mean</th>\n",
       "      <th>CB_STATUS_MONTHS_FAIL__max</th>\n",
       "    </tr>\n",
       "  </thead>\n",
       "  <tbody>\n",
       "    <tr>\n",
       "      <th>0</th>\n",
       "      <td>215354</td>\n",
       "      <td>5714462</td>\n",
       "      <td>Closed</td>\n",
       "      <td>currency 1</td>\n",
       "      <td>-497</td>\n",
       "      <td>0</td>\n",
       "      <td>-153.00</td>\n",
       "      <td>-153.00</td>\n",
       "      <td>NaN</td>\n",
       "      <td>0</td>\n",
       "      <td>...</td>\n",
       "      <td>NaN</td>\n",
       "      <td>0.00</td>\n",
       "      <td>Consumer credit</td>\n",
       "      <td>-131</td>\n",
       "      <td>NaN</td>\n",
       "      <td>NaN</td>\n",
       "      <td>NaN</td>\n",
       "      <td>NaN</td>\n",
       "      <td>NaN</td>\n",
       "      <td>NaN</td>\n",
       "    </tr>\n",
       "    <tr>\n",
       "      <th>1</th>\n",
       "      <td>215354</td>\n",
       "      <td>5714463</td>\n",
       "      <td>Active</td>\n",
       "      <td>currency 1</td>\n",
       "      <td>-208</td>\n",
       "      <td>0</td>\n",
       "      <td>1075.00</td>\n",
       "      <td>NaN</td>\n",
       "      <td>NaN</td>\n",
       "      <td>0</td>\n",
       "      <td>...</td>\n",
       "      <td>NaN</td>\n",
       "      <td>0.00</td>\n",
       "      <td>Credit card</td>\n",
       "      <td>-20</td>\n",
       "      <td>NaN</td>\n",
       "      <td>NaN</td>\n",
       "      <td>NaN</td>\n",
       "      <td>NaN</td>\n",
       "      <td>NaN</td>\n",
       "      <td>NaN</td>\n",
       "    </tr>\n",
       "    <tr>\n",
       "      <th>2</th>\n",
       "      <td>215354</td>\n",
       "      <td>5714464</td>\n",
       "      <td>Active</td>\n",
       "      <td>currency 1</td>\n",
       "      <td>-203</td>\n",
       "      <td>0</td>\n",
       "      <td>528.00</td>\n",
       "      <td>NaN</td>\n",
       "      <td>NaN</td>\n",
       "      <td>0</td>\n",
       "      <td>...</td>\n",
       "      <td>NaN</td>\n",
       "      <td>0.00</td>\n",
       "      <td>Consumer credit</td>\n",
       "      <td>-16</td>\n",
       "      <td>NaN</td>\n",
       "      <td>NaN</td>\n",
       "      <td>NaN</td>\n",
       "      <td>NaN</td>\n",
       "      <td>NaN</td>\n",
       "      <td>NaN</td>\n",
       "    </tr>\n",
       "    <tr>\n",
       "      <th>3</th>\n",
       "      <td>215354</td>\n",
       "      <td>5714465</td>\n",
       "      <td>Active</td>\n",
       "      <td>currency 1</td>\n",
       "      <td>-203</td>\n",
       "      <td>0</td>\n",
       "      <td>NaN</td>\n",
       "      <td>NaN</td>\n",
       "      <td>NaN</td>\n",
       "      <td>0</td>\n",
       "      <td>...</td>\n",
       "      <td>NaN</td>\n",
       "      <td>0.00</td>\n",
       "      <td>Credit card</td>\n",
       "      <td>-16</td>\n",
       "      <td>NaN</td>\n",
       "      <td>NaN</td>\n",
       "      <td>NaN</td>\n",
       "      <td>NaN</td>\n",
       "      <td>NaN</td>\n",
       "      <td>NaN</td>\n",
       "    </tr>\n",
       "    <tr>\n",
       "      <th>4</th>\n",
       "      <td>215354</td>\n",
       "      <td>5714466</td>\n",
       "      <td>Active</td>\n",
       "      <td>currency 1</td>\n",
       "      <td>-629</td>\n",
       "      <td>0</td>\n",
       "      <td>1197.00</td>\n",
       "      <td>NaN</td>\n",
       "      <td>77674.50</td>\n",
       "      <td>0</td>\n",
       "      <td>...</td>\n",
       "      <td>NaN</td>\n",
       "      <td>0.00</td>\n",
       "      <td>Consumer credit</td>\n",
       "      <td>-21</td>\n",
       "      <td>NaN</td>\n",
       "      <td>NaN</td>\n",
       "      <td>NaN</td>\n",
       "      <td>NaN</td>\n",
       "      <td>NaN</td>\n",
       "      <td>NaN</td>\n",
       "    </tr>\n",
       "  </tbody>\n",
       "</table>\n",
       "<p>5 rows × 22 columns</p>\n",
       "</div>"
      ],
      "text/plain": [
       "   SK_ID_CURR  SK_ID_BUREAU CB_CREDIT_ACTIVE CB_CREDIT_CURRENCY  CB_DAYS_CREDIT  \\\n",
       "0      215354       5714462           Closed         currency 1            -497   \n",
       "1      215354       5714463           Active         currency 1            -208   \n",
       "2      215354       5714464           Active         currency 1            -203   \n",
       "3      215354       5714465           Active         currency 1            -203   \n",
       "4      215354       5714466           Active         currency 1            -629   \n",
       "\n",
       "   CB_CREDIT_DAY_OVERDUE  CB_DAYS_CREDIT_ENDDATE  CB_DAYS_ENDDATE_FACT  CB_AMT_CREDIT_MAX_OVERDUE  \\\n",
       "0                      0                 -153.00               -153.00                        NaN   \n",
       "1                      0                 1075.00                   NaN                        NaN   \n",
       "2                      0                  528.00                   NaN                        NaN   \n",
       "3                      0                     NaN                   NaN                        NaN   \n",
       "4                      0                 1197.00                   NaN                   77674.50   \n",
       "\n",
       "   CB_CNT_CREDIT_PROLONG  ...  CB_AMT_CREDIT_SUM_LIMIT  CB_AMT_CREDIT_SUM_OVERDUE  \\\n",
       "0                      0  ...                      NaN                       0.00   \n",
       "1                      0  ...                      NaN                       0.00   \n",
       "2                      0  ...                      NaN                       0.00   \n",
       "3                      0  ...                      NaN                       0.00   \n",
       "4                      0  ...                      NaN                       0.00   \n",
       "\n",
       "    CB_CREDIT_TYPE  CB_DAYS_CREDIT_UPDATE CB_AMT_ANNUITY  CB_MONTHS_BALANCE__abs_min  \\\n",
       "0  Consumer credit                   -131            NaN                         NaN   \n",
       "1      Credit card                    -20            NaN                         NaN   \n",
       "2  Consumer credit                    -16            NaN                         NaN   \n",
       "3      Credit card                    -16            NaN                         NaN   \n",
       "4  Consumer credit                    -21            NaN                         NaN   \n",
       "\n",
       "   CB_STATUS__mode  CB_STATUS__size CB_STATUS_MONTHS_FAIL__mean  CB_STATUS_MONTHS_FAIL__max  \n",
       "0              NaN              NaN                         NaN                         NaN  \n",
       "1              NaN              NaN                         NaN                         NaN  \n",
       "2              NaN              NaN                         NaN                         NaN  \n",
       "3              NaN              NaN                         NaN                         NaN  \n",
       "4              NaN              NaN                         NaN                         NaN  \n",
       "\n",
       "[5 rows x 22 columns]"
      ]
     },
     "execution_count": 40,
     "metadata": {},
     "output_type": "execute_result"
    }
   ],
   "source": [
    "dict_df['bur'].head()"
   ]
  },
  {
   "cell_type": "markdown",
   "metadata": {
    "_uuid": "eeb39d19526c86c7e956eb8a02b3fbd32702c400",
    "id": "oARSBkLUvm6o"
   },
   "source": [
    "### PREVIOUS LOANS in HOME CREDIT\n",
    "\n",
    "'previous_application', describes the previous loans in Home Credit.\n",
    "\n",
    "'POS_CASH_balance', 'installments_payments' and 'credit_card_balance' gives details on these loans (to be merged with 'previous_application')"
   ]
  },
  {
   "cell_type": "markdown",
   "metadata": {
    "id": "7h6_QyuRjtdQ"
   },
   "source": [
    "#### POS_CASH_balance -> previous_applications"
   ]
  },
  {
   "cell_type": "code",
   "execution_count": 41,
   "metadata": {
    "executionInfo": {
     "elapsed": 328498,
     "status": "ok",
     "timestamp": 1607418869180,
     "user": {
      "displayName": "Maryse Muller",
      "photoUrl": "",
      "userId": "13230828717959946182"
     },
     "user_tz": -60
    },
    "id": "-lkQdIaxihUn"
   },
   "outputs": [],
   "source": [
    "# harmonize unique values with other tables\n",
    "\n",
    "dict_df['prev_app']['NAME_CONTRACT_STATUS'] = \\\n",
    "                dict_df['pos_cash_bal']['NAME_CONTRACT_STATUS']\\\n",
    "                            .map(lambda x: x if x != 'XNA' else np.nan)\n",
    "dict_df['pos_cash_bal']['NAME_CONTRACT_STATUS'] = \\\n",
    "                dict_df['pos_cash_bal']['NAME_CONTRACT_STATUS']\\\n",
    "                            .map(lambda x: x if x != 'XNA' else np.nan)"
   ]
  },
  {
   "cell_type": "code",
   "execution_count": 42,
   "metadata": {
    "executionInfo": {
     "elapsed": 329674,
     "status": "ok",
     "timestamp": 1607418870359,
     "user": {
      "displayName": "Maryse Muller",
      "photoUrl": "",
      "userId": "13230828717959946182"
     },
     "user_tz": -60
    },
    "id": "1LGJL3Fgz4ml"
   },
   "outputs": [],
   "source": [
    "# One Hot Encoding of status contract for each\n",
    "\n",
    "dict_df['pos_cash_bal'] = pd.get_dummies(dict_df['pos_cash_bal'],\n",
    "                                         prefix='N_CONTR_ST',\n",
    "                                         columns=['NAME_CONTRACT_STATUS'])"
   ]
  },
  {
   "cell_type": "code",
   "execution_count": 43,
   "metadata": {
    "executionInfo": {
     "elapsed": 380907,
     "status": "ok",
     "timestamp": 1607418921595,
     "user": {
      "displayName": "Maryse Muller",
      "photoUrl": "",
      "userId": "13230828717959946182"
     },
     "user_tz": -60
    },
    "id": "d4M7-v2EzIFK"
   },
   "outputs": [],
   "source": [
    "# aggregate along 'SK_ID_PREV'\n",
    "\n",
    "def abs_min(x): return np.abs(np.min(x))\n",
    "\n",
    "li_agg = {'MONTHS_BALANCE': [abs_min],\n",
    "          'CNT_INSTALMENT': ['max'], # nb of changes in the instalment parameters\n",
    "          'CNT_INSTALMENT_FUTURE': ['max'], # maximum number of instalments \n",
    "          'N_CONTR_ST_Active': ['sum'],\n",
    "          'N_CONTR_ST_Completed': ['sum'],\n",
    "          'N_CONTR_ST_Signed': ['sum'],\n",
    "          'N_CONTR_ST_Demand': ['sum'],\n",
    "          'N_CONTR_ST_Returned to the store': ['sum'],\n",
    "          'N_CONTR_ST_Approved': ['sum'],\n",
    "          'N_CONTR_ST_Amortized debt': ['sum'],\n",
    "          'N_CONTR_ST_Canceled': ['sum'],\n",
    "          'SK_DPD': ['mean'], # days past due\n",
    "          'SK_DPD_DEF': ['mean'], # days past due with tolerance\n",
    "          }\n",
    "\n",
    "dict_df['pos_cash_bal'] = \\\n",
    "            dict_df['pos_cash_bal'].groupby('SK_ID_PREV').agg(li_agg)"
   ]
  },
  {
   "cell_type": "code",
   "execution_count": 44,
   "metadata": {
    "executionInfo": {
     "elapsed": 380905,
     "status": "ok",
     "timestamp": 1607418921596,
     "user": {
      "displayName": "Maryse Muller",
      "photoUrl": "",
      "userId": "13230828717959946182"
     },
     "user_tz": -60
    },
    "id": "uVFXgFcDzIFK"
   },
   "outputs": [],
   "source": [
    "# flatten two levels columns indices\n",
    "\n",
    "dict_df['pos_cash_bal'].columns = ['__'.join(tup).strip() \\\n",
    "                             for tup in dict_df['pos_cash_bal'].columns.values]"
   ]
  },
  {
   "cell_type": "code",
   "execution_count": 45,
   "metadata": {
    "executionInfo": {
     "elapsed": 380903,
     "status": "ok",
     "timestamp": 1607418921598,
     "user": {
      "displayName": "Maryse Muller",
      "photoUrl": "",
      "userId": "13230828717959946182"
     },
     "user_tz": -60
    },
    "id": "CM6q1Up6B7gW"
   },
   "outputs": [],
   "source": [
    "# add prefix to the name of the columns before merging (PrL: previous loan)\n",
    "\n",
    "dict_df['pos_cash_bal'].columns = ['PrLCash_'+col if col not in ['SK_ID_BUREAU',\n",
    "                                                  'SK_ID_CURR'] \\\n",
    "                                  else col for col in dict_df['pos_cash_bal'].columns ]"
   ]
  },
  {
   "cell_type": "code",
   "execution_count": 46,
   "metadata": {
    "executionInfo": {
     "elapsed": 384514,
     "status": "ok",
     "timestamp": 1607418925212,
     "user": {
      "displayName": "Maryse Muller",
      "photoUrl": "",
      "userId": "13230828717959946182"
     },
     "user_tz": -60
    },
    "id": "rUMGP4avzIFK"
   },
   "outputs": [],
   "source": [
    "# merge 'pos_cash_bal' with 'prev_app'\n",
    "\n",
    "dict_df['prev_app'] = dict_df['prev_app'].merge(dict_df['pos_cash_bal'],\n",
    "                                                how='left',\n",
    "                                                on='SK_ID_PREV')"
   ]
  },
  {
   "cell_type": "markdown",
   "metadata": {
    "id": "BMWn1y7prf9q"
   },
   "source": [
    "#### installments_payments -> previous_applications"
   ]
  },
  {
   "cell_type": "code",
   "execution_count": 47,
   "metadata": {
    "executionInfo": {
     "elapsed": 385382,
     "status": "ok",
     "timestamp": 1607418926084,
     "user": {
      "displayName": "Maryse Muller",
      "photoUrl": "",
      "userId": "13230828717959946182"
     },
     "user_tz": -60
    },
    "id": "4Z0Xu8E6lQN0"
   },
   "outputs": [],
   "source": [
    "# assign a new feature: delay for the payment of each installment\n",
    "\n",
    "dict_df['install_pay'] = \\\n",
    "        dict_df['install_pay'].assign(DELAY_DAYS_INSTALMENT=\\\n",
    "                                    lambda x: x['DAYS_ENTRY_PAYMENT']-\\\n",
    "                                              x['DAYS_INSTALMENT'])\n",
    "\n",
    "# drop the columns 'days'\n",
    "\n",
    "dict_df['install_pay'] = \\\n",
    "                dict_df['install_pay'].drop(columns=['DAYS_INSTALMENT',\n",
    "                                                     'DAYS_ENTRY_PAYMENT'])"
   ]
  },
  {
   "cell_type": "code",
   "execution_count": 48,
   "metadata": {
    "executionInfo": {
     "elapsed": 551559,
     "status": "ok",
     "timestamp": 1607419092264,
     "user": {
      "displayName": "Maryse Muller",
      "photoUrl": "",
      "userId": "13230828717959946182"
     },
     "user_tz": -60
    },
    "id": "5SnWGWegkgAb"
   },
   "outputs": [],
   "source": [
    "# aggregate along 'SK_ID_PREV'\n",
    "\n",
    "def amp(x): return (np.max(x) - np.min(x))\n",
    "\n",
    "li_agg = {\n",
    "          'NUM_INSTALMENT_VERSION': ['max'], # nb of changes in the instalment parameters\n",
    "          'NUM_INSTALMENT_NUMBER': ['max'], # maximum number of instalments \n",
    "          'AMT_INSTALMENT': ['mean', 'sum', amp, 'max', 'size'], # amount of installments\n",
    "          'AMT_PAYMENT': ['sum'], # to check the amount of unpaid loans\n",
    "          'DELAY_DAYS_INSTALMENT': ['mean', amp, 'max'], # delay for payment\n",
    "          }\n",
    "\n",
    "dict_df['install_pay'] = \\\n",
    "                     dict_df['install_pay'].groupby('SK_ID_PREV').agg(li_agg)"
   ]
  },
  {
   "cell_type": "code",
   "execution_count": 49,
   "metadata": {
    "executionInfo": {
     "elapsed": 551561,
     "status": "ok",
     "timestamp": 1607419092268,
     "user": {
      "displayName": "Maryse Muller",
      "photoUrl": "",
      "userId": "13230828717959946182"
     },
     "user_tz": -60
    },
    "id": "s1OVUKviq_QS"
   },
   "outputs": [],
   "source": [
    "# flatten two levels columns indices\n",
    "\n",
    "dict_df['install_pay'].columns = ['__'.join(tup).strip() \\\n",
    "                             for tup in dict_df['install_pay'].columns.values]"
   ]
  },
  {
   "cell_type": "code",
   "execution_count": 50,
   "metadata": {
    "executionInfo": {
     "elapsed": 551558,
     "status": "ok",
     "timestamp": 1607419092269,
     "user": {
      "displayName": "Maryse Muller",
      "photoUrl": "",
      "userId": "13230828717959946182"
     },
     "user_tz": -60
    },
    "id": "qtgxuvSx5bXG"
   },
   "outputs": [],
   "source": [
    "dict_df['install_pay'] = dict_df['install_pay'].reset_index()"
   ]
  },
  {
   "cell_type": "code",
   "execution_count": 51,
   "metadata": {
    "executionInfo": {
     "elapsed": 551554,
     "status": "ok",
     "timestamp": 1607419092270,
     "user": {
      "displayName": "Maryse Muller",
      "photoUrl": "",
      "userId": "13230828717959946182"
     },
     "user_tz": -60
    },
    "id": "vR-2j7dGCXDY"
   },
   "outputs": [],
   "source": [
    "# add prefix to the name of the columns before merging (PrLI: previous loan installment)\n",
    "\n",
    "dict_df['install_pay'].columns = ['PrLI_'+col if col not in ['SK_ID_PREV'] \\\n",
    "                            else col for col in dict_df['install_pay'].columns]"
   ]
  },
  {
   "cell_type": "code",
   "execution_count": 52,
   "metadata": {
    "executionInfo": {
     "elapsed": 553547,
     "status": "ok",
     "timestamp": 1607419094266,
     "user": {
      "displayName": "Maryse Muller",
      "photoUrl": "",
      "userId": "13230828717959946182"
     },
     "user_tz": -60
    },
    "id": "7mlbOJMdqnc1"
   },
   "outputs": [],
   "source": [
    "# merge 'install_pay' into 'prev_app'\n",
    "\n",
    "dict_df['prev_app'] = dict_df['prev_app'].merge(dict_df['install_pay'],\n",
    "                                                how='left',\n",
    "                                                on='SK_ID_PREV')"
   ]
  },
  {
   "cell_type": "markdown",
   "metadata": {
    "id": "muvoIu2G8tw1"
   },
   "source": [
    "#### credit_card_balance -> previous_applications"
   ]
  },
  {
   "cell_type": "code",
   "execution_count": 53,
   "metadata": {
    "executionInfo": {
     "elapsed": 553545,
     "status": "ok",
     "timestamp": 1607419094267,
     "user": {
      "displayName": "Maryse Muller",
      "photoUrl": "",
      "userId": "13230828717959946182"
     },
     "user_tz": -60
    },
    "id": "bMtK9FB89bYc"
   },
   "outputs": [],
   "source": [
    "# drop redundant columns\n",
    "\n",
    "dict_df['ccard_bal'] = dict_df['ccard_bal']\\\n",
    "    .drop(columns=['AMT_PAYMENT_CURRENT',\n",
    "                   'AMT_RECEIVABLE_PRINCIPAL', 'AMT_RECIVABLE',\n",
    "                   'CNT_DRAWINGS_ATM_CURRENT','CNT_DRAWINGS_POS_CURRENT',\n",
    "                   'CNT_DRAWINGS_OTHER_CURRENT','AMT_DRAWINGS_ATM_CURRENT',\n",
    "                   'AMT_DRAWINGS_OTHER_CURRENT', 'AMT_DRAWINGS_POS_CURRENT'\n",
    "                   ])"
   ]
  },
  {
   "cell_type": "code",
   "execution_count": 54,
   "metadata": {
    "executionInfo": {
     "elapsed": 553873,
     "status": "ok",
     "timestamp": 1607419094598,
     "user": {
      "displayName": "Maryse Muller",
      "photoUrl": "",
      "userId": "13230828717959946182"
     },
     "user_tz": -60
    },
    "id": "v06GnW9nD6hh"
   },
   "outputs": [],
   "source": [
    "# One Hot Encoding of status contract for each\n",
    "\n",
    "dict_df['ccard_bal'] = pd.get_dummies(dict_df['ccard_bal'],\n",
    "                                      prefix='N_CONTR_ST',\n",
    "                                      columns=['NAME_CONTRACT_STATUS'])"
   ]
  },
  {
   "cell_type": "code",
   "execution_count": 55,
   "metadata": {
    "executionInfo": {
     "elapsed": 563087,
     "status": "ok",
     "timestamp": 1607419103815,
     "user": {
      "displayName": "Maryse Muller",
      "photoUrl": "",
      "userId": "13230828717959946182"
     },
     "user_tz": -60
    },
    "id": "pBnN29grF6We"
   },
   "outputs": [],
   "source": [
    "# find the AMT_CREDIT_LIMIT for the last month (to merge to the aggregated dataframe later)\n",
    "\n",
    "ind = dict_df['ccard_bal'].groupby('SK_ID_PREV')['MONTHS_BALANCE'].idxmax()\n",
    "ser_last_AMT_CREDIT_LIMIT_ACTUAL = dict_df['ccard_bal'].loc[ind, ['SK_ID_PREV',\n",
    "                                                                  'AMT_CREDIT_LIMIT_ACTUAL']]\n",
    "ser_last_AMT_CREDIT_LIMIT_ACTUAL = \\\n",
    "                    ser_last_AMT_CREDIT_LIMIT_ACTUAL.set_index('SK_ID_PREV')\n",
    "ser_last_AMT_CREDIT_LIMIT_ACTUAL.columns = ['AMT_CREDIT_LIMIT_ACTUAL_last']"
   ]
  },
  {
   "cell_type": "code",
   "execution_count": 56,
   "metadata": {
    "executionInfo": {
     "elapsed": 603329,
     "status": "ok",
     "timestamp": 1607419144059,
     "user": {
      "displayName": "Maryse Muller",
      "photoUrl": "",
      "userId": "13230828717959946182"
     },
     "user_tz": -60
    },
    "id": "tpTKdHnN8tw2"
   },
   "outputs": [],
   "source": [
    "# aggregate along 'SK_ID_PREV'\n",
    "\n",
    "li_agg = {\n",
    "          'MONTHS_BALANCE': [abs_min, 'size'],\n",
    "          'AMT_BALANCE': [amp, 'max', 'mean'],\n",
    "          'AMT_CREDIT_LIMIT_ACTUAL': ['mean'],\n",
    "          'AMT_DRAWINGS_CURRENT': ['mean'],\n",
    "          'AMT_INST_MIN_REGULARITY': ['mean'],\n",
    "          'AMT_PAYMENT_TOTAL_CURRENT': [amp, 'max', 'mean'],\n",
    "          'AMT_TOTAL_RECEIVABLE': [amp, 'max', 'mean'],\n",
    "          'CNT_DRAWINGS_CURRENT': [amp, 'max', 'mean'],\n",
    "          'CNT_INSTALMENT_MATURE_CUM': ['max'], # nb of paid installments \n",
    "          'N_CONTR_ST_Active': ['sum'],\n",
    "          'N_CONTR_ST_Completed': ['sum'],\n",
    "          'N_CONTR_ST_Signed': ['sum'],\n",
    "          'N_CONTR_ST_Demand': ['sum'],\n",
    "          'N_CONTR_ST_Refused': ['sum'],\n",
    "          'N_CONTR_ST_Approved': ['sum'],   \n",
    "          'N_CONTR_ST_Sent proposal': ['sum'],\n",
    "          'SK_DPD': ['mean'], # days past due\n",
    "          'SK_DPD_DEF': ['mean'], # days past due with tolerance\n",
    "          }\n",
    "\n",
    "dict_df['ccard_bal'] = \\\n",
    "                     dict_df['ccard_bal'].groupby('SK_ID_PREV').agg(li_agg)"
   ]
  },
  {
   "cell_type": "code",
   "execution_count": 57,
   "metadata": {
    "executionInfo": {
     "elapsed": 603329,
     "status": "ok",
     "timestamp": 1607419144064,
     "user": {
      "displayName": "Maryse Muller",
      "photoUrl": "",
      "userId": "13230828717959946182"
     },
     "user_tz": -60
    },
    "id": "ocGH874A8tw2"
   },
   "outputs": [],
   "source": [
    "# flatten two levels columns indices\n",
    "\n",
    "dict_df['ccard_bal'].columns = ['__'.join(tup).strip() \\\n",
    "                             for tup in dict_df['ccard_bal'].columns.values]"
   ]
  },
  {
   "cell_type": "code",
   "execution_count": 58,
   "metadata": {
    "executionInfo": {
     "elapsed": 603328,
     "status": "ok",
     "timestamp": 1607419144065,
     "user": {
      "displayName": "Maryse Muller",
      "photoUrl": "",
      "userId": "13230828717959946182"
     },
     "user_tz": -60
    },
    "id": "6xuBXKlw8tw2"
   },
   "outputs": [],
   "source": [
    "dict_df['ccard_bal'] = dict_df['ccard_bal'].reset_index()"
   ]
  },
  {
   "cell_type": "code",
   "execution_count": 59,
   "metadata": {
    "executionInfo": {
     "elapsed": 603324,
     "status": "ok",
     "timestamp": 1607419144065,
     "user": {
      "displayName": "Maryse Muller",
      "photoUrl": "",
      "userId": "13230828717959946182"
     },
     "user_tz": -60
    },
    "id": "9woi_xyE9VNt"
   },
   "outputs": [],
   "source": [
    "# add the last amount credit limit\n",
    "\n",
    "dict_df['ccard_bal'] = \\\n",
    "                    dict_df['ccard_bal'].merge(ser_last_AMT_CREDIT_LIMIT_ACTUAL,\n",
    "                                               'left', on='SK_ID_PREV')"
   ]
  },
  {
   "cell_type": "code",
   "execution_count": 60,
   "metadata": {
    "executionInfo": {
     "elapsed": 603320,
     "status": "ok",
     "timestamp": 1607419144066,
     "user": {
      "displayName": "Maryse Muller",
      "photoUrl": "",
      "userId": "13230828717959946182"
     },
     "user_tz": -60
    },
    "id": "M6baIsfiDggN"
   },
   "outputs": [],
   "source": [
    "# add prefix to the name of the columns before merging (PrLC: previous loan credit card)\n",
    "\n",
    "dict_df['ccard_bal'].columns = ['PrLC_'+col if col not in ['SK_ID_PREV'] \\\n",
    "                            else col for col in dict_df['ccard_bal'].columns]"
   ]
  },
  {
   "cell_type": "code",
   "execution_count": 61,
   "metadata": {
    "executionInfo": {
     "elapsed": 605167,
     "status": "ok",
     "timestamp": 1607419145916,
     "user": {
      "displayName": "Maryse Muller",
      "photoUrl": "",
      "userId": "13230828717959946182"
     },
     "user_tz": -60
    },
    "id": "ZoxWgefV8tw3"
   },
   "outputs": [],
   "source": [
    "# merge 'ccard_bal' into 'prev_app'\n",
    "\n",
    "dict_df['prev_app'] = dict_df['prev_app'].merge(dict_df['ccard_bal'],\n",
    "                                           how='left',\n",
    "                                           on='SK_ID_PREV')"
   ]
  },
  {
   "cell_type": "code",
   "execution_count": 62,
   "metadata": {
    "colab": {
     "base_uri": "https://localhost:8080/"
    },
    "executionInfo": {
     "elapsed": 605145,
     "status": "ok",
     "timestamp": 1607419145919,
     "user": {
      "displayName": "Maryse Muller",
      "photoUrl": "",
      "userId": "13230828717959946182"
     },
     "user_tz": -60
    },
    "id": "xBdgl3n18tw3",
    "outputId": "b9e75f46-b805-4f9e-b4ad-4bd856cbcffb"
   },
   "outputs": [
    {
     "data": {
      "text/plain": [
       "(1670214, 89)"
      ]
     },
     "execution_count": 62,
     "metadata": {},
     "output_type": "execute_result"
    }
   ],
   "source": [
    "dict_df['prev_app'].shape"
   ]
  },
  {
   "cell_type": "markdown",
   "metadata": {
    "id": "VxyeCzTELSKY"
   },
   "source": [
    "### bureau -> application_train/test"
   ]
  },
  {
   "cell_type": "code",
   "execution_count": 63,
   "metadata": {
    "executionInfo": {
     "elapsed": 605655,
     "status": "ok",
     "timestamp": 1607419146431,
     "user": {
      "displayName": "Maryse Muller",
      "photoUrl": "",
      "userId": "13230828717959946182"
     },
     "user_tz": -60
    },
    "id": "GfPkCBlQT_lP"
   },
   "outputs": [],
   "source": [
    "# drop the currency column\n",
    "\n",
    "dict_df['bur'] = dict_df['bur'].drop(columns=['CB_CREDIT_CURRENCY'])"
   ]
  },
  {
   "cell_type": "code",
   "execution_count": 64,
   "metadata": {
    "colab": {
     "base_uri": "https://localhost:8080/",
     "height": 390
    },
    "executionInfo": {
     "elapsed": 608969,
     "status": "ok",
     "timestamp": 1607419149770,
     "user": {
      "displayName": "Maryse Muller",
      "photoUrl": "",
      "userId": "13230828717959946182"
     },
     "user_tz": -60
    },
    "id": "15Q9nukXLGpe",
    "outputId": "1ebcf06c-b68c-4ebb-a2b3-125247a0aa44"
   },
   "outputs": [
    {
     "data": {
      "image/png": "[encoded data removed]",
      "text/plain": [
       "<Figure size 1500x400 with 2 Axes>"
      ]
     },
     "metadata": {},
     "output_type": "display_data"
    }
   ],
   "source": [
    "# Check the categories of loans reported to the Credit Bureau\n",
    "\n",
    "fig = plt.figure(figsize=(15,4))\n",
    "\n",
    "ax1 = fig.add_subplot(1,2,1)\n",
    "plot_boxplot_categories(dict_df['bur'], col_cat = 'CB_CREDIT_TYPE', ax=ax1,\n",
    "                        col_val = 'CB_AMT_CREDIT_SUM', n_sh=10, log_scale=True)\n",
    "ax2 = fig.add_subplot(1,2,2)\n",
    "plot_boxplot_categories(dict_df['bur'], col_cat = 'CB_CREDIT_ACTIVE', ax=ax2,\n",
    "                        col_val = 'CB_AMT_CREDIT_SUM', n_sh=10, log_scale=True)\n",
    "plt.suptitle(\"Categorical features of aggregated 'Bureau' table\",\n",
    "             fontweight='bold')\n",
    "plt.show()"
   ]
  },
  {
   "cell_type": "code",
   "execution_count": 65,
   "metadata": {
    "executionInfo": {
     "elapsed": 609436,
     "status": "ok",
     "timestamp": 1607419150241,
     "user": {
      "displayName": "Maryse Muller",
      "photoUrl": "",
      "userId": "13230828717959946182"
     },
     "user_tz": -60
    },
    "id": "Hk8s2xIs__ql"
   },
   "outputs": [],
   "source": [
    "# replace similar values\n",
    "\n",
    "dict_df['bur']['CB_CREDIT_TYPE'] = \\\n",
    "    dict_df['bur']['CB_CREDIT_TYPE'].replace(['Another type of loan',\n",
    "                                            'Unknown type of loan',\n",
    "                                            'Cash loan (non-earmarked)',\n",
    "                                            'Mobile operator loan',\n",
    "                                            'Interbank credit'],\n",
    "                                            np.nan)\n",
    "dict_df['bur']['CB_CREDIT_TYPE'] = \\\n",
    "    dict_df['bur']['CB_CREDIT_TYPE'].replace(['Loan for business development',\n",
    "                                            'Loan for the purchase of equipment',\n",
    "                                            'Loan for purchase of shares (margin lending)'],\n",
    "                                            'Loan for business development')\n",
    "dict_df['bur']['CB_CREDIT_TYPE'] = \\\n",
    "    dict_df['bur']['CB_CREDIT_TYPE'].replace(['Real estate loan',\n",
    "                                            'Mortgage'],\n",
    "                                            'Mortgage')"
   ]
  },
  {
   "cell_type": "code",
   "execution_count": 66,
   "metadata": {
    "executionInfo": {
     "elapsed": 609800,
     "status": "ok",
     "timestamp": 1607419150608,
     "user": {
      "displayName": "Maryse Muller",
      "photoUrl": "",
      "userId": "13230828717959946182"
     },
     "user_tz": -60
    },
    "id": "csjD2VttUmqd"
   },
   "outputs": [],
   "source": [
    "# One Hot Encoding of status contract for each 'CB_CREDIT_TYPE'\n",
    "\n",
    "dict_df['bur'] = pd.get_dummies(dict_df['bur'],\n",
    "                                prefix='CB_CR_TY',\n",
    "                                columns=['CB_CREDIT_TYPE'])"
   ]
  },
  {
   "cell_type": "code",
   "execution_count": 67,
   "metadata": {
    "executionInfo": {
     "elapsed": 610244,
     "status": "ok",
     "timestamp": 1607419151057,
     "user": {
      "displayName": "Maryse Muller",
      "photoUrl": "",
      "userId": "13230828717959946182"
     },
     "user_tz": -60
    },
    "id": "b6ERnU15c2NP"
   },
   "outputs": [],
   "source": [
    "# One Hot Encoding of status contract for each 'CB_CREDIT_ACTIVE'\n",
    "\n",
    "dict_df['bur'] = pd.get_dummies(dict_df['bur'],\n",
    "                                prefix='CB_CR_ACT',\n",
    "                                columns=['CB_CREDIT_ACTIVE'])"
   ]
  },
  {
   "cell_type": "code",
   "execution_count": 68,
   "metadata": {
    "executionInfo": {
     "elapsed": 610531,
     "status": "ok",
     "timestamp": 1607419151348,
     "user": {
      "displayName": "Maryse Muller",
      "photoUrl": "",
      "userId": "13230828717959946182"
     },
     "user_tz": -60
    },
    "id": "eW9L1uuJZ9fo"
   },
   "outputs": [],
   "source": [
    "# One Hot Encoding of status contract for each 'CB_STATUS__mode'\n",
    "\n",
    "dict_df['bur'] = pd.get_dummies(dict_df['bur'],\n",
    "                                prefix='CB_ST__mode',\n",
    "                                columns=['CB_STATUS__mode'])"
   ]
  },
  {
   "cell_type": "code",
   "execution_count": 69,
   "metadata": {
    "executionInfo": {
     "elapsed": 610800,
     "status": "ok",
     "timestamp": 1607419151620,
     "user": {
      "displayName": "Maryse Muller",
      "photoUrl": "",
      "userId": "13230828717959946182"
     },
     "user_tz": -60
    },
    "id": "noi0wyUPU14K"
   },
   "outputs": [],
   "source": [
    "dict_df['bur'] = dict_df['bur'].drop(columns=['CB_DAYS_CREDIT_UPDATE'])"
   ]
  },
  {
   "cell_type": "code",
   "execution_count": 70,
   "metadata": {
    "colab": {
     "base_uri": "https://localhost:8080/",
     "height": 202
    },
    "executionInfo": {
     "elapsed": 610780,
     "status": "ok",
     "timestamp": 1607419151628,
     "user": {
      "displayName": "Maryse Muller",
      "photoUrl": "",
      "userId": "13230828717959946182"
     },
     "user_tz": -60
    },
    "id": "-NGzawNrsEVq",
    "outputId": "caf63e59-2f26-4cb4-f0a8-040341678f9c"
   },
   "outputs": [
    {
     "data": {
      "text/html": [
       "<div>\n",
       "<style scoped>\n",
       "    .dataframe tbody tr th:only-of-type {\n",
       "        vertical-align: middle;\n",
       "    }\n",
       "\n",
       "    .dataframe tbody tr th {\n",
       "        vertical-align: top;\n",
       "    }\n",
       "\n",
       "    .dataframe thead th {\n",
       "        text-align: right;\n",
       "    }\n",
       "</style>\n",
       "<table border=\"1\" class=\"dataframe\">\n",
       "  <thead>\n",
       "    <tr style=\"text-align: right;\">\n",
       "      <th></th>\n",
       "      <th>SK_ID_CURR</th>\n",
       "      <th>SK_ID_BUREAU</th>\n",
       "      <th>CB_DAYS_CREDIT</th>\n",
       "      <th>CB_CREDIT_DAY_OVERDUE</th>\n",
       "      <th>CB_DAYS_CREDIT_ENDDATE</th>\n",
       "      <th>CB_DAYS_ENDDATE_FACT</th>\n",
       "      <th>CB_AMT_CREDIT_MAX_OVERDUE</th>\n",
       "      <th>CB_CNT_CREDIT_PROLONG</th>\n",
       "      <th>CB_AMT_CREDIT_SUM</th>\n",
       "      <th>CB_AMT_CREDIT_SUM_DEBT</th>\n",
       "      <th>...</th>\n",
       "      <th>CB_CR_TY_Microloan</th>\n",
       "      <th>CB_CR_TY_Mortgage</th>\n",
       "      <th>CB_CR_ACT_Active</th>\n",
       "      <th>CB_CR_ACT_Bad debt</th>\n",
       "      <th>CB_CR_ACT_Closed</th>\n",
       "      <th>CB_CR_ACT_Sold</th>\n",
       "      <th>CB_ST__mode_C</th>\n",
       "      <th>CB_ST__mode_F</th>\n",
       "      <th>CB_ST__mode_N</th>\n",
       "      <th>CB_ST__mode_X</th>\n",
       "    </tr>\n",
       "  </thead>\n",
       "  <tbody>\n",
       "    <tr>\n",
       "      <th>552835</th>\n",
       "      <td>175428</td>\n",
       "      <td>5047419</td>\n",
       "      <td>-326</td>\n",
       "      <td>0</td>\n",
       "      <td>770.00</td>\n",
       "      <td>NaN</td>\n",
       "      <td>0.00</td>\n",
       "      <td>0</td>\n",
       "      <td>367990.65</td>\n",
       "      <td>278509.59</td>\n",
       "      <td>...</td>\n",
       "      <td>0</td>\n",
       "      <td>0</td>\n",
       "      <td>1</td>\n",
       "      <td>0</td>\n",
       "      <td>0</td>\n",
       "      <td>0</td>\n",
       "      <td>0</td>\n",
       "      <td>0</td>\n",
       "      <td>0</td>\n",
       "      <td>0</td>\n",
       "    </tr>\n",
       "    <tr>\n",
       "      <th>1252370</th>\n",
       "      <td>107468</td>\n",
       "      <td>6618535</td>\n",
       "      <td>-1855</td>\n",
       "      <td>0</td>\n",
       "      <td>-1544.00</td>\n",
       "      <td>-1544.00</td>\n",
       "      <td>5533.74</td>\n",
       "      <td>0</td>\n",
       "      <td>54720.00</td>\n",
       "      <td>0.00</td>\n",
       "      <td>...</td>\n",
       "      <td>0</td>\n",
       "      <td>0</td>\n",
       "      <td>0</td>\n",
       "      <td>0</td>\n",
       "      <td>1</td>\n",
       "      <td>0</td>\n",
       "      <td>1</td>\n",
       "      <td>0</td>\n",
       "      <td>0</td>\n",
       "      <td>0</td>\n",
       "    </tr>\n",
       "    <tr>\n",
       "      <th>683583</th>\n",
       "      <td>208562</td>\n",
       "      <td>5308815</td>\n",
       "      <td>-1568</td>\n",
       "      <td>0</td>\n",
       "      <td>NaN</td>\n",
       "      <td>-272.00</td>\n",
       "      <td>0.00</td>\n",
       "      <td>0</td>\n",
       "      <td>50850.00</td>\n",
       "      <td>0.00</td>\n",
       "      <td>...</td>\n",
       "      <td>0</td>\n",
       "      <td>0</td>\n",
       "      <td>0</td>\n",
       "      <td>0</td>\n",
       "      <td>1</td>\n",
       "      <td>0</td>\n",
       "      <td>0</td>\n",
       "      <td>0</td>\n",
       "      <td>0</td>\n",
       "      <td>0</td>\n",
       "    </tr>\n",
       "  </tbody>\n",
       "</table>\n",
       "<p>3 rows × 32 columns</p>\n",
       "</div>"
      ],
      "text/plain": [
       "         SK_ID_CURR  SK_ID_BUREAU  CB_DAYS_CREDIT  CB_CREDIT_DAY_OVERDUE  CB_DAYS_CREDIT_ENDDATE  \\\n",
       "552835       175428       5047419            -326                      0                  770.00   \n",
       "1252370      107468       6618535           -1855                      0                -1544.00   \n",
       "683583       208562       5308815           -1568                      0                     NaN   \n",
       "\n",
       "         CB_DAYS_ENDDATE_FACT  CB_AMT_CREDIT_MAX_OVERDUE  CB_CNT_CREDIT_PROLONG  \\\n",
       "552835                    NaN                       0.00                      0   \n",
       "1252370              -1544.00                    5533.74                      0   \n",
       "683583                -272.00                       0.00                      0   \n",
       "\n",
       "         CB_AMT_CREDIT_SUM  CB_AMT_CREDIT_SUM_DEBT  ...  CB_CR_TY_Microloan  CB_CR_TY_Mortgage  \\\n",
       "552835           367990.65               278509.59  ...                   0                  0   \n",
       "1252370           54720.00                    0.00  ...                   0                  0   \n",
       "683583            50850.00                    0.00  ...                   0                  0   \n",
       "\n",
       "         CB_CR_ACT_Active  CB_CR_ACT_Bad debt  CB_CR_ACT_Closed  CB_CR_ACT_Sold  CB_ST__mode_C  \\\n",
       "552835                  1                   0                 0               0              0   \n",
       "1252370                 0                   0                 1               0              1   \n",
       "683583                  0                   0                 1               0              0   \n",
       "\n",
       "         CB_ST__mode_F  CB_ST__mode_N  CB_ST__mode_X  \n",
       "552835               0              0              0  \n",
       "1252370              0              0              0  \n",
       "683583               0              0              0  \n",
       "\n",
       "[3 rows x 32 columns]"
      ]
     },
     "execution_count": 70,
     "metadata": {},
     "output_type": "execute_result"
    }
   ],
   "source": [
    "dict_df['bur'].sample(3)"
   ]
  },
  {
   "cell_type": "code",
   "execution_count": 71,
   "metadata": {
    "executionInfo": {
     "elapsed": 651271,
     "status": "ok",
     "timestamp": 1607419192122,
     "user": {
      "displayName": "Maryse Muller",
      "photoUrl": "",
      "userId": "13230828717959946182"
     },
     "user_tz": -60
    },
    "id": "lXZsaOd9AAYC"
   },
   "outputs": [],
   "source": [
    "# aggregate along 'SK_ID_CURR'\n",
    "\n",
    "li_agg = {'CB_DAYS_CREDIT': [abs_min],\n",
    "          'CB_CREDIT_DAY_OVERDUE': ['sum','max'], # days past due\n",
    "          'CB_DAYS_CREDIT_ENDDATE': ['max'], # max remaining duration of credit\n",
    "          'CB_DAYS_ENDDATE_FACT': ['min'], # delay since last\n",
    "          'CB_AMT_CREDIT_MAX_OVERDUE': ['mean', 'max'], # max amount overdue\n",
    "          'CB_CNT_CREDIT_PROLONG': ['mean'], # nb of times credit was prolongated\n",
    "          'CB_AMT_CREDIT_SUM': ['mean', 'sum'],\n",
    "          'CB_AMT_CREDIT_SUM_DEBT': ['sum'],\n",
    "          'CB_AMT_CREDIT_SUM_LIMIT': ['sum'],\n",
    "          'CB_AMT_CREDIT_SUM_OVERDUE': ['sum'],\n",
    "          'CB_AMT_ANNUITY': ['mean'],\n",
    "          'CB_MONTHS_BALANCE__abs_min': [amp, 'mean', 'max'], # nb of month (total duration) of the contract\t\t\n",
    "          'CB_STATUS__size': ['sum'], # nb of months (idem above), cumulated\n",
    "          'CB_STATUS_MONTHS_FAIL__mean': ['mean'],\n",
    "          'CB_STATUS_MONTHS_FAIL__max': ['max'],\n",
    "          'CB_CR_TY_Car loan': ['sum'],\n",
    "          'CB_CR_TY_Consumer credit': ['sum'],\n",
    "          'CB_CR_TY_Credit card': ['sum'],\n",
    "          'CB_CR_TY_Loan for business development': ['sum'],\n",
    "          'CB_CR_TY_Loan for working capital replenishment': ['sum'],\n",
    "          'CB_CR_TY_Microloan': ['sum'],\n",
    "          'CB_CR_TY_Mortgage': ['sum'],\n",
    "          'CB_CR_ACT_Active': ['sum'],\n",
    "          'CB_CR_ACT_Bad debt': ['sum'],\n",
    "          'CB_CR_ACT_Closed': ['sum'],\n",
    "          'CB_CR_ACT_Sold': ['sum'],\n",
    "          'CB_ST__mode_C': ['sum'],\n",
    "          'CB_ST__mode_F': ['sum'],\n",
    "          'CB_ST__mode_N': ['sum'],\n",
    "          'CB_ST__mode_X': ['sum'],\n",
    "          }\n",
    "\n",
    "dict_df['bur'] = \\\n",
    "            dict_df['bur'].groupby('SK_ID_CURR').agg(li_agg)"
   ]
  },
  {
   "cell_type": "code",
   "execution_count": 72,
   "metadata": {
    "executionInfo": {
     "elapsed": 651271,
     "status": "ok",
     "timestamp": 1607419192126,
     "user": {
      "displayName": "Maryse Muller",
      "photoUrl": "",
      "userId": "13230828717959946182"
     },
     "user_tz": -60
    },
    "id": "9bpAH79-AAYC"
   },
   "outputs": [],
   "source": [
    "# flatten two levels columns indices\n",
    "\n",
    "dict_df['bur'].columns = ['__'.join(tup).strip() \\\n",
    "                             for tup in dict_df['bur'].columns.values]\n",
    "\n",
    "dict_df['bur'] = dict_df['bur'].reset_index()"
   ]
  },
  {
   "cell_type": "code",
   "execution_count": 73,
   "metadata": {
    "executionInfo": {
     "elapsed": 651270,
     "status": "ok",
     "timestamp": 1607419192127,
     "user": {
      "displayName": "Maryse Muller",
      "photoUrl": "",
      "userId": "13230828717959946182"
     },
     "user_tz": -60
    },
    "id": "SiP-lBStAAYC"
   },
   "outputs": [],
   "source": [
    "# add prefix to the name of the columns before merging (PrL: previous loan)\n",
    "\n",
    "dict_df['bur'].columns = ['Bur_'+col if col not in ['SK_ID_BUREAU',\n",
    "                                                  'SK_ID_CURR'] \\\n",
    "                                  else col for col in dict_df['bur'].columns ]"
   ]
  },
  {
   "cell_type": "code",
   "execution_count": 74,
   "metadata": {
    "executionInfo": {
     "elapsed": 652811,
     "status": "ok",
     "timestamp": 1607419193672,
     "user": {
      "displayName": "Maryse Muller",
      "photoUrl": "",
      "userId": "13230828717959946182"
     },
     "user_tz": -60
    },
    "id": "LCMpfF06AAYC"
   },
   "outputs": [],
   "source": [
    "# merge 'bur' with 'app_train' and 'app_test'\n",
    "\n",
    "dict_df['app_train'] = dict_df['app_train'].merge(dict_df['bur'],\n",
    "                                                how='left',\n",
    "                                                on='SK_ID_CURR')\n",
    "\n",
    "dict_df['app_test'] = dict_df['app_test'].merge(dict_df['bur'],\n",
    "                                                how='left',\n",
    "                                                on='SK_ID_CURR')"
   ]
  },
  {
   "cell_type": "code",
   "execution_count": 75,
   "metadata": {
    "colab": {
     "base_uri": "https://localhost:8080/"
    },
    "executionInfo": {
     "elapsed": 652793,
     "status": "ok",
     "timestamp": 1607419193676,
     "user": {
      "displayName": "Maryse Muller",
      "photoUrl": "",
      "userId": "13230828717959946182"
     },
     "user_tz": -60
    },
    "id": "5HQ62eD0__9C",
    "outputId": "42cb0dbb-38a8-4785-f539-9c8c449719ea"
   },
   "outputs": [
    {
     "data": {
      "text/plain": [
       "(307511,)"
      ]
     },
     "execution_count": 75,
     "metadata": {},
     "output_type": "execute_result"
    }
   ],
   "source": [
    "dict_df['app_train']['SK_ID_CURR'].shape # 307511 apptrain 48744 apptest"
   ]
  },
  {
   "cell_type": "markdown",
   "metadata": {
    "id": "XdwswqxgunCZ"
   },
   "source": [
    "### previous_application -> application_train/test"
   ]
  },
  {
   "cell_type": "code",
   "execution_count": 76,
   "metadata": {
    "executionInfo": {
     "elapsed": 654686,
     "status": "ok",
     "timestamp": 1607419195576,
     "user": {
      "displayName": "Maryse Muller",
      "photoUrl": "",
      "userId": "13230828717959946182"
     },
     "user_tz": -60
    },
    "id": "cMybIbCku7U4"
   },
   "outputs": [],
   "source": [
    "# drop non useful columns\n",
    "\n",
    "useless_cols = [                    \n",
    "                  'WEEKDAY_APPR_PROCESS_START',\n",
    "                  'FLAG_LAST_APPL_PER_CONTRACT',\n",
    "                  'NFLAG_LAST_APPL_IN_DAY',\n",
    "                  'NAME_TYPE_SUITE',\n",
    "                  'NAME_SELLER_INDUSTRY',\n",
    "                  'NAME_YIELD_GROUP',\n",
    "                  'CHANNEL_TYPE',\n",
    "                  'NAME_CLIENT_TYPE',\n",
    "                  'NAME_PRODUCT_TYPE',\n",
    "                  'SELLERPLACE_AREA',\n",
    "                  'NAME_GOODS_CATEGORY',\n",
    "                  'HOUR_APPR_PROCESS_START',\n",
    "                  'NAME_CASH_LOAN_PURPOSE',\n",
    "                  'DAYS_FIRST_DRAWING',\n",
    "                  'AMT_GOODS_PRICE',\n",
    "                  'CODE_REJECT_REASON',\n",
    "                  'PRODUCT_COMBINATION',\n",
    "                  'NFLAG_INSURED_ON_APPROVAL'\n",
    "                  ]\n",
    "\n",
    "dict_df['prev_app'] = dict_df['prev_app'].drop(columns=useless_cols)"
   ]
  },
  {
   "cell_type": "code",
   "execution_count": 77,
   "metadata": {
    "executionInfo": {
     "elapsed": 655805,
     "status": "ok",
     "timestamp": 1607419196700,
     "user": {
      "displayName": "Maryse Muller",
      "photoUrl": "",
      "userId": "13230828717959946182"
     },
     "user_tz": -60
    },
    "id": "3naw7m3_x-Ny"
   },
   "outputs": [],
   "source": [
    "# replace XNA by np.nan in all the categorical columns\n",
    "\n",
    "cat_cols = dict_df['prev_app'].select_dtypes(exclude=[np.number]).columns\n",
    "\n",
    "for col in cat_cols:\n",
    "    dict_df['prev_app'][col] = \\\n",
    "                    dict_df['prev_app'][col]\\\n",
    "                                .map(lambda x: x if x != 'XNA' else np.nan)"
   ]
  },
  {
   "cell_type": "code",
   "execution_count": 78,
   "metadata": {
    "executionInfo": {
     "elapsed": 656216,
     "status": "ok",
     "timestamp": 1607419197116,
     "user": {
      "displayName": "Maryse Muller",
      "photoUrl": "",
      "userId": "13230828717959946182"
     },
     "user_tz": -60
    },
    "id": "tEyq-3kWex0v"
   },
   "outputs": [],
   "source": [
    "# drop all the lines (application) where AMT_ANNUITY is nan or AMT_CREDIT is 0\n",
    "\n",
    "mask1 = dict_df['prev_app']['AMT_ANNUITY'].notna()\n",
    "mask2 = dict_df['prev_app']['AMT_APPLICATION']>0.1\n",
    "mask3 = dict_df['prev_app']['DAYS_FIRST_DUE'].notna()\n",
    "\n",
    "dict_df['prev_app'] = dict_df['prev_app'].loc[( mask1 & mask2 & mask3)]"
   ]
  },
  {
   "cell_type": "code",
   "execution_count": 79,
   "metadata": {
    "executionInfo": {
     "elapsed": 656214,
     "status": "ok",
     "timestamp": 1607419197118,
     "user": {
      "displayName": "Maryse Muller",
      "photoUrl": "",
      "userId": "13230828717959946182"
     },
     "user_tz": -60
    },
    "id": "IQRfnCISK7UW"
   },
   "outputs": [],
   "source": [
    "# gb = dict_df['prev_app'].groupby('SK_ID_CURR') #.select_dtypes(exclude=[np.number])"
   ]
  },
  {
   "cell_type": "code",
   "execution_count": 80,
   "metadata": {
    "colab": {
     "base_uri": "https://localhost:8080/",
     "height": 33
    },
    "executionInfo": {
     "elapsed": 603,
     "status": "ok",
     "timestamp": 1607419322018,
     "user": {
      "displayName": "Maryse Muller",
      "photoUrl": "",
      "userId": "13230828717959946182"
     },
     "user_tz": -60
    },
    "id": "YducUY1WunCZ",
    "outputId": "58ba656a-226b-4f5d-8397-11ae1842d26c"
   },
   "outputs": [
    {
     "data": {
      "image/png": "[encoded data removed]",
      "text/plain": [
       "<Figure size 1200x800 with 4 Axes>"
      ]
     },
     "metadata": {},
     "output_type": "display_data"
    }
   ],
   "source": [
    "# Check the categories of previous loans\n",
    "\n",
    "fig = plt.figure(figsize=(12,8))\n",
    "\n",
    "cat_cols = dict_df['prev_app'].select_dtypes(exclude=[np.number]).columns\n",
    "\n",
    "for i, col in enumerate(cat_cols, 1):\n",
    "    ax = fig.add_subplot(2,2,i)\n",
    "    plot_boxplot_categories(dict_df['prev_app'], col_cat = col, ax=ax,\n",
    "                            col_val = 'AMT_APPLICATION', n_sh=10, log_scale=True)\n",
    "\n",
    "plt.suptitle(\"Categorical features of aggregated 'previous application' table\",\n",
    "             fontweight='bold')\n",
    "plt.tight_layout()\n",
    "plt.show()"
   ]
  },
  {
   "cell_type": "code",
   "execution_count": 81,
   "metadata": {
    "executionInfo": {
     "elapsed": 660594,
     "status": "ok",
     "timestamp": 1607419201530,
     "user": {
      "displayName": "Maryse Muller",
      "photoUrl": "",
      "userId": "13230828717959946182"
     },
     "user_tz": -60
    },
    "id": "SlzUMnSJunCa"
   },
   "outputs": [],
   "source": [
    "# One Hot Encoding of status contract for each 'NAME_CONTRACT_TYPE'\n",
    "\n",
    "dict_df['prev_app'] = pd.get_dummies(dict_df['prev_app'],\n",
    "                                prefix='PrL_N_CONT_Ty',\n",
    "                                columns=['NAME_CONTRACT_TYPE'])"
   ]
  },
  {
   "cell_type": "code",
   "execution_count": 82,
   "metadata": {
    "executionInfo": {
     "elapsed": 661497,
     "status": "ok",
     "timestamp": 1607419202438,
     "user": {
      "displayName": "Maryse Muller",
      "photoUrl": "",
      "userId": "13230828717959946182"
     },
     "user_tz": -60
    },
    "id": "bionb0XOunCa"
   },
   "outputs": [],
   "source": [
    "# One Hot Encoding of status contract for each 'NAME_CONTRACT_STATUS'\n",
    "\n",
    "dict_df['prev_app'] = pd.get_dummies(dict_df['prev_app'],\n",
    "                                prefix='PrL_N_CONT_St',\n",
    "                                columns=['NAME_CONTRACT_STATUS'])"
   ]
  },
  {
   "cell_type": "code",
   "execution_count": 83,
   "metadata": {
    "executionInfo": {
     "elapsed": 662271,
     "status": "ok",
     "timestamp": 1607419203215,
     "user": {
      "displayName": "Maryse Muller",
      "photoUrl": "",
      "userId": "13230828717959946182"
     },
     "user_tz": -60
    },
    "id": "fvZZOiguunCa"
   },
   "outputs": [],
   "source": [
    "# One Hot Encoding of status contract for each 'NAME_PAYMENT_TYPE'\n",
    "\n",
    "dict_df['prev_app'] = pd.get_dummies(dict_df['prev_app'],\n",
    "                                prefix='PrL_N_PAY_Ty',\n",
    "                                columns=['NAME_PAYMENT_TYPE'])"
   ]
  },
  {
   "cell_type": "code",
   "execution_count": 84,
   "metadata": {
    "executionInfo": {
     "elapsed": 662637,
     "status": "ok",
     "timestamp": 1607419203585,
     "user": {
      "displayName": "Maryse Muller",
      "photoUrl": "",
      "userId": "13230828717959946182"
     },
     "user_tz": -60
    },
    "id": "KuPJEYiBwg5u"
   },
   "outputs": [],
   "source": [
    "# One Hot Encoding of status contract for each 'CB_STATUS__mode'\n",
    "\n",
    "dict_df['prev_app'] = pd.get_dummies(dict_df['prev_app'],\n",
    "                                prefix='PrL_N_PORTF',\n",
    "                                columns=['NAME_PORTFOLIO'])"
   ]
  },
  {
   "cell_type": "code",
   "execution_count": 85,
   "metadata": {
    "executionInfo": {
     "elapsed": 663459,
     "status": "ok",
     "timestamp": 1607419204410,
     "user": {
      "displayName": "Maryse Muller",
      "photoUrl": "",
      "userId": "13230828717959946182"
     },
     "user_tz": -60
    },
    "id": "ZBrGnekxunCa"
   },
   "outputs": [],
   "source": [
    "# Have a overview of the missing values\n",
    "\n",
    "missing_prevapp = missing_data(dict_df['prev_app'])['Percent'].to_frame(name=n_df)"
   ]
  },
  {
   "cell_type": "code",
   "execution_count": 86,
   "metadata": {
    "colab": {
     "base_uri": "https://localhost:8080/"
    },
    "executionInfo": {
     "elapsed": 663948,
     "status": "ok",
     "timestamp": 1607419204920,
     "user": {
      "displayName": "Maryse Muller",
      "photoUrl": "",
      "userId": "13230828717959946182"
     },
     "user_tz": -60
    },
    "id": "_rnyIwqkyQsM",
    "outputId": "43ecef0a-ce86-4ace-d876-dc4c61722e3e"
   },
   "outputs": [
    {
     "name": "stdout",
     "output_type": "stream",
     "text": [
      "nb of columns to keep: 51\n"
     ]
    }
   ],
   "source": [
    "# drop the columns with more than 90% nan value\n",
    "\n",
    "col_to_keep = missing_prevapp[missing_prevapp.values<20].index\n",
    "print(f\"nb of columns to keep: {len(col_to_keep)}\")\n",
    "dict_df['prev_app'] = dict_df['prev_app'][col_to_keep]"
   ]
  },
  {
   "cell_type": "code",
   "execution_count": 87,
   "metadata": {
    "executionInfo": {
     "elapsed": 663949,
     "status": "ok",
     "timestamp": 1607419204924,
     "user": {
      "displayName": "Maryse Muller",
      "photoUrl": "",
      "userId": "13230828717959946182"
     },
     "user_tz": -60
    },
    "id": "ocUYqKXD5G-n"
   },
   "outputs": [],
   "source": [
    "all_cols = dict_df['prev_app'].columns"
   ]
  },
  {
   "cell_type": "code",
   "execution_count": 88,
   "metadata": {
    "executionInfo": {
     "elapsed": 663947,
     "status": "ok",
     "timestamp": 1607419204925,
     "user": {
      "displayName": "Maryse Muller",
      "photoUrl": "",
      "userId": "13230828717959946182"
     },
     "user_tz": -60
    },
    "id": "82cLqnAC0wJ1"
   },
   "outputs": [],
   "source": [
    "cat_cols = ['PrL_N_PORTF_POS', 'PrL_N_PORTF_Cash', 'PrL_N_CONT_Ty_Cash loans',\n",
    " 'PrL_N_CONT_Ty_Consumer loans', 'PrL_N_CONT_Ty_Revolving loans',\n",
    " 'PrL_N_CONT_St_Active', 'PrL_N_CONT_St_Approved', 'PrL_N_CONT_St_Completed',\n",
    " 'PrL_N_CONT_St_Demand', 'PrL_N_CONT_St_Returned to the store',\n",
    " 'PrL_N_CONT_St_Signed', 'PrL_N_PAY_Ty_Cash through the bank',\n",
    " 'PrL_N_PAY_Ty_Cashless from the account of the employer',\n",
    " 'PrL_N_PAY_Ty_Non-cash from your account', 'PrL_N_PORTF_Cards',\n",
    " 'PrL_N_PORTF_Cars']\n",
    "dict1 = dict(zip(cat_cols, ['sum']*len(cat_cols)))"
   ]
  },
  {
   "cell_type": "code",
   "execution_count": 89,
   "metadata": {
    "executionInfo": {
     "elapsed": 663944,
     "status": "ok",
     "timestamp": 1607419204926,
     "user": {
      "displayName": "Maryse Muller",
      "photoUrl": "",
      "userId": "13230828717959946182"
     },
     "user_tz": -60
    },
    "id": "VQiyJeLy32r7"
   },
   "outputs": [],
   "source": [
    "other_cols = [col for col in all_cols if col not in cat_cols]"
   ]
  },
  {
   "cell_type": "code",
   "execution_count": 90,
   "metadata": {
    "executionInfo": {
     "elapsed": 663942,
     "status": "ok",
     "timestamp": 1607419204928,
     "user": {
      "displayName": "Maryse Muller",
      "photoUrl": "",
      "userId": "13230828717959946182"
     },
     "user_tz": -60
    },
    "id": "PE8DLA5zRhlW"
   },
   "outputs": [],
   "source": [
    "max_cols = [col for col in other_cols if '__max' in col]\n",
    "sum_cols = [col for col in other_cols if '__sum' in col]\n",
    "mean_cols = [col for col in other_cols if '__mean' in col]\n",
    "abs_min_cols = [col for col in other_cols if '__abs_min' in col]\n",
    "amp_cols = [col for col in other_cols if '__amp' in col]\n",
    "size_cols = [col for col in other_cols if '__size' in col]"
   ]
  },
  {
   "cell_type": "code",
   "execution_count": 91,
   "metadata": {
    "executionInfo": {
     "elapsed": 663941,
     "status": "ok",
     "timestamp": 1607419204929,
     "user": {
      "displayName": "Maryse Muller",
      "photoUrl": "",
      "userId": "13230828717959946182"
     },
     "user_tz": -60
    },
    "id": "1abGWfq9Ueei"
   },
   "outputs": [],
   "source": [
    "dict2 = dict(zip(max_cols, ['max']*len(max_cols)))\n",
    "dict3 = dict(zip(sum_cols, ['sum']*len(sum_cols)))\n",
    "dict4 = dict(zip(mean_cols, ['mean']*len(mean_cols)))\n",
    "dict5 = dict(zip(abs_min_cols, [abs_min]*len(abs_min_cols)))\n",
    "dict6 = dict(zip(amp_cols, [amp]*len(amp_cols)))\n",
    "dict7 = dict(zip(size_cols, ['sum']*len(size_cols))) # sum !"
   ]
  },
  {
   "cell_type": "code",
   "execution_count": 92,
   "metadata": {
    "executionInfo": {
     "elapsed": 663940,
     "status": "ok",
     "timestamp": 1607419204931,
     "user": {
      "displayName": "Maryse Muller",
      "photoUrl": "",
      "userId": "13230828717959946182"
     },
     "user_tz": -60
    },
    "id": "_EGGqbRPUdRB"
   },
   "outputs": [],
   "source": [
    "remain_cols = [col for col in all_cols if col not in cat_cols+max_cols+sum_cols+mean_cols+amp_cols+size_cols+abs_min_cols]"
   ]
  },
  {
   "cell_type": "code",
   "execution_count": 93,
   "metadata": {
    "executionInfo": {
     "elapsed": 737,
     "status": "ok",
     "timestamp": 1607420745420,
     "user": {
      "displayName": "Maryse Muller",
      "photoUrl": "",
      "userId": "13230828717959946182"
     },
     "user_tz": -60
    },
    "id": "PYRw-rOOYP1x"
   },
   "outputs": [],
   "source": [
    "# initial duration and effective duration of the loan\n",
    "\n",
    "dict_df['prev_app'] = \\\n",
    "   dict_df['prev_app'].assign(DAYS_TOT_DURATION_INIT = \\\n",
    "                                lambda x: x['DAYS_LAST_DUE_1ST_VERSION'] - \\\n",
    "                                                        x['DAYS_FIRST_DUE'],\n",
    "                                                          DAYS_TOT_DURATION = \\\n",
    "                                lambda x: x['DAYS_TERMINATION'] - \\\n",
    "                                                    x['DAYS_FIRST_DUE'])"
   ]
  },
  {
   "cell_type": "code",
   "execution_count": 94,
   "metadata": {
    "executionInfo": {
     "elapsed": 787,
     "status": "ok",
     "timestamp": 1607420750603,
     "user": {
      "displayName": "Maryse Muller",
      "photoUrl": "",
      "userId": "13230828717959946182"
     },
     "user_tz": -60
    },
    "id": "lAtNbeWGa9Pd"
   },
   "outputs": [],
   "source": [
    "# nb of days the contract has been prolongated\n",
    "\n",
    "dict_df['prev_app'] = \\\n",
    "    dict_df['prev_app'].assign(DAYS_PROLONG_PCT = \\\n",
    "                    lambda x: 100*(x['DAYS_TOT_DURATION_INIT'] - \\\n",
    "                                        x['DAYS_TOT_DURATION'])/ \\\n",
    "                                    x['DAYS_TOT_DURATION_INIT'])"
   ]
  },
  {
   "cell_type": "code",
   "execution_count": 95,
   "metadata": {
    "executionInfo": {
     "elapsed": 1616,
     "status": "ok",
     "timestamp": 1607420751451,
     "user": {
      "displayName": "Maryse Muller",
      "photoUrl": "",
      "userId": "13230828717959946182"
     },
     "user_tz": -60
    },
    "id": "5Bhc_4p1gPev"
   },
   "outputs": [],
   "source": [
    "# difference between obtained and asked amount\n",
    "\n",
    "dict_df['prev_app'] = \\\n",
    "    dict_df['prev_app'].assign(AMT_DIFF_PCT = \\\n",
    "                        lambda x: 100*(x['AMT_CREDIT'] - x['AMT_APPLICATION']) / \\\n",
    "                                x['AMT_APPLICATION'])"
   ]
  },
  {
   "cell_type": "code",
   "execution_count": 96,
   "metadata": {
    "executionInfo": {
     "elapsed": 1610,
     "status": "ok",
     "timestamp": 1607420751453,
     "user": {
      "displayName": "Maryse Muller",
      "photoUrl": "",
      "userId": "13230828717959946182"
     },
     "user_tz": -60
    },
    "id": "H7LSSPv7oS0Q"
   },
   "outputs": [],
   "source": [
    "# obtained amount per month of contract \n",
    "\n",
    "dict_df['prev_app'] = \\\n",
    "    dict_df['prev_app'].assign(AMT_PER_MONTH = \\\n",
    "                        lambda x: x['AMT_CREDIT'] / (x['DAYS_TOT_DURATION']*365/12))"
   ]
  },
  {
   "cell_type": "code",
   "execution_count": 97,
   "metadata": {
    "colab": {
     "base_uri": "https://localhost:8080/"
    },
    "executionInfo": {
     "elapsed": 1895,
     "status": "ok",
     "timestamp": 1607420751746,
     "user": {
      "displayName": "Maryse Muller",
      "photoUrl": "",
      "userId": "13230828717959946182"
     },
     "user_tz": -60
    },
    "id": "pbOFmEVAbst7",
    "outputId": "d7a20c44-fdc5-4244-b118-f792ebaaf77b"
   },
   "outputs": [
    {
     "name": "stderr",
     "output_type": "stream",
     "text": [
      "c:\\Users\\adam_\\anaconda3\\envs\\OCP7\\lib\\site-packages\\pandas\\core\\indexing.py:1732: SettingWithCopyWarning: \n",
      "A value is trying to be set on a copy of a slice from a DataFrame\n",
      "\n",
      "See the caveats in the documentation: https://pandas.pydata.org/pandas-docs/stable/user_guide/indexing.html#returning-a-view-versus-a-copy\n",
      "  self._setitem_single_block(indexer, value, name)\n"
     ]
    }
   ],
   "source": [
    "# inidcating if a loan is still outstanding or not\n",
    "\n",
    "mask = dict_df['prev_app']['DAYS_TERMINATION'] > 365000 # loan still active\n",
    "dict_df['prev_app']['OUTSTANDING_LOAN'] = 0\n",
    "dict_df['prev_app']['OUTSTANDING_LOAN'].loc[mask] = 1"
   ]
  },
  {
   "cell_type": "code",
   "execution_count": 98,
   "metadata": {
    "executionInfo": {
     "elapsed": 1890,
     "status": "ok",
     "timestamp": 1607420751748,
     "user": {
      "displayName": "Maryse Muller",
      "photoUrl": "",
      "userId": "13230828717959946182"
     },
     "user_tz": -60
    },
    "id": "geAkx6rcSYsF"
   },
   "outputs": [],
   "source": [
    "# dict_df['prev_app'][remain_cols+['DAYS_TOT_DURATION_INIT', 'DAYS_TOT_DURATION',\n",
    "#                                  'DAYS_PROLONG_PCT', 'OUTSTANDING_LOAN', 'AMT_DIFF_PCT', 'AMT_PER_MONTH']].iloc[:10]"
   ]
  },
  {
   "cell_type": "code",
   "execution_count": 99,
   "metadata": {
    "executionInfo": {
     "elapsed": 1883,
     "status": "ok",
     "timestamp": 1607420751749,
     "user": {
      "displayName": "Maryse Muller",
      "photoUrl": "",
      "userId": "13230828717959946182"
     },
     "user_tz": -60
    },
    "id": "OfREiBnoqDR1"
   },
   "outputs": [],
   "source": [
    "# remaining columns instructions for aggregation\n",
    "\n",
    "dict8 = {\n",
    "          'DAYS_LAST_DUE_1ST_VERSION': ['min', 'max'],\n",
    "          'DAYS_FIRST_DUE': ['min', 'max'],\n",
    "          'CNT_PAYMENT': ['sum', 'mean', 'max'] , # nb of months of the contract at application\n",
    "          'AMT_CREDIT': ['sum', amp, 'mean', 'max'] , # amount credit obtained\n",
    "          'AMT_ANNUITY': [amp, 'mean', 'max'], # should be the same as below\n",
    "          'AMT_PER_MONTH': ['mean', amp, 'max'], # should be the same as above\n",
    "          'DAYS_TERMINATION': ['max'], # recency of the last loan (high -> more recent)\n",
    "          'DAYS_TOT_DURATION': ['sum', amp, 'mean', 'max'], # \n",
    "          'DAYS_PROLONG_PCT': ['mean', 'max'], # ratio of the prolongation or advanced payment\n",
    "          'OUTSTANDING_LOAN': ['sum', 'size'], # nb of outstanding loans, total nb of loans \n",
    "          'AMT_DIFF_PCT': ['mean', 'max'], # ratio of amount obtained on amount asked\n",
    "          }"
   ]
  },
  {
   "cell_type": "code",
   "execution_count": 100,
   "metadata": {
    "colab": {
     "base_uri": "https://localhost:8080/"
    },
    "executionInfo": {
     "elapsed": 182223,
     "status": "ok",
     "timestamp": 1607420932096,
     "user": {
      "displayName": "Maryse Muller",
      "photoUrl": "",
      "userId": "13230828717959946182"
     },
     "user_tz": -60
    },
    "id": "bhu3X-YPunCa",
    "outputId": "74fed978-74cb-43ca-fdd2-73e40251a7a7"
   },
   "outputs": [
    {
     "name": "stderr",
     "output_type": "stream",
     "text": [
      "c:\\Users\\adam_\\anaconda3\\envs\\OCP7\\lib\\site-packages\\ipykernel_launcher.py:3: RuntimeWarning: invalid value encountered in double_scalars\n",
      "  This is separate from the ipykernel package so we can avoid doing imports until\n"
     ]
    }
   ],
   "source": [
    "# aggregate along 'SK_ID_CURR'\n",
    "\n",
    "li_agg = {**dict1, **dict2, **dict3, **dict4, **dict5, **dict6,\n",
    "          **dict7, **dict8}\n",
    "\n",
    "dict_df['prev_app'] = \\\n",
    "            dict_df['prev_app'].groupby('SK_ID_CURR').agg(li_agg)"
   ]
  },
  {
   "cell_type": "code",
   "execution_count": 101,
   "metadata": {
    "executionInfo": {
     "elapsed": 182218,
     "status": "ok",
     "timestamp": 1607420932099,
     "user": {
      "displayName": "Maryse Muller",
      "photoUrl": "",
      "userId": "13230828717959946182"
     },
     "user_tz": -60
    },
    "id": "ssfoEFSqunCa"
   },
   "outputs": [],
   "source": [
    "# flatten two levels columns indices\n",
    "\n",
    "dict_df['prev_app'].columns = ['__'.join(tup).strip() \\\n",
    "                             for tup in dict_df['prev_app'].columns.values]\n",
    "\n",
    "dict_df['prev_app'] = dict_df['prev_app'].reset_index()"
   ]
  },
  {
   "cell_type": "code",
   "execution_count": 102,
   "metadata": {
    "executionInfo": {
     "elapsed": 182210,
     "status": "ok",
     "timestamp": 1607420932099,
     "user": {
      "displayName": "Maryse Muller",
      "photoUrl": "",
      "userId": "13230828717959946182"
     },
     "user_tz": -60
    },
    "id": "KFF8vCq6unCa"
   },
   "outputs": [],
   "source": [
    "# add prefix to the name of the columns before merging (PrL: previous loan)\n",
    "\n",
    "dict_df['prev_app'].columns = ['PA_'+col if col not in ['SK_ID_CURR'] \\\n",
    "                                  else col for col in dict_df['prev_app'].columns ]"
   ]
  },
  {
   "cell_type": "code",
   "execution_count": 103,
   "metadata": {
    "executionInfo": {
     "elapsed": 183254,
     "status": "ok",
     "timestamp": 1607420933151,
     "user": {
      "displayName": "Maryse Muller",
      "photoUrl": "",
      "userId": "13230828717959946182"
     },
     "user_tz": -60
    },
    "id": "K7j0-IVkunCa"
   },
   "outputs": [],
   "source": [
    "# merge 'prev_app' with 'app_train' and 'app_test'\n",
    "\n",
    "dict_df['app_train'] = dict_df['app_train'].merge(dict_df['prev_app'],\n",
    "                                                how='left',\n",
    "                                                on='SK_ID_CURR')\n",
    "\n",
    "dict_df['app_test'] = dict_df['app_test'].merge(dict_df['prev_app'],\n",
    "                                                how='left',\n",
    "                                                on='SK_ID_CURR')"
   ]
  },
  {
   "cell_type": "code",
   "execution_count": 104,
   "metadata": {
    "colab": {
     "base_uri": "https://localhost:8080/"
    },
    "executionInfo": {
     "elapsed": 183251,
     "status": "ok",
     "timestamp": 1607420933159,
     "user": {
      "displayName": "Maryse Muller",
      "photoUrl": "",
      "userId": "13230828717959946182"
     },
     "user_tz": -60
    },
    "id": "Zt8NMtIiunCa",
    "outputId": "a7d3e2c0-95af-43b3-9ff9-648b1d9ea8d3"
   },
   "outputs": [
    {
     "data": {
      "text/plain": [
       "((307511, 225), (48744, 224))"
      ]
     },
     "execution_count": 104,
     "metadata": {},
     "output_type": "execute_result"
    }
   ],
   "source": [
    "dict_df['app_train'].shape, dict_df['app_test'].shape # 307511 apptrain 48744 apptest"
   ]
  },
  {
   "cell_type": "code",
   "execution_count": 105,
   "metadata": {
    "colab": {
     "base_uri": "https://localhost:8080/",
     "height": 320
    },
    "executionInfo": {
     "elapsed": 183242,
     "status": "ok",
     "timestamp": 1607420933162,
     "user": {
      "displayName": "Maryse Muller",
      "photoUrl": "",
      "userId": "13230828717959946182"
     },
     "user_tz": -60
    },
    "id": "9rbdt778sDcE",
    "outputId": "fb8d0993-6ee9-4360-d2c2-ed0ee736d687"
   },
   "outputs": [
    {
     "data": {
      "text/html": [
       "<div>\n",
       "<style scoped>\n",
       "    .dataframe tbody tr th:only-of-type {\n",
       "        vertical-align: middle;\n",
       "    }\n",
       "\n",
       "    .dataframe tbody tr th {\n",
       "        vertical-align: top;\n",
       "    }\n",
       "\n",
       "    .dataframe thead th {\n",
       "        text-align: right;\n",
       "    }\n",
       "</style>\n",
       "<table border=\"1\" class=\"dataframe\">\n",
       "  <thead>\n",
       "    <tr style=\"text-align: right;\">\n",
       "      <th></th>\n",
       "      <th>SK_ID_CURR</th>\n",
       "      <th>TARGET</th>\n",
       "      <th>NAME_CONTRACT_TYPE</th>\n",
       "      <th>CODE_GENDER</th>\n",
       "      <th>FLAG_OWN_CAR</th>\n",
       "      <th>FLAG_OWN_REALTY</th>\n",
       "      <th>CNT_CHILDREN</th>\n",
       "      <th>AMT_INCOME_TOTAL</th>\n",
       "      <th>AMT_CREDIT</th>\n",
       "      <th>AMT_ANNUITY</th>\n",
       "      <th>...</th>\n",
       "      <th>PA_DAYS_TOT_DURATION__sum</th>\n",
       "      <th>PA_DAYS_TOT_DURATION__amp</th>\n",
       "      <th>PA_DAYS_TOT_DURATION__mean</th>\n",
       "      <th>PA_DAYS_TOT_DURATION__max</th>\n",
       "      <th>PA_DAYS_PROLONG_PCT__mean</th>\n",
       "      <th>PA_DAYS_PROLONG_PCT__max</th>\n",
       "      <th>PA_OUTSTANDING_LOAN__sum</th>\n",
       "      <th>PA_OUTSTANDING_LOAN__size</th>\n",
       "      <th>PA_AMT_DIFF_PCT__mean</th>\n",
       "      <th>PA_AMT_DIFF_PCT__max</th>\n",
       "    </tr>\n",
       "  </thead>\n",
       "  <tbody>\n",
       "    <tr>\n",
       "      <th>0</th>\n",
       "      <td>100002</td>\n",
       "      <td>1</td>\n",
       "      <td>Cash loans</td>\n",
       "      <td>M</td>\n",
       "      <td>N</td>\n",
       "      <td>Y</td>\n",
       "      <td>0</td>\n",
       "      <td>202500.00</td>\n",
       "      <td>406597.50</td>\n",
       "      <td>24700.50</td>\n",
       "      <td>...</td>\n",
       "      <td>548.00</td>\n",
       "      <td>0.00</td>\n",
       "      <td>548.00</td>\n",
       "      <td>548.00</td>\n",
       "      <td>20.58</td>\n",
       "      <td>20.58</td>\n",
       "      <td>0.00</td>\n",
       "      <td>1.00</td>\n",
       "      <td>0.00</td>\n",
       "      <td>0.00</td>\n",
       "    </tr>\n",
       "    <tr>\n",
       "      <th>1</th>\n",
       "      <td>100003</td>\n",
       "      <td>0</td>\n",
       "      <td>Cash loans</td>\n",
       "      <td>F</td>\n",
       "      <td>N</td>\n",
       "      <td>N</td>\n",
       "      <td>0</td>\n",
       "      <td>270000.00</td>\n",
       "      <td>1293502.50</td>\n",
       "      <td>35698.50</td>\n",
       "      <td>...</td>\n",
       "      <td>681.00</td>\n",
       "      <td>176.00</td>\n",
       "      <td>227.00</td>\n",
       "      <td>334.00</td>\n",
       "      <td>12.06</td>\n",
       "      <td>42.73</td>\n",
       "      <td>0.00</td>\n",
       "      <td>3.00</td>\n",
       "      <td>5.77</td>\n",
       "      <td>15.10</td>\n",
       "    </tr>\n",
       "    <tr>\n",
       "      <th>2</th>\n",
       "      <td>100004</td>\n",
       "      <td>0</td>\n",
       "      <td>Revolving loans</td>\n",
       "      <td>M</td>\n",
       "      <td>Y</td>\n",
       "      <td>Y</td>\n",
       "      <td>0</td>\n",
       "      <td>67500.00</td>\n",
       "      <td>135000.00</td>\n",
       "      <td>6750.00</td>\n",
       "      <td>...</td>\n",
       "      <td>70.00</td>\n",
       "      <td>0.00</td>\n",
       "      <td>70.00</td>\n",
       "      <td>70.00</td>\n",
       "      <td>22.22</td>\n",
       "      <td>22.22</td>\n",
       "      <td>0.00</td>\n",
       "      <td>1.00</td>\n",
       "      <td>-17.20</td>\n",
       "      <td>-17.20</td>\n",
       "    </tr>\n",
       "    <tr>\n",
       "      <th>3</th>\n",
       "      <td>100006</td>\n",
       "      <td>0</td>\n",
       "      <td>Cash loans</td>\n",
       "      <td>F</td>\n",
       "      <td>N</td>\n",
       "      <td>Y</td>\n",
       "      <td>0</td>\n",
       "      <td>135000.00</td>\n",
       "      <td>312682.50</td>\n",
       "      <td>29686.50</td>\n",
       "      <td>...</td>\n",
       "      <td>365661.00</td>\n",
       "      <td>365524.00</td>\n",
       "      <td>91415.25</td>\n",
       "      <td>365524.00</td>\n",
       "      <td>-36834.84</td>\n",
       "      <td>99.43</td>\n",
       "      <td>2.00</td>\n",
       "      <td>4.00</td>\n",
       "      <td>-7.50</td>\n",
       "      <td>0.00</td>\n",
       "    </tr>\n",
       "    <tr>\n",
       "      <th>4</th>\n",
       "      <td>100007</td>\n",
       "      <td>0</td>\n",
       "      <td>Cash loans</td>\n",
       "      <td>M</td>\n",
       "      <td>N</td>\n",
       "      <td>Y</td>\n",
       "      <td>0</td>\n",
       "      <td>121500.00</td>\n",
       "      <td>513000.00</td>\n",
       "      <td>21865.50</td>\n",
       "      <td>...</td>\n",
       "      <td>367035.00</td>\n",
       "      <td>365302.00</td>\n",
       "      <td>73407.00</td>\n",
       "      <td>365587.00</td>\n",
       "      <td>-10577.90</td>\n",
       "      <td>4.51</td>\n",
       "      <td>1.00</td>\n",
       "      <td>5.00</td>\n",
       "      <td>0.28</td>\n",
       "      <td>10.82</td>\n",
       "    </tr>\n",
       "  </tbody>\n",
       "</table>\n",
       "<p>5 rows × 225 columns</p>\n",
       "</div>"
      ],
      "text/plain": [
       "   SK_ID_CURR  TARGET NAME_CONTRACT_TYPE CODE_GENDER FLAG_OWN_CAR FLAG_OWN_REALTY  CNT_CHILDREN  \\\n",
       "0      100002       1         Cash loans           M            N               Y             0   \n",
       "1      100003       0         Cash loans           F            N               N             0   \n",
       "2      100004       0    Revolving loans           M            Y               Y             0   \n",
       "3      100006       0         Cash loans           F            N               Y             0   \n",
       "4      100007       0         Cash loans           M            N               Y             0   \n",
       "\n",
       "   AMT_INCOME_TOTAL  AMT_CREDIT  AMT_ANNUITY  ...  PA_DAYS_TOT_DURATION__sum  \\\n",
       "0         202500.00   406597.50     24700.50  ...                     548.00   \n",
       "1         270000.00  1293502.50     35698.50  ...                     681.00   \n",
       "2          67500.00   135000.00      6750.00  ...                      70.00   \n",
       "3         135000.00   312682.50     29686.50  ...                  365661.00   \n",
       "4         121500.00   513000.00     21865.50  ...                  367035.00   \n",
       "\n",
       "  PA_DAYS_TOT_DURATION__amp PA_DAYS_TOT_DURATION__mean PA_DAYS_TOT_DURATION__max  \\\n",
       "0                      0.00                     548.00                    548.00   \n",
       "1                    176.00                     227.00                    334.00   \n",
       "2                      0.00                      70.00                     70.00   \n",
       "3                 365524.00                   91415.25                 365524.00   \n",
       "4                 365302.00                   73407.00                 365587.00   \n",
       "\n",
       "  PA_DAYS_PROLONG_PCT__mean PA_DAYS_PROLONG_PCT__max  PA_OUTSTANDING_LOAN__sum  \\\n",
       "0                     20.58                    20.58                      0.00   \n",
       "1                     12.06                    42.73                      0.00   \n",
       "2                     22.22                    22.22                      0.00   \n",
       "3                 -36834.84                    99.43                      2.00   \n",
       "4                 -10577.90                     4.51                      1.00   \n",
       "\n",
       "   PA_OUTSTANDING_LOAN__size  PA_AMT_DIFF_PCT__mean  PA_AMT_DIFF_PCT__max  \n",
       "0                       1.00                   0.00                  0.00  \n",
       "1                       3.00                   5.77                 15.10  \n",
       "2                       1.00                 -17.20                -17.20  \n",
       "3                       4.00                  -7.50                  0.00  \n",
       "4                       5.00                   0.28                 10.82  \n",
       "\n",
       "[5 rows x 225 columns]"
      ]
     },
     "execution_count": 105,
     "metadata": {},
     "output_type": "execute_result"
    }
   ],
   "source": [
    "dict_df['app_train'].head()"
   ]
  },
  {
   "cell_type": "markdown",
   "metadata": {
    "id": "tqk0wPxcmynz"
   },
   "source": [
    "## FEATURE ENGINEERING"
   ]
  },
  {
   "cell_type": "markdown",
   "metadata": {},
   "source": [
    "app_train"
   ]
  },
  {
   "cell_type": "code",
   "execution_count": 106,
   "metadata": {
    "executionInfo": {
     "elapsed": 183199,
     "status": "ok",
     "timestamp": 1607420933164,
     "user": {
      "displayName": "Maryse Muller",
      "photoUrl": "",
      "userId": "13230828717959946182"
     },
     "user_tz": -60
    },
    "id": "bqB7FHQ1mx_d"
   },
   "outputs": [],
   "source": [
    "# Some simple new features (percentages)\n",
    "\n",
    "dict_df['app_train']['DAYS_EMPLOYED_PERC'] = \\\n",
    "    dict_df['app_train']['DAYS_EMPLOYED'] / dict_df['app_train']['DAYS_BIRTH']\n",
    "dict_df['app_train']['INCOME_CREDIT_PERC'] = \\\n",
    "    dict_df['app_train']['AMT_INCOME_TOTAL'] / dict_df['app_train']['AMT_CREDIT']\n",
    "dict_df['app_train']['INCOME_PER_PERSON'] = \\\n",
    "    dict_df['app_train']['AMT_INCOME_TOTAL'] / dict_df['app_train']['CNT_FAM_MEMBERS']\n",
    "dict_df['app_train']['ANNUITY_INCOME_PERC'] = \\\n",
    "    dict_df['app_train']['AMT_ANNUITY'] / dict_df['app_train']['AMT_INCOME_TOTAL']\n",
    "dict_df['app_train']['PAYMENT_RATE'] = \\\n",
    "    dict_df['app_train']['AMT_ANNUITY'] / dict_df['app_train']['AMT_CREDIT']\n",
    "\n",
    "# Feature engineering (other)\n",
    "\n",
    "dict_df['app_train'] = dict_df['app_train'].assign(CNT_FAM_MEMBERS_NOT_CHILD=lambda x: \\\n",
    "                         x['CNT_FAM_MEMBERS']-x['CNT_CHILDREN']).drop(columns='CNT_FAM_MEMBERS')"
   ]
  },
  {
   "cell_type": "markdown",
   "metadata": {},
   "source": [
    "app_test"
   ]
  },
  {
   "cell_type": "code",
   "execution_count": 107,
   "metadata": {},
   "outputs": [],
   "source": [
    "# Some simple new features (percentages)\n",
    "\n",
    "dict_df['app_test']['DAYS_EMPLOYED_PERC'] = \\\n",
    "    dict_df['app_test']['DAYS_EMPLOYED'] / dict_df['app_test']['DAYS_BIRTH']\n",
    "dict_df['app_test']['INCOME_CREDIT_PERC'] = \\\n",
    "    dict_df['app_test']['AMT_INCOME_TOTAL'] / dict_df['app_test']['AMT_CREDIT']\n",
    "dict_df['app_test']['INCOME_PER_PERSON'] = \\\n",
    "    dict_df['app_test']['AMT_INCOME_TOTAL'] / dict_df['app_test']['CNT_FAM_MEMBERS']\n",
    "dict_df['app_test']['ANNUITY_INCOME_PERC'] = \\\n",
    "    dict_df['app_test']['AMT_ANNUITY'] / dict_df['app_test']['AMT_INCOME_TOTAL']\n",
    "dict_df['app_test']['PAYMENT_RATE'] = \\\n",
    "    dict_df['app_test']['AMT_ANNUITY'] / dict_df['app_test']['AMT_CREDIT']\n",
    "\n",
    "# Feature engineering (other)\n",
    "\n",
    "dict_df['app_test'] = dict_df['app_test'].assign(CNT_FAM_MEMBERS_NOT_CHILD=lambda x: \\\n",
    "                         x['CNT_FAM_MEMBERS']-x['CNT_CHILDREN']).drop(columns='CNT_FAM_MEMBERS')"
   ]
  },
  {
   "cell_type": "markdown",
   "metadata": {
    "id": "huybodM0rjbA"
   },
   "source": [
    "## 4 SAVE DATA"
   ]
  },
  {
   "cell_type": "code",
   "execution_count": 108,
   "metadata": {},
   "outputs": [],
   "source": [
    "# define quantitative and categorical columns\n",
    "\n",
    "cat_cols = list(dict_df['app_train'].select_dtypes(exclude=[np.number]).columns)\n",
    "quant_cols = list(dict_df['app_train'].select_dtypes(include=[np.number]).columns)"
   ]
  },
  {
   "cell_type": "code",
   "execution_count": 109,
   "metadata": {},
   "outputs": [],
   "source": [
    "# recasts to best numerical format\n",
    "\n",
    "for c in quant_cols:\n",
    "    dict_df['app_train'][c] = pd.Series(pd.to_numeric(dict_df['app_train'][c]),\n",
    "                                        index=dict_df['app_train'][c].index,\n",
    "                                        name=c)\n",
    "    \n",
    "for c in [col for col in quant_cols if col != 'TARGET']:\n",
    "    dict_df['app_test'][c] = pd.Series(pd.to_numeric(dict_df['app_test'][c]),\n",
    "                                       index=dict_df['app_test'][c].index,\n",
    "                                       name=c)"
   ]
  },
  {
   "cell_type": "code",
   "execution_count": 110,
   "metadata": {},
   "outputs": [],
   "source": [
    "# rename the datasets\n",
    "\n",
    "X_cols = [col for col in dict_df['app_train'].columns if col != 'TARGET']\n",
    "y_col =['SK_ID_CURR', 'TARGET']\n",
    "\n",
    "dict_agg = {'X_train': dict_df['app_train'][X_cols].set_index('SK_ID_CURR'),\n",
    "            'y_train': dict_df['app_train'][y_col].set_index('SK_ID_CURR'),\n",
    "            'X_test': dict_df['app_test'][X_cols].set_index('SK_ID_CURR')}"
   ]
  },
  {
   "cell_type": "code",
   "execution_count": 111,
   "metadata": {},
   "outputs": [
    {
     "data": {
      "text/plain": [
       "((307511, 228), (307511, 1), (48744, 228))"
      ]
     },
     "execution_count": 111,
     "metadata": {},
     "output_type": "execute_result"
    }
   ],
   "source": [
    "dict_agg['X_train'].shape, dict_agg['y_train'].shape, dict_agg['X_test'].shape"
   ]
  },
  {
   "cell_type": "code",
   "execution_count": 112,
   "metadata": {
    "executionInfo": {
     "elapsed": 227320,
     "status": "ok",
     "timestamp": 1607420977316,
     "user": {
      "displayName": "Maryse Muller",
      "photoUrl": "",
      "userId": "13230828717959946182"
     },
     "user_tz": -60
    },
    "id": "ZxNXYbZC__3p"
   },
   "outputs": [],
   "source": [
    "### Pickling the aggregated dataset\n",
    "\n",
    "import dill\n",
    "\n",
    "with open('../data/cleaned/dict_df_agg.pkl', 'wb') as file:\n",
    "    dill.dump(dict_agg, file)"
   ]
  },
  {
   "cell_type": "code",
   "execution_count": 113,
   "metadata": {
    "executionInfo": {
     "elapsed": 227310,
     "status": "ok",
     "timestamp": 1607420977321,
     "user": {
      "displayName": "Maryse Muller",
      "photoUrl": "",
      "userId": "13230828717959946182"
     },
     "user_tz": -60
    },
    "id": "uuNErYCJ4s8w"
   },
   "outputs": [],
   "source": [
    "# ### Importation\n",
    "# import dill\n",
    "# with open('dict_df_agg.pkl', 'rb') as file:\n",
    "#     dict_df = dill.load(file)"
   ]
  },
  {
   "cell_type": "code",
   "execution_count": 124,
   "metadata": {},
   "outputs": [],
   "source": [
    "# Test opening\n",
    "\n",
    "import dill\n",
    "with open('../data/cleaned/dict_df_agg.pkl', 'rb') as file:\n",
    "    dict_df = dill.load(file)\n",
    "\n",
    "X_train = dict_agg['X_train']\n",
    "y_train = dict_agg['y_train']\n",
    "X_test = dict_agg['X_test']"
   ]
  },
  {
   "cell_type": "markdown",
   "metadata": {},
   "source": [
    "In fact in the dict X_train and y_train are X and y\n"
   ]
  }
 ],
 "metadata": {
  "colab": {
   "authorship_tag": "ABX9TyMOIH0ZxwpDT0PNc9CwHXrD",
   "collapsed_sections": [],
   "name": "P7_Merging.ipynb",
   "provenance": [
    {
     "file_id": "1krPTwGXZIcd9RCCVovJ3wPhcyankXY_D",
     "timestamp": 1605635280642
    }
   ],
   "toc_visible": true
  },
  "kernelspec": {
   "display_name": "Python 3.7.13 ('OCP7')",
   "language": "python",
   "name": "python3"
  },
  "language_info": {
   "codemirror_mode": {
    "name": "ipython",
    "version": 3
   },
   "file_extension": ".py",
   "mimetype": "text/x-python",
   "name": "python",
   "nbconvert_exporter": "python",
   "pygments_lexer": "ipython3",
   "version": "3.7.13"
  },
  "toc": {
   "base_numbering": 1,
   "nav_menu": {},
   "number_sections": false,
   "sideBar": true,
   "skip_h1_title": false,
   "title_cell": "Table of Contents",
   "title_sidebar": "Contents",
   "toc_cell": true,
   "toc_position": {
    "height": "calc(100% - 180px)",
    "left": "10px",
    "top": "150px",
    "width": "307.2px"
   },
   "toc_section_display": true,
   "toc_window_display": true
  },
  "varInspector": {
   "cols": {
    "lenName": 16,
    "lenType": 16,
    "lenVar": 40
   },
   "kernels_config": {
    "python": {
     "delete_cmd_postfix": "",
     "delete_cmd_prefix": "del ",
     "library": "var_list.py",
     "varRefreshCmd": "print(var_dic_list())"
    },
    "r": {
     "delete_cmd_postfix": ") ",
     "delete_cmd_prefix": "rm(",
     "library": "var_list.r",
     "varRefreshCmd": "cat(var_dic_list()) "
    }
   },
   "types_to_exclude": [
    "module",
    "function",
    "builtin_function_or_method",
    "instance",
    "_Feature"
   ],
   "window_display": false
  },
  "vscode": {
   "interpreter": {
    "hash": "4a021ee55297eef2d09131013fb40c2be9107a7aec06b872979238f8fe03dbee"
   }
  }
 },
 "nbformat": 4,
 "nbformat_minor": 1
}
