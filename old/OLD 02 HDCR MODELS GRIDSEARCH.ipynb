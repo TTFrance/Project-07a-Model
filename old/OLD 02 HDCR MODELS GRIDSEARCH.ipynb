{
 "cells": [
  {
   "cell_type": "markdown",
   "metadata": {},
   "source": [
    "A first attempt at getting a working LGBM Model running\n",
    "\n",
    "- The best LGBM model is pickled to 'model/best_LGBM.pkl'\n",
    "- The best XGBOOST model is pickled to 'model/best_XGBOOST.pkl'"
   ]
  },
  {
   "cell_type": "markdown",
   "metadata": {},
   "source": [
    "# IMPORTS"
   ]
  },
  {
   "cell_type": "code",
   "execution_count": 1,
   "metadata": {},
   "outputs": [],
   "source": [
    "import pandas as pd\n",
    "import numpy as np\n",
    "\n",
    "from sklearn.model_selection import KFold\n",
    "from sklearn.metrics import roc_auc_score\n",
    "from sklearn.model_selection import GridSearchCV\n",
    "from sklearn.ensemble import GradientBoostingClassifier\n",
    "from sklearn.ensemble import ExtraTreesClassifier, RandomForestClassifier\n",
    "from sklearn.tree import DecisionTreeClassifier, ExtraTreeClassifier\n",
    "from sklearn.linear_model import RidgeClassifier\n",
    "\n",
    "import xgboost as xgb\n",
    "from xgboost.sklearn import XGBRegressor, XGBClassifier\n",
    "\n",
    "from lightgbm import LGBMClassifier\n",
    "\n",
    "import re\n",
    "import gc\n",
    "import joblib\n",
    "\n",
    "import warnings\n",
    "warnings.filterwarnings(\"ignore\")"
   ]
  },
  {
   "cell_type": "markdown",
   "metadata": {},
   "source": [
    "# READ DATA"
   ]
  },
  {
   "cell_type": "markdown",
   "metadata": {},
   "source": [
    "The data used here has been preprocessed by the file '01 HDCR Data Preprocess'"
   ]
  },
  {
   "cell_type": "code",
   "execution_count": 8,
   "metadata": {},
   "outputs": [
    {
     "name": "stdout",
     "output_type": "stream",
     "text": [
      "Using saved data\n"
     ]
    },
    {
     "data": {
      "text/plain": [
       "(20000, 767)"
      ]
     },
     "execution_count": 8,
     "metadata": {},
     "output_type": "execute_result"
    }
   ],
   "source": [
    "USE_SAMPLE_DATA = True\n",
    "\n",
    "if USE_SAMPLE_DATA:\n",
    "    print ('Using saved data')\n",
    "    df = pd.read_csv('testdata/hdcr10k.csv')\n",
    "else:\n",
    "    print ('Using FULL data')\n",
    "    # df = pd.read_csv('../data/cleaned/hcdr_FULL.csv',nrows=10000)\n",
    "    df = pd.read_csv('../data/cleaned/hcdr_FULL.csv')\n",
    "\n",
    "df = df.rename(columns = lambda x:re.sub('[^A-Za-z0-9_]+', '', x))\n",
    "\n",
    "df.shape"
   ]
  },
  {
   "cell_type": "code",
   "execution_count": 9,
   "metadata": {},
   "outputs": [
    {
     "data": {
      "text/plain": [
       "0.0    9225\n",
       "1.0     775\n",
       "Name: TARGET, dtype: int64"
      ]
     },
     "execution_count": 9,
     "metadata": {},
     "output_type": "execute_result"
    }
   ],
   "source": [
    "df = df[~df.TARGET.isna()]\n",
    "df.TARGET.value_counts(dropna=False)"
   ]
  },
  {
   "cell_type": "code",
   "execution_count": 10,
   "metadata": {},
   "outputs": [
    {
     "name": "stdout",
     "output_type": "stream",
     "text": [
      "5392502\n"
     ]
    }
   ],
   "source": [
    "print (df.isna().sum().sum())"
   ]
  },
  {
   "cell_type": "markdown",
   "metadata": {},
   "source": [
    "# IMPUTE NaN"
   ]
  },
  {
   "cell_type": "markdown",
   "metadata": {},
   "source": [
    "! SimpleImputer drops columns consisting entirely of missing values !\n",
    "\n",
    "Solution is to drop these columns beforehand, or to not include them in the imputation"
   ]
  },
  {
   "cell_type": "code",
   "execution_count": 11,
   "metadata": {},
   "outputs": [],
   "source": [
    "num_rows = df.shape[0]\n",
    "\n",
    "lst_empty_cols = []\n",
    "for column in df.columns:\n",
    "    if df[column].isnull().sum() == num_rows:\n",
    "        lst_empty_cols.append(column)\n",
    "df = df.drop(columns = lst_empty_cols)"
   ]
  },
  {
   "cell_type": "code",
   "execution_count": 12,
   "metadata": {},
   "outputs": [],
   "source": [
    "from sklearn.preprocessing import LabelEncoder\n",
    "from sklearn.preprocessing import MinMaxScaler, StandardScaler\n",
    "from sklearn.impute import SimpleImputer\n",
    "\n",
    "# NO LONGER NEEDED HERE AS IT IS DONE IN THE PREVIOUS NOTEBOOK\n",
    "\n",
    "if df.isna().sum().sum() > 0:\n",
    "    df.replace([np.inf, -np.inf], np.nan, inplace=True)\n",
    "    imputer = SimpleImputer(missing_values=np.nan, strategy = 'median')\n",
    "    df=pd.DataFrame(imputer.fit_transform(df), columns=df.columns, index=df.index)\n",
    "\n",
    "    # Scale the features\n",
    "    # scaler = MinMaxScaler(feature_range = (0, 1))\n",
    "    # df=pd.DataFrame(scaler.fit_transform(df), columns=df.columns, index=df.index)\n"
   ]
  },
  {
   "cell_type": "code",
   "execution_count": 9,
   "metadata": {},
   "outputs": [
    {
     "name": "stdout",
     "output_type": "stream",
     "text": [
      "0\n"
     ]
    }
   ],
   "source": [
    "print (df.isna().sum().sum())"
   ]
  },
  {
   "cell_type": "markdown",
   "metadata": {},
   "source": [
    "# X and y"
   ]
  },
  {
   "cell_type": "code",
   "execution_count": 13,
   "metadata": {},
   "outputs": [
    {
     "name": "stdout",
     "output_type": "stream",
     "text": [
      "0.0    9225\n",
      "1.0     775\n",
      "Name: TARGET, dtype: int64\n",
      "(10000, 749)\n",
      "(10000,)\n"
     ]
    }
   ],
   "source": [
    "X= df.drop('TARGET',axis=1)\n",
    "y= df['TARGET']\n",
    "\n",
    "print (df.TARGET.value_counts(dropna=False))\n",
    "\n",
    "print (X.shape)\n",
    "print (y.shape)"
   ]
  },
  {
   "cell_type": "markdown",
   "metadata": {},
   "source": [
    "# SPLIT TEST/TRAIN"
   ]
  },
  {
   "cell_type": "code",
   "execution_count": 14,
   "metadata": {},
   "outputs": [
    {
     "name": "stdout",
     "output_type": "stream",
     "text": [
      "X_train (7000, 749)\n",
      "X_test  (3000, 749)\n",
      "y_train (7000,)\n",
      "y_test  (3000,)\n"
     ]
    }
   ],
   "source": [
    "from sklearn.model_selection import train_test_split\n",
    "X_train, X_test, y_train, y_test = train_test_split(X, y, test_size=0.30, random_state=1234)\n",
    "\n",
    "print ('X_train',X_train.shape)\n",
    "print ('X_test ',X_test.shape)\n",
    "print ('y_train',y_train.shape)\n",
    "print ('y_test ',y_test.shape)\n"
   ]
  },
  {
   "cell_type": "markdown",
   "metadata": {},
   "source": [
    "# GridSearch Functions"
   ]
  },
  {
   "cell_type": "code",
   "execution_count": 15,
   "metadata": {},
   "outputs": [],
   "source": [
    "def init_results():\n",
    "    return pd.DataFrame(columns=['classifier','grid_score','score','params'])\n",
    "\n",
    "def add_result(results,classifier,grid_score,score,params):\n",
    "    new_row = {'classifier':classifier, 'grid_score':grid_score, 'score':score, 'params':params}\n",
    "    return results.append(new_row, ignore_index=True)\n",
    "\n",
    "def show_results(results):\n",
    "    print(results.sort_values('score', ascending=False))\n",
    "\n",
    "from sklearn.model_selection import GridSearchCV\n",
    "from sklearn.metrics import roc_auc_score\n",
    "\n",
    "def run_gridsearch(model_name, model, params, folds, X_train, y_train, X_test, y_test, verbosity):\n",
    "    print ('Running GridSearchCV for',model_name)\n",
    "    grid = GridSearchCV(model, params, scoring='roc_auc', cv=folds, verbose=verbosity)\n",
    "    grid.fit(X_train, y_train)\n",
    "    best_model = grid.best_estimator_\n",
    "    best_params = grid.best_params_\n",
    "    grid_score = grid.best_score_\n",
    "    best_model.fit(X_train, y_train)\n",
    "    y_predict = best_model.predict(X_test)\n",
    "    auc_score = roc_auc_score(y_test,y_predict)\n",
    "    return grid_score, auc_score, best_params, best_model\n"
   ]
  },
  {
   "cell_type": "code",
   "execution_count": 16,
   "metadata": {},
   "outputs": [],
   "source": [
    "results = init_results()"
   ]
  },
  {
   "cell_type": "code",
   "execution_count": 17,
   "metadata": {},
   "outputs": [],
   "source": [
    "folds = KFold(n_splits= 5, shuffle=True, random_state=1001)"
   ]
  },
  {
   "cell_type": "markdown",
   "metadata": {},
   "source": [
    "# XGBClassifier"
   ]
  },
  {
   "cell_type": "code",
   "execution_count": null,
   "metadata": {},
   "outputs": [],
   "source": []
  },
  {
   "cell_type": "markdown",
   "metadata": {},
   "source": [
    "# LGBMClassifier"
   ]
  },
  {
   "cell_type": "code",
   "execution_count": 16,
   "metadata": {},
   "outputs": [
    {
     "name": "stdout",
     "output_type": "stream",
     "text": [
      "Running GridSearchCV for LGBMClassifier\n",
      "Fitting 5 folds for each of 8 candidates, totalling 40 fits\n",
      "[CV 1/5] END colsample_bytree=0.9497036, learning_rate=0.1, max_depth=5, min_child_weight=39.3259775, min_split_gain=0.0222415, n_estimators=100, num_leaves=34, reg_alpha=0.041545473, reg_lambda=0.0735294, subsample=0.8715623;, score=0.774 total time=   0.4s\n",
      "[CV 2/5] END colsample_bytree=0.9497036, learning_rate=0.1, max_depth=5, min_child_weight=39.3259775, min_split_gain=0.0222415, n_estimators=100, num_leaves=34, reg_alpha=0.041545473, reg_lambda=0.0735294, subsample=0.8715623;, score=0.765 total time=   0.3s\n",
      "[CV 3/5] END colsample_bytree=0.9497036, learning_rate=0.1, max_depth=5, min_child_weight=39.3259775, min_split_gain=0.0222415, n_estimators=100, num_leaves=34, reg_alpha=0.041545473, reg_lambda=0.0735294, subsample=0.8715623;, score=0.754 total time=   0.3s\n",
      "[CV 4/5] END colsample_bytree=0.9497036, learning_rate=0.1, max_depth=5, min_child_weight=39.3259775, min_split_gain=0.0222415, n_estimators=100, num_leaves=34, reg_alpha=0.041545473, reg_lambda=0.0735294, subsample=0.8715623;, score=0.761 total time=   0.4s\n",
      "[CV 5/5] END colsample_bytree=0.9497036, learning_rate=0.1, max_depth=5, min_child_weight=39.3259775, min_split_gain=0.0222415, n_estimators=100, num_leaves=34, reg_alpha=0.041545473, reg_lambda=0.0735294, subsample=0.8715623;, score=0.728 total time=   0.4s\n",
      "[CV 1/5] END colsample_bytree=0.9497036, learning_rate=0.1, max_depth=5, min_child_weight=39.3259775, min_split_gain=0.0222415, n_estimators=100, num_leaves=40, reg_alpha=0.041545473, reg_lambda=0.0735294, subsample=0.8715623;, score=0.774 total time=   0.3s\n",
      "[CV 2/5] END colsample_bytree=0.9497036, learning_rate=0.1, max_depth=5, min_child_weight=39.3259775, min_split_gain=0.0222415, n_estimators=100, num_leaves=40, reg_alpha=0.041545473, reg_lambda=0.0735294, subsample=0.8715623;, score=0.765 total time=   0.3s\n",
      "[CV 3/5] END colsample_bytree=0.9497036, learning_rate=0.1, max_depth=5, min_child_weight=39.3259775, min_split_gain=0.0222415, n_estimators=100, num_leaves=40, reg_alpha=0.041545473, reg_lambda=0.0735294, subsample=0.8715623;, score=0.754 total time=   0.3s\n",
      "[CV 4/5] END colsample_bytree=0.9497036, learning_rate=0.1, max_depth=5, min_child_weight=39.3259775, min_split_gain=0.0222415, n_estimators=100, num_leaves=40, reg_alpha=0.041545473, reg_lambda=0.0735294, subsample=0.8715623;, score=0.761 total time=   0.3s\n",
      "[CV 5/5] END colsample_bytree=0.9497036, learning_rate=0.1, max_depth=5, min_child_weight=39.3259775, min_split_gain=0.0222415, n_estimators=100, num_leaves=40, reg_alpha=0.041545473, reg_lambda=0.0735294, subsample=0.8715623;, score=0.728 total time=   0.3s\n",
      "[CV 1/5] END colsample_bytree=0.9497036, learning_rate=0.1, max_depth=8, min_child_weight=39.3259775, min_split_gain=0.0222415, n_estimators=100, num_leaves=34, reg_alpha=0.041545473, reg_lambda=0.0735294, subsample=0.8715623;, score=0.771 total time=   0.3s\n",
      "[CV 2/5] END colsample_bytree=0.9497036, learning_rate=0.1, max_depth=8, min_child_weight=39.3259775, min_split_gain=0.0222415, n_estimators=100, num_leaves=34, reg_alpha=0.041545473, reg_lambda=0.0735294, subsample=0.8715623;, score=0.764 total time=   0.3s\n",
      "[CV 3/5] END colsample_bytree=0.9497036, learning_rate=0.1, max_depth=8, min_child_weight=39.3259775, min_split_gain=0.0222415, n_estimators=100, num_leaves=34, reg_alpha=0.041545473, reg_lambda=0.0735294, subsample=0.8715623;, score=0.759 total time=   0.3s\n",
      "[CV 4/5] END colsample_bytree=0.9497036, learning_rate=0.1, max_depth=8, min_child_weight=39.3259775, min_split_gain=0.0222415, n_estimators=100, num_leaves=34, reg_alpha=0.041545473, reg_lambda=0.0735294, subsample=0.8715623;, score=0.759 total time=   0.4s\n",
      "[CV 5/5] END colsample_bytree=0.9497036, learning_rate=0.1, max_depth=8, min_child_weight=39.3259775, min_split_gain=0.0222415, n_estimators=100, num_leaves=34, reg_alpha=0.041545473, reg_lambda=0.0735294, subsample=0.8715623;, score=0.737 total time=   0.3s\n",
      "[CV 1/5] END colsample_bytree=0.9497036, learning_rate=0.1, max_depth=8, min_child_weight=39.3259775, min_split_gain=0.0222415, n_estimators=100, num_leaves=40, reg_alpha=0.041545473, reg_lambda=0.0735294, subsample=0.8715623;, score=0.771 total time=   0.3s\n",
      "[CV 2/5] END colsample_bytree=0.9497036, learning_rate=0.1, max_depth=8, min_child_weight=39.3259775, min_split_gain=0.0222415, n_estimators=100, num_leaves=40, reg_alpha=0.041545473, reg_lambda=0.0735294, subsample=0.8715623;, score=0.764 total time=   0.4s\n",
      "[CV 3/5] END colsample_bytree=0.9497036, learning_rate=0.1, max_depth=8, min_child_weight=39.3259775, min_split_gain=0.0222415, n_estimators=100, num_leaves=40, reg_alpha=0.041545473, reg_lambda=0.0735294, subsample=0.8715623;, score=0.759 total time=   0.3s\n",
      "[CV 4/5] END colsample_bytree=0.9497036, learning_rate=0.1, max_depth=8, min_child_weight=39.3259775, min_split_gain=0.0222415, n_estimators=100, num_leaves=40, reg_alpha=0.041545473, reg_lambda=0.0735294, subsample=0.8715623;, score=0.759 total time=   0.4s\n",
      "[CV 5/5] END colsample_bytree=0.9497036, learning_rate=0.1, max_depth=8, min_child_weight=39.3259775, min_split_gain=0.0222415, n_estimators=100, num_leaves=40, reg_alpha=0.041545473, reg_lambda=0.0735294, subsample=0.8715623;, score=0.737 total time=   0.4s\n",
      "[CV 1/5] END colsample_bytree=0.9497036, learning_rate=0.02, max_depth=5, min_child_weight=39.3259775, min_split_gain=0.0222415, n_estimators=100, num_leaves=34, reg_alpha=0.041545473, reg_lambda=0.0735294, subsample=0.8715623;, score=0.759 total time=   0.4s\n",
      "[CV 2/5] END colsample_bytree=0.9497036, learning_rate=0.02, max_depth=5, min_child_weight=39.3259775, min_split_gain=0.0222415, n_estimators=100, num_leaves=34, reg_alpha=0.041545473, reg_lambda=0.0735294, subsample=0.8715623;, score=0.750 total time=   0.4s\n",
      "[CV 3/5] END colsample_bytree=0.9497036, learning_rate=0.02, max_depth=5, min_child_weight=39.3259775, min_split_gain=0.0222415, n_estimators=100, num_leaves=34, reg_alpha=0.041545473, reg_lambda=0.0735294, subsample=0.8715623;, score=0.758 total time=   0.4s\n",
      "[CV 4/5] END colsample_bytree=0.9497036, learning_rate=0.02, max_depth=5, min_child_weight=39.3259775, min_split_gain=0.0222415, n_estimators=100, num_leaves=34, reg_alpha=0.041545473, reg_lambda=0.0735294, subsample=0.8715623;, score=0.748 total time=   0.4s\n",
      "[CV 5/5] END colsample_bytree=0.9497036, learning_rate=0.02, max_depth=5, min_child_weight=39.3259775, min_split_gain=0.0222415, n_estimators=100, num_leaves=34, reg_alpha=0.041545473, reg_lambda=0.0735294, subsample=0.8715623;, score=0.735 total time=   0.4s\n",
      "[CV 1/5] END colsample_bytree=0.9497036, learning_rate=0.02, max_depth=5, min_child_weight=39.3259775, min_split_gain=0.0222415, n_estimators=100, num_leaves=40, reg_alpha=0.041545473, reg_lambda=0.0735294, subsample=0.8715623;, score=0.759 total time=   0.3s\n",
      "[CV 2/5] END colsample_bytree=0.9497036, learning_rate=0.02, max_depth=5, min_child_weight=39.3259775, min_split_gain=0.0222415, n_estimators=100, num_leaves=40, reg_alpha=0.041545473, reg_lambda=0.0735294, subsample=0.8715623;, score=0.750 total time=   0.3s\n",
      "[CV 3/5] END colsample_bytree=0.9497036, learning_rate=0.02, max_depth=5, min_child_weight=39.3259775, min_split_gain=0.0222415, n_estimators=100, num_leaves=40, reg_alpha=0.041545473, reg_lambda=0.0735294, subsample=0.8715623;, score=0.758 total time=   0.3s\n",
      "[CV 4/5] END colsample_bytree=0.9497036, learning_rate=0.02, max_depth=5, min_child_weight=39.3259775, min_split_gain=0.0222415, n_estimators=100, num_leaves=40, reg_alpha=0.041545473, reg_lambda=0.0735294, subsample=0.8715623;, score=0.748 total time=   0.3s\n",
      "[CV 5/5] END colsample_bytree=0.9497036, learning_rate=0.02, max_depth=5, min_child_weight=39.3259775, min_split_gain=0.0222415, n_estimators=100, num_leaves=40, reg_alpha=0.041545473, reg_lambda=0.0735294, subsample=0.8715623;, score=0.735 total time=   0.3s\n",
      "[CV 1/5] END colsample_bytree=0.9497036, learning_rate=0.02, max_depth=8, min_child_weight=39.3259775, min_split_gain=0.0222415, n_estimators=100, num_leaves=34, reg_alpha=0.041545473, reg_lambda=0.0735294, subsample=0.8715623;, score=0.759 total time=   0.3s\n",
      "[CV 2/5] END colsample_bytree=0.9497036, learning_rate=0.02, max_depth=8, min_child_weight=39.3259775, min_split_gain=0.0222415, n_estimators=100, num_leaves=34, reg_alpha=0.041545473, reg_lambda=0.0735294, subsample=0.8715623;, score=0.750 total time=   0.3s\n",
      "[CV 3/5] END colsample_bytree=0.9497036, learning_rate=0.02, max_depth=8, min_child_weight=39.3259775, min_split_gain=0.0222415, n_estimators=100, num_leaves=34, reg_alpha=0.041545473, reg_lambda=0.0735294, subsample=0.8715623;, score=0.756 total time=   0.3s\n",
      "[CV 4/5] END colsample_bytree=0.9497036, learning_rate=0.02, max_depth=8, min_child_weight=39.3259775, min_split_gain=0.0222415, n_estimators=100, num_leaves=34, reg_alpha=0.041545473, reg_lambda=0.0735294, subsample=0.8715623;, score=0.747 total time=   0.4s\n",
      "[CV 5/5] END colsample_bytree=0.9497036, learning_rate=0.02, max_depth=8, min_child_weight=39.3259775, min_split_gain=0.0222415, n_estimators=100, num_leaves=34, reg_alpha=0.041545473, reg_lambda=0.0735294, subsample=0.8715623;, score=0.737 total time=   0.4s\n",
      "[CV 1/5] END colsample_bytree=0.9497036, learning_rate=0.02, max_depth=8, min_child_weight=39.3259775, min_split_gain=0.0222415, n_estimators=100, num_leaves=40, reg_alpha=0.041545473, reg_lambda=0.0735294, subsample=0.8715623;, score=0.759 total time=   0.4s\n",
      "[CV 2/5] END colsample_bytree=0.9497036, learning_rate=0.02, max_depth=8, min_child_weight=39.3259775, min_split_gain=0.0222415, n_estimators=100, num_leaves=40, reg_alpha=0.041545473, reg_lambda=0.0735294, subsample=0.8715623;, score=0.750 total time=   0.4s\n",
      "[CV 3/5] END colsample_bytree=0.9497036, learning_rate=0.02, max_depth=8, min_child_weight=39.3259775, min_split_gain=0.0222415, n_estimators=100, num_leaves=40, reg_alpha=0.041545473, reg_lambda=0.0735294, subsample=0.8715623;, score=0.756 total time=   0.4s\n",
      "[CV 4/5] END colsample_bytree=0.9497036, learning_rate=0.02, max_depth=8, min_child_weight=39.3259775, min_split_gain=0.0222415, n_estimators=100, num_leaves=40, reg_alpha=0.041545473, reg_lambda=0.0735294, subsample=0.8715623;, score=0.747 total time=   0.4s\n",
      "[CV 5/5] END colsample_bytree=0.9497036, learning_rate=0.02, max_depth=8, min_child_weight=39.3259775, min_split_gain=0.0222415, n_estimators=100, num_leaves=40, reg_alpha=0.041545473, reg_lambda=0.0735294, subsample=0.8715623;, score=0.737 total time=   0.4s\n",
      "Running GridSearchCV for XGBClassifier\n",
      "Fitting 5 folds for each of 1 candidates, totalling 5 fits\n",
      "[09:02:26] WARNING: C:/Users/administrator/workspace/xgboost-win64_release_1.6.0/src/learner.cc:627: \n",
      "Parameters: { \"silent\" } might not be used.\n",
      "\n",
      "  This could be a false alarm, with some parameters getting used by language bindings but\n",
      "  then being mistakenly passed down to XGBoost core, or some parameter actually being used\n",
      "  but getting flagged wrongly here. Please open an issue if you find any such cases.\n",
      "\n",
      "\n",
      "[CV 1/5] END colsample_bytree=0.7, learning_rate=0.05, max_depth=6, min_child_weight=11, missing=-999, n_estimators=5, nthread=4, objective=binary:logistic, seed=1337, silent=1, subsample=0.8;, score=0.741 total time=   0.4s\n",
      "[09:02:26] WARNING: C:/Users/administrator/workspace/xgboost-win64_release_1.6.0/src/learner.cc:627: \n",
      "Parameters: { \"silent\" } might not be used.\n",
      "\n",
      "  This could be a false alarm, with some parameters getting used by language bindings but\n",
      "  then being mistakenly passed down to XGBoost core, or some parameter actually being used\n",
      "  but getting flagged wrongly here. Please open an issue if you find any such cases.\n",
      "\n",
      "\n",
      "[CV 2/5] END colsample_bytree=0.7, learning_rate=0.05, max_depth=6, min_child_weight=11, missing=-999, n_estimators=5, nthread=4, objective=binary:logistic, seed=1337, silent=1, subsample=0.8;, score=0.719 total time=   0.4s\n",
      "[09:02:27] WARNING: C:/Users/administrator/workspace/xgboost-win64_release_1.6.0/src/learner.cc:627: \n",
      "Parameters: { \"silent\" } might not be used.\n",
      "\n",
      "  This could be a false alarm, with some parameters getting used by language bindings but\n",
      "  then being mistakenly passed down to XGBoost core, or some parameter actually being used\n",
      "  but getting flagged wrongly here. Please open an issue if you find any such cases.\n",
      "\n",
      "\n",
      "[CV 3/5] END colsample_bytree=0.7, learning_rate=0.05, max_depth=6, min_child_weight=11, missing=-999, n_estimators=5, nthread=4, objective=binary:logistic, seed=1337, silent=1, subsample=0.8;, score=0.717 total time=   0.4s\n",
      "[09:02:28] WARNING: C:/Users/administrator/workspace/xgboost-win64_release_1.6.0/src/learner.cc:627: \n",
      "Parameters: { \"silent\" } might not be used.\n",
      "\n",
      "  This could be a false alarm, with some parameters getting used by language bindings but\n",
      "  then being mistakenly passed down to XGBoost core, or some parameter actually being used\n",
      "  but getting flagged wrongly here. Please open an issue if you find any such cases.\n",
      "\n",
      "\n",
      "[CV 4/5] END colsample_bytree=0.7, learning_rate=0.05, max_depth=6, min_child_weight=11, missing=-999, n_estimators=5, nthread=4, objective=binary:logistic, seed=1337, silent=1, subsample=0.8;, score=0.734 total time=   0.4s\n",
      "[09:02:28] WARNING: C:/Users/administrator/workspace/xgboost-win64_release_1.6.0/src/learner.cc:627: \n",
      "Parameters: { \"silent\" } might not be used.\n",
      "\n",
      "  This could be a false alarm, with some parameters getting used by language bindings but\n",
      "  then being mistakenly passed down to XGBoost core, or some parameter actually being used\n",
      "  but getting flagged wrongly here. Please open an issue if you find any such cases.\n",
      "\n",
      "\n",
      "[CV 5/5] END colsample_bytree=0.7, learning_rate=0.05, max_depth=6, min_child_weight=11, missing=-999, n_estimators=5, nthread=4, objective=binary:logistic, seed=1337, silent=1, subsample=0.8;, score=0.732 total time=   0.4s\n",
      "[09:02:29] WARNING: C:/Users/administrator/workspace/xgboost-win64_release_1.6.0/src/learner.cc:627: \n",
      "Parameters: { \"silent\" } might not be used.\n",
      "\n",
      "  This could be a false alarm, with some parameters getting used by language bindings but\n",
      "  then being mistakenly passed down to XGBoost core, or some parameter actually being used\n",
      "  but getting flagged wrongly here. Please open an issue if you find any such cases.\n",
      "\n",
      "\n",
      "[09:02:29] WARNING: C:/Users/administrator/workspace/xgboost-win64_release_1.6.0/src/learner.cc:627: \n",
      "Parameters: { \"silent\" } might not be used.\n",
      "\n",
      "  This could be a false alarm, with some parameters getting used by language bindings but\n",
      "  then being mistakenly passed down to XGBoost core, or some parameter actually being used\n",
      "  but getting flagged wrongly here. Please open an issue if you find any such cases.\n",
      "\n",
      "\n"
     ]
    }
   ],
   "source": [
    "lstModelParams = [\n",
    "    [\n",
    "        'LGBMClassifier',\n",
    "        LGBMClassifier(), \n",
    "        {   'n_estimators': [100],\n",
    "            'learning_rate':[0.1,0.02],\n",
    "            'num_leaves':[34,40],\n",
    "            'colsample_bytree':[0.9497036],\n",
    "            'subsample':[0.8715623],\n",
    "            'max_depth':[5, 8],\n",
    "            'reg_alpha':[0.041545473],\n",
    "            'reg_lambda':[0.0735294],\n",
    "            'min_split_gain':[0.0222415],\n",
    "            'min_child_weight':[39.3259775]\n",
    "        }\n",
    "    ],\n",
    "\n",
    "    [\n",
    "        'XGBClassifier',\n",
    "        xgb.XGBClassifier(), \n",
    "        {\n",
    "            'nthread':[4], #when use hyperthread, xgboost may become slower\n",
    "            'objective':['binary:logistic'],\n",
    "            'learning_rate': [0.05], #so called `eta` value\n",
    "            'max_depth': [6],\n",
    "            'min_child_weight': [11],\n",
    "            'silent': [1],\n",
    "            'subsample': [0.8],\n",
    "            'colsample_bytree': [0.7],\n",
    "            'n_estimators': [5], #number of trees, change it to 1000 for better results\n",
    "            'missing':[-999],\n",
    "            'seed': [1337],\n",
    "            'silent':[1]\n",
    "        }\n",
    "    ],\n",
    "]\n",
    "\n",
    "for x in lstModelParams:\n",
    "    model_name = x[0]\n",
    "    model = x[1]\n",
    "    params = x[2]\n",
    "    verbosity = 3\n",
    "    grid_score, auc_score, best_params, best_model = run_gridsearch(model_name, model, params, folds, X_train, y_train, X_test, y_test, verbosity)\n",
    "    results = add_result(results,model_name,grid_score,auc_score,best_params)\n",
    "    joblib.dump(best_model, 'model/best_' + model_name + '.pkl')\n",
    "\n"
   ]
  },
  {
   "cell_type": "code",
   "execution_count": 70,
   "metadata": {},
   "outputs": [
    {
     "name": "stdout",
     "output_type": "stream",
     "text": [
      "Running GridSearchCV for GradientBoostingClassifier\n",
      "Fitting 5 folds for each of 4 candidates, totalling 20 fits\n",
      "[CV 1/5] END learning_rate=0.1, max_depth=1, n_estimators=200;, score=0.764 total time=   6.0s\n",
      "[CV 2/5] END learning_rate=0.1, max_depth=1, n_estimators=200;, score=0.752 total time=   5.5s\n",
      "[CV 3/5] END learning_rate=0.1, max_depth=1, n_estimators=200;, score=0.768 total time=   5.5s\n",
      "[CV 4/5] END learning_rate=0.1, max_depth=1, n_estimators=200;, score=0.775 total time=   5.5s\n",
      "[CV 5/5] END learning_rate=0.1, max_depth=1, n_estimators=200;, score=0.738 total time=   5.6s\n",
      "[CV 1/5] END learning_rate=0.1, max_depth=3, n_estimators=200;, score=0.754 total time=  15.8s\n",
      "[CV 2/5] END learning_rate=0.1, max_depth=3, n_estimators=200;, score=0.738 total time=  15.9s\n",
      "[CV 3/5] END learning_rate=0.1, max_depth=3, n_estimators=200;, score=0.754 total time=  15.7s\n",
      "[CV 4/5] END learning_rate=0.1, max_depth=3, n_estimators=200;, score=0.736 total time=  16.7s\n",
      "[CV 5/5] END learning_rate=0.1, max_depth=3, n_estimators=200;, score=0.693 total time=  16.5s\n",
      "[CV 1/5] END learning_rate=0.02, max_depth=1, n_estimators=200;, score=0.740 total time=   5.5s\n",
      "[CV 2/5] END learning_rate=0.02, max_depth=1, n_estimators=200;, score=0.728 total time=   5.2s\n",
      "[CV 3/5] END learning_rate=0.02, max_depth=1, n_estimators=200;, score=0.739 total time=   5.2s\n",
      "[CV 4/5] END learning_rate=0.02, max_depth=1, n_estimators=200;, score=0.745 total time=   6.0s\n",
      "[CV 5/5] END learning_rate=0.02, max_depth=1, n_estimators=200;, score=0.719 total time=   5.6s\n",
      "[CV 1/5] END learning_rate=0.02, max_depth=3, n_estimators=200;, score=0.755 total time=  15.5s\n",
      "[CV 2/5] END learning_rate=0.02, max_depth=3, n_estimators=200;, score=0.745 total time=  16.3s\n",
      "[CV 3/5] END learning_rate=0.02, max_depth=3, n_estimators=200;, score=0.772 total time=  15.3s\n",
      "[CV 4/5] END learning_rate=0.02, max_depth=3, n_estimators=200;, score=0.764 total time=  15.0s\n",
      "[CV 5/5] END learning_rate=0.02, max_depth=3, n_estimators=200;, score=0.729 total time=  14.7s\n"
     ]
    }
   ],
   "source": [
    "lstModelParams = [\n",
    "    [\n",
    "        'GradientBoostingClassifier',\n",
    "        GradientBoostingClassifier(), \n",
    "        {\n",
    "            'n_estimators': [200],\n",
    "            'learning_rate':[0.1,0.02],\n",
    "            'max_depth':[1, 3]\n",
    "        }\n",
    "    ],\n",
    "]\n",
    "\n",
    "for x in lstModelParams:\n",
    "    model_name = x[0]\n",
    "    model = x[1]\n",
    "    params = x[2]\n",
    "    verbosity = 3\n",
    "    grid_score, auc_score, best_params, best_model = run_gridsearch(model_name, model, params, folds, X_train, y_train, X_test, y_test, verbosity)\n",
    "    results = add_result(results,model_name,grid_score,auc_score,best_params)\n",
    "    joblib.dump(best_model, 'model/best_' + model_name + '.pkl')\n"
   ]
  },
  {
   "cell_type": "markdown",
   "metadata": {},
   "source": [
    "# ExtraTrees"
   ]
  },
  {
   "cell_type": "code",
   "execution_count": 71,
   "metadata": {},
   "outputs": [
    {
     "name": "stdout",
     "output_type": "stream",
     "text": [
      "Running GridSearchCV for ExtraTreesClassifier_unbalanced\n",
      "Fitting 5 folds for each of 8 candidates, totalling 40 fits\n",
      "[CV 1/5] END min_samples_leaf=1, min_weight_fraction_leaf=0.0, n_estimators=100;, score=0.708 total time=   1.8s\n",
      "[CV 2/5] END min_samples_leaf=1, min_weight_fraction_leaf=0.0, n_estimators=100;, score=0.669 total time=   1.8s\n",
      "[CV 3/5] END min_samples_leaf=1, min_weight_fraction_leaf=0.0, n_estimators=100;, score=0.670 total time=   1.8s\n",
      "[CV 4/5] END min_samples_leaf=1, min_weight_fraction_leaf=0.0, n_estimators=100;, score=0.689 total time=   1.9s\n",
      "[CV 5/5] END min_samples_leaf=1, min_weight_fraction_leaf=0.0, n_estimators=100;, score=0.719 total time=   2.6s\n",
      "[CV 1/5] END min_samples_leaf=1, min_weight_fraction_leaf=0.0, n_estimators=200;, score=0.714 total time=   4.5s\n",
      "[CV 2/5] END min_samples_leaf=1, min_weight_fraction_leaf=0.0, n_estimators=200;, score=0.677 total time=   4.4s\n",
      "[CV 3/5] END min_samples_leaf=1, min_weight_fraction_leaf=0.0, n_estimators=200;, score=0.670 total time=   4.3s\n",
      "[CV 4/5] END min_samples_leaf=1, min_weight_fraction_leaf=0.0, n_estimators=200;, score=0.703 total time=   4.0s\n",
      "[CV 5/5] END min_samples_leaf=1, min_weight_fraction_leaf=0.0, n_estimators=200;, score=0.708 total time=   4.1s\n",
      "[CV 1/5] END min_samples_leaf=1, min_weight_fraction_leaf=0.1, n_estimators=100;, score=0.703 total time=   0.2s\n",
      "[CV 2/5] END min_samples_leaf=1, min_weight_fraction_leaf=0.1, n_estimators=100;, score=0.688 total time=   0.2s\n",
      "[CV 3/5] END min_samples_leaf=1, min_weight_fraction_leaf=0.1, n_estimators=100;, score=0.718 total time=   0.2s\n",
      "[CV 4/5] END min_samples_leaf=1, min_weight_fraction_leaf=0.1, n_estimators=100;, score=0.679 total time=   0.2s\n",
      "[CV 5/5] END min_samples_leaf=1, min_weight_fraction_leaf=0.1, n_estimators=100;, score=0.700 total time=   0.2s\n",
      "[CV 1/5] END min_samples_leaf=1, min_weight_fraction_leaf=0.1, n_estimators=200;, score=0.716 total time=   0.5s\n",
      "[CV 2/5] END min_samples_leaf=1, min_weight_fraction_leaf=0.1, n_estimators=200;, score=0.680 total time=   0.5s\n",
      "[CV 3/5] END min_samples_leaf=1, min_weight_fraction_leaf=0.1, n_estimators=200;, score=0.710 total time=   0.5s\n",
      "[CV 4/5] END min_samples_leaf=1, min_weight_fraction_leaf=0.1, n_estimators=200;, score=0.666 total time=   0.5s\n",
      "[CV 5/5] END min_samples_leaf=1, min_weight_fraction_leaf=0.1, n_estimators=200;, score=0.717 total time=   0.4s\n",
      "[CV 1/5] END min_samples_leaf=2, min_weight_fraction_leaf=0.0, n_estimators=100;, score=0.736 total time=   1.8s\n",
      "[CV 2/5] END min_samples_leaf=2, min_weight_fraction_leaf=0.0, n_estimators=100;, score=0.692 total time=   1.8s\n",
      "[CV 3/5] END min_samples_leaf=2, min_weight_fraction_leaf=0.0, n_estimators=100;, score=0.687 total time=   1.7s\n",
      "[CV 4/5] END min_samples_leaf=2, min_weight_fraction_leaf=0.0, n_estimators=100;, score=0.715 total time=   1.8s\n",
      "[CV 5/5] END min_samples_leaf=2, min_weight_fraction_leaf=0.0, n_estimators=100;, score=0.704 total time=   1.8s\n",
      "[CV 1/5] END min_samples_leaf=2, min_weight_fraction_leaf=0.0, n_estimators=200;, score=0.739 total time=   3.6s\n",
      "[CV 2/5] END min_samples_leaf=2, min_weight_fraction_leaf=0.0, n_estimators=200;, score=0.688 total time=   3.6s\n",
      "[CV 3/5] END min_samples_leaf=2, min_weight_fraction_leaf=0.0, n_estimators=200;, score=0.694 total time=   3.6s\n",
      "[CV 4/5] END min_samples_leaf=2, min_weight_fraction_leaf=0.0, n_estimators=200;, score=0.702 total time=   3.6s\n",
      "[CV 5/5] END min_samples_leaf=2, min_weight_fraction_leaf=0.0, n_estimators=200;, score=0.725 total time=   3.5s\n",
      "[CV 1/5] END min_samples_leaf=2, min_weight_fraction_leaf=0.1, n_estimators=100;, score=0.721 total time=   0.2s\n",
      "[CV 2/5] END min_samples_leaf=2, min_weight_fraction_leaf=0.1, n_estimators=100;, score=0.677 total time=   0.2s\n",
      "[CV 3/5] END min_samples_leaf=2, min_weight_fraction_leaf=0.1, n_estimators=100;, score=0.697 total time=   0.2s\n",
      "[CV 4/5] END min_samples_leaf=2, min_weight_fraction_leaf=0.1, n_estimators=100;, score=0.691 total time=   0.2s\n",
      "[CV 5/5] END min_samples_leaf=2, min_weight_fraction_leaf=0.1, n_estimators=100;, score=0.708 total time=   0.2s\n",
      "[CV 1/5] END min_samples_leaf=2, min_weight_fraction_leaf=0.1, n_estimators=200;, score=0.716 total time=   0.5s\n",
      "[CV 2/5] END min_samples_leaf=2, min_weight_fraction_leaf=0.1, n_estimators=200;, score=0.673 total time=   0.5s\n",
      "[CV 3/5] END min_samples_leaf=2, min_weight_fraction_leaf=0.1, n_estimators=200;, score=0.699 total time=   0.5s\n",
      "[CV 4/5] END min_samples_leaf=2, min_weight_fraction_leaf=0.1, n_estimators=200;, score=0.695 total time=   0.5s\n",
      "[CV 5/5] END min_samples_leaf=2, min_weight_fraction_leaf=0.1, n_estimators=200;, score=0.696 total time=   0.5s\n",
      "Running GridSearchCV for ExtraTreesClassifier_balanced\n",
      "Fitting 5 folds for each of 8 candidates, totalling 40 fits\n",
      "[CV 1/5] END min_samples_leaf=1, min_weight_fraction_leaf=0.0, n_estimators=100;, score=0.725 total time=   2.1s\n",
      "[CV 2/5] END min_samples_leaf=1, min_weight_fraction_leaf=0.0, n_estimators=100;, score=0.688 total time=   2.1s\n",
      "[CV 3/5] END min_samples_leaf=1, min_weight_fraction_leaf=0.0, n_estimators=100;, score=0.675 total time=   2.0s\n",
      "[CV 4/5] END min_samples_leaf=1, min_weight_fraction_leaf=0.0, n_estimators=100;, score=0.684 total time=   1.9s\n",
      "[CV 5/5] END min_samples_leaf=1, min_weight_fraction_leaf=0.0, n_estimators=100;, score=0.684 total time=   1.9s\n",
      "[CV 1/5] END min_samples_leaf=1, min_weight_fraction_leaf=0.0, n_estimators=200;, score=0.743 total time=   4.0s\n",
      "[CV 2/5] END min_samples_leaf=1, min_weight_fraction_leaf=0.0, n_estimators=200;, score=0.680 total time=   3.9s\n",
      "[CV 3/5] END min_samples_leaf=1, min_weight_fraction_leaf=0.0, n_estimators=200;, score=0.684 total time=   3.9s\n",
      "[CV 4/5] END min_samples_leaf=1, min_weight_fraction_leaf=0.0, n_estimators=200;, score=0.668 total time=   3.9s\n",
      "[CV 5/5] END min_samples_leaf=1, min_weight_fraction_leaf=0.0, n_estimators=200;, score=0.706 total time=   4.0s\n",
      "[CV 1/5] END min_samples_leaf=1, min_weight_fraction_leaf=0.1, n_estimators=100;, score=0.725 total time=   0.2s\n",
      "[CV 2/5] END min_samples_leaf=1, min_weight_fraction_leaf=0.1, n_estimators=100;, score=0.673 total time=   0.2s\n",
      "[CV 3/5] END min_samples_leaf=1, min_weight_fraction_leaf=0.1, n_estimators=100;, score=0.695 total time=   0.2s\n",
      "[CV 4/5] END min_samples_leaf=1, min_weight_fraction_leaf=0.1, n_estimators=100;, score=0.679 total time=   0.2s\n",
      "[CV 5/5] END min_samples_leaf=1, min_weight_fraction_leaf=0.1, n_estimators=100;, score=0.698 total time=   0.2s\n",
      "[CV 1/5] END min_samples_leaf=1, min_weight_fraction_leaf=0.1, n_estimators=200;, score=0.741 total time=   0.5s\n",
      "[CV 2/5] END min_samples_leaf=1, min_weight_fraction_leaf=0.1, n_estimators=200;, score=0.667 total time=   0.5s\n",
      "[CV 3/5] END min_samples_leaf=1, min_weight_fraction_leaf=0.1, n_estimators=200;, score=0.708 total time=   0.5s\n",
      "[CV 4/5] END min_samples_leaf=1, min_weight_fraction_leaf=0.1, n_estimators=200;, score=0.693 total time=   0.5s\n",
      "[CV 5/5] END min_samples_leaf=1, min_weight_fraction_leaf=0.1, n_estimators=200;, score=0.698 total time=   0.5s\n",
      "[CV 1/5] END min_samples_leaf=2, min_weight_fraction_leaf=0.0, n_estimators=100;, score=0.710 total time=   1.8s\n",
      "[CV 2/5] END min_samples_leaf=2, min_weight_fraction_leaf=0.0, n_estimators=100;, score=0.678 total time=   1.7s\n",
      "[CV 3/5] END min_samples_leaf=2, min_weight_fraction_leaf=0.0, n_estimators=100;, score=0.682 total time=   1.8s\n",
      "[CV 4/5] END min_samples_leaf=2, min_weight_fraction_leaf=0.0, n_estimators=100;, score=0.662 total time=   1.7s\n",
      "[CV 5/5] END min_samples_leaf=2, min_weight_fraction_leaf=0.0, n_estimators=100;, score=0.678 total time=   1.8s\n",
      "[CV 1/5] END min_samples_leaf=2, min_weight_fraction_leaf=0.0, n_estimators=200;, score=0.731 total time=   3.6s\n",
      "[CV 2/5] END min_samples_leaf=2, min_weight_fraction_leaf=0.0, n_estimators=200;, score=0.702 total time=   3.5s\n",
      "[CV 3/5] END min_samples_leaf=2, min_weight_fraction_leaf=0.0, n_estimators=200;, score=0.691 total time=   3.5s\n",
      "[CV 4/5] END min_samples_leaf=2, min_weight_fraction_leaf=0.0, n_estimators=200;, score=0.669 total time=   3.5s\n",
      "[CV 5/5] END min_samples_leaf=2, min_weight_fraction_leaf=0.0, n_estimators=200;, score=0.696 total time=   3.6s\n",
      "[CV 1/5] END min_samples_leaf=2, min_weight_fraction_leaf=0.1, n_estimators=100;, score=0.688 total time=   0.2s\n",
      "[CV 2/5] END min_samples_leaf=2, min_weight_fraction_leaf=0.1, n_estimators=100;, score=0.686 total time=   0.2s\n",
      "[CV 3/5] END min_samples_leaf=2, min_weight_fraction_leaf=0.1, n_estimators=100;, score=0.677 total time=   0.2s\n",
      "[CV 4/5] END min_samples_leaf=2, min_weight_fraction_leaf=0.1, n_estimators=100;, score=0.682 total time=   0.2s\n",
      "[CV 5/5] END min_samples_leaf=2, min_weight_fraction_leaf=0.1, n_estimators=100;, score=0.686 total time=   0.2s\n",
      "[CV 1/5] END min_samples_leaf=2, min_weight_fraction_leaf=0.1, n_estimators=200;, score=0.710 total time=   0.5s\n",
      "[CV 2/5] END min_samples_leaf=2, min_weight_fraction_leaf=0.1, n_estimators=200;, score=0.677 total time=   0.5s\n",
      "[CV 3/5] END min_samples_leaf=2, min_weight_fraction_leaf=0.1, n_estimators=200;, score=0.688 total time=   0.5s\n",
      "[CV 4/5] END min_samples_leaf=2, min_weight_fraction_leaf=0.1, n_estimators=200;, score=0.681 total time=   0.5s\n",
      "[CV 5/5] END min_samples_leaf=2, min_weight_fraction_leaf=0.1, n_estimators=200;, score=0.684 total time=   0.5s\n"
     ]
    }
   ],
   "source": [
    "lstModelParams = [\n",
    "    [\n",
    "        'ExtraTreesClassifier_unbalanced',\n",
    "        ExtraTreesClassifier(), \n",
    "        {\n",
    "            'n_estimators': [100,200],\n",
    "            'min_samples_leaf':[1,2],\n",
    "            'min_weight_fraction_leaf':[0.0, 0.1]\n",
    "        }\n",
    "    ],\n",
    "    [\n",
    "        'ExtraTreesClassifier_balanced',\n",
    "        ExtraTreesClassifier(class_weight='balanced'), \n",
    "        {\n",
    "            'n_estimators': [100,200],\n",
    "            'min_samples_leaf':[1,2],\n",
    "            'min_weight_fraction_leaf':[0.0, 0.1]\n",
    "        }\n",
    "    ],\n",
    "]\n",
    "\n",
    "for x in lstModelParams:\n",
    "    model_name = x[0]\n",
    "    model = x[1]\n",
    "    params = x[2]\n",
    "    verbosity = 3\n",
    "    grid_score, auc_score, best_params, best_model = run_gridsearch(model_name, model, params, folds, X_train, y_train, X_test, y_test, verbosity)\n",
    "    results = add_result(results,model_name,grid_score,auc_score,best_params)\n",
    "    joblib.dump(best_model, 'model/best_' + model_name + '.pkl')"
   ]
  },
  {
   "cell_type": "markdown",
   "metadata": {},
   "source": [
    "# RandomForestClassifier, DecisionTreeClassifier, ExtraTreeClassifier"
   ]
  },
  {
   "cell_type": "code",
   "execution_count": 72,
   "metadata": {},
   "outputs": [
    {
     "name": "stdout",
     "output_type": "stream",
     "text": [
      "Running GridSearchCV for RandomForestClassifier_unbalanced\n",
      "Fitting 5 folds for each of 8 candidates, totalling 40 fits\n",
      "[CV 1/5] END min_samples_leaf=1, min_weight_fraction_leaf=0.0, n_estimators=100;, score=0.728 total time=   2.0s\n",
      "[CV 2/5] END min_samples_leaf=1, min_weight_fraction_leaf=0.0, n_estimators=100;, score=0.693 total time=   1.8s\n",
      "[CV 3/5] END min_samples_leaf=1, min_weight_fraction_leaf=0.0, n_estimators=100;, score=0.698 total time=   1.8s\n",
      "[CV 4/5] END min_samples_leaf=1, min_weight_fraction_leaf=0.0, n_estimators=100;, score=0.717 total time=   1.8s\n",
      "[CV 5/5] END min_samples_leaf=1, min_weight_fraction_leaf=0.0, n_estimators=100;, score=0.684 total time=   1.8s\n",
      "[CV 1/5] END min_samples_leaf=1, min_weight_fraction_leaf=0.0, n_estimators=200;, score=0.734 total time=   3.8s\n",
      "[CV 2/5] END min_samples_leaf=1, min_weight_fraction_leaf=0.0, n_estimators=200;, score=0.705 total time=   3.7s\n",
      "[CV 3/5] END min_samples_leaf=1, min_weight_fraction_leaf=0.0, n_estimators=200;, score=0.712 total time=   3.6s\n",
      "[CV 4/5] END min_samples_leaf=1, min_weight_fraction_leaf=0.0, n_estimators=200;, score=0.739 total time=   3.6s\n",
      "[CV 5/5] END min_samples_leaf=1, min_weight_fraction_leaf=0.0, n_estimators=200;, score=0.702 total time=   3.6s\n",
      "[CV 1/5] END min_samples_leaf=1, min_weight_fraction_leaf=0.1, n_estimators=100;, score=0.729 total time=   0.3s\n",
      "[CV 2/5] END min_samples_leaf=1, min_weight_fraction_leaf=0.1, n_estimators=100;, score=0.711 total time=   0.3s\n",
      "[CV 3/5] END min_samples_leaf=1, min_weight_fraction_leaf=0.1, n_estimators=100;, score=0.685 total time=   0.3s\n",
      "[CV 4/5] END min_samples_leaf=1, min_weight_fraction_leaf=0.1, n_estimators=100;, score=0.732 total time=   0.3s\n",
      "[CV 5/5] END min_samples_leaf=1, min_weight_fraction_leaf=0.1, n_estimators=100;, score=0.710 total time=   0.3s\n",
      "[CV 1/5] END min_samples_leaf=1, min_weight_fraction_leaf=0.1, n_estimators=200;, score=0.741 total time=   0.7s\n",
      "[CV 2/5] END min_samples_leaf=1, min_weight_fraction_leaf=0.1, n_estimators=200;, score=0.712 total time=   0.7s\n",
      "[CV 3/5] END min_samples_leaf=1, min_weight_fraction_leaf=0.1, n_estimators=200;, score=0.704 total time=   0.7s\n",
      "[CV 4/5] END min_samples_leaf=1, min_weight_fraction_leaf=0.1, n_estimators=200;, score=0.730 total time=   0.7s\n",
      "[CV 5/5] END min_samples_leaf=1, min_weight_fraction_leaf=0.1, n_estimators=200;, score=0.721 total time=   0.7s\n",
      "[CV 1/5] END min_samples_leaf=2, min_weight_fraction_leaf=0.0, n_estimators=100;, score=0.736 total time=   1.7s\n",
      "[CV 2/5] END min_samples_leaf=2, min_weight_fraction_leaf=0.0, n_estimators=100;, score=0.730 total time=   1.6s\n",
      "[CV 3/5] END min_samples_leaf=2, min_weight_fraction_leaf=0.0, n_estimators=100;, score=0.693 total time=   1.6s\n",
      "[CV 4/5] END min_samples_leaf=2, min_weight_fraction_leaf=0.0, n_estimators=100;, score=0.723 total time=   1.6s\n",
      "[CV 5/5] END min_samples_leaf=2, min_weight_fraction_leaf=0.0, n_estimators=100;, score=0.666 total time=   1.6s\n",
      "[CV 1/5] END min_samples_leaf=2, min_weight_fraction_leaf=0.0, n_estimators=200;, score=0.744 total time=   3.4s\n",
      "[CV 2/5] END min_samples_leaf=2, min_weight_fraction_leaf=0.0, n_estimators=200;, score=0.727 total time=   3.3s\n",
      "[CV 3/5] END min_samples_leaf=2, min_weight_fraction_leaf=0.0, n_estimators=200;, score=0.696 total time=   3.3s\n",
      "[CV 4/5] END min_samples_leaf=2, min_weight_fraction_leaf=0.0, n_estimators=200;, score=0.735 total time=   3.2s\n",
      "[CV 5/5] END min_samples_leaf=2, min_weight_fraction_leaf=0.0, n_estimators=200;, score=0.695 total time=   3.4s\n",
      "[CV 1/5] END min_samples_leaf=2, min_weight_fraction_leaf=0.1, n_estimators=100;, score=0.717 total time=   0.3s\n",
      "[CV 2/5] END min_samples_leaf=2, min_weight_fraction_leaf=0.1, n_estimators=100;, score=0.724 total time=   0.3s\n",
      "[CV 3/5] END min_samples_leaf=2, min_weight_fraction_leaf=0.1, n_estimators=100;, score=0.683 total time=   0.3s\n",
      "[CV 4/5] END min_samples_leaf=2, min_weight_fraction_leaf=0.1, n_estimators=100;, score=0.714 total time=   0.4s\n",
      "[CV 5/5] END min_samples_leaf=2, min_weight_fraction_leaf=0.1, n_estimators=100;, score=0.721 total time=   0.3s\n",
      "[CV 1/5] END min_samples_leaf=2, min_weight_fraction_leaf=0.1, n_estimators=200;, score=0.740 total time=   0.7s\n",
      "[CV 2/5] END min_samples_leaf=2, min_weight_fraction_leaf=0.1, n_estimators=200;, score=0.705 total time=   0.7s\n",
      "[CV 3/5] END min_samples_leaf=2, min_weight_fraction_leaf=0.1, n_estimators=200;, score=0.695 total time=   0.7s\n",
      "[CV 4/5] END min_samples_leaf=2, min_weight_fraction_leaf=0.1, n_estimators=200;, score=0.726 total time=   0.7s\n",
      "[CV 5/5] END min_samples_leaf=2, min_weight_fraction_leaf=0.1, n_estimators=200;, score=0.716 total time=   0.7s\n",
      "Running GridSearchCV for RandomForestClassifier_balanced\n",
      "Fitting 5 folds for each of 8 candidates, totalling 40 fits\n",
      "[CV 1/5] END min_samples_leaf=1, min_weight_fraction_leaf=0.0, n_estimators=100;, score=0.719 total time=   1.5s\n",
      "[CV 2/5] END min_samples_leaf=1, min_weight_fraction_leaf=0.0, n_estimators=100;, score=0.711 total time=   1.5s\n",
      "[CV 3/5] END min_samples_leaf=1, min_weight_fraction_leaf=0.0, n_estimators=100;, score=0.682 total time=   1.4s\n",
      "[CV 4/5] END min_samples_leaf=1, min_weight_fraction_leaf=0.0, n_estimators=100;, score=0.701 total time=   1.4s\n",
      "[CV 5/5] END min_samples_leaf=1, min_weight_fraction_leaf=0.0, n_estimators=100;, score=0.709 total time=   1.4s\n",
      "[CV 1/5] END min_samples_leaf=1, min_weight_fraction_leaf=0.0, n_estimators=200;, score=0.750 total time=   3.0s\n",
      "[CV 2/5] END min_samples_leaf=1, min_weight_fraction_leaf=0.0, n_estimators=200;, score=0.685 total time=   2.9s\n",
      "[CV 3/5] END min_samples_leaf=1, min_weight_fraction_leaf=0.0, n_estimators=200;, score=0.717 total time=   2.9s\n",
      "[CV 4/5] END min_samples_leaf=1, min_weight_fraction_leaf=0.0, n_estimators=200;, score=0.705 total time=   2.9s\n",
      "[CV 5/5] END min_samples_leaf=1, min_weight_fraction_leaf=0.0, n_estimators=200;, score=0.708 total time=   3.0s\n",
      "[CV 1/5] END min_samples_leaf=1, min_weight_fraction_leaf=0.1, n_estimators=100;, score=0.728 total time=   0.3s\n",
      "[CV 2/5] END min_samples_leaf=1, min_weight_fraction_leaf=0.1, n_estimators=100;, score=0.713 total time=   0.3s\n",
      "[CV 3/5] END min_samples_leaf=1, min_weight_fraction_leaf=0.1, n_estimators=100;, score=0.703 total time=   0.3s\n",
      "[CV 4/5] END min_samples_leaf=1, min_weight_fraction_leaf=0.1, n_estimators=100;, score=0.727 total time=   0.3s\n",
      "[CV 5/5] END min_samples_leaf=1, min_weight_fraction_leaf=0.1, n_estimators=100;, score=0.711 total time=   0.3s\n",
      "[CV 1/5] END min_samples_leaf=1, min_weight_fraction_leaf=0.1, n_estimators=200;, score=0.737 total time=   0.7s\n",
      "[CV 2/5] END min_samples_leaf=1, min_weight_fraction_leaf=0.1, n_estimators=200;, score=0.710 total time=   0.7s\n",
      "[CV 3/5] END min_samples_leaf=1, min_weight_fraction_leaf=0.1, n_estimators=200;, score=0.707 total time=   0.7s\n",
      "[CV 4/5] END min_samples_leaf=1, min_weight_fraction_leaf=0.1, n_estimators=200;, score=0.724 total time=   0.7s\n",
      "[CV 5/5] END min_samples_leaf=1, min_weight_fraction_leaf=0.1, n_estimators=200;, score=0.722 total time=   0.7s\n",
      "[CV 1/5] END min_samples_leaf=2, min_weight_fraction_leaf=0.0, n_estimators=100;, score=0.744 total time=   1.3s\n",
      "[CV 2/5] END min_samples_leaf=2, min_weight_fraction_leaf=0.0, n_estimators=100;, score=0.691 total time=   1.4s\n",
      "[CV 3/5] END min_samples_leaf=2, min_weight_fraction_leaf=0.0, n_estimators=100;, score=0.692 total time=   1.4s\n",
      "[CV 4/5] END min_samples_leaf=2, min_weight_fraction_leaf=0.0, n_estimators=100;, score=0.707 total time=   1.4s\n",
      "[CV 5/5] END min_samples_leaf=2, min_weight_fraction_leaf=0.0, n_estimators=100;, score=0.693 total time=   1.4s\n",
      "[CV 1/5] END min_samples_leaf=2, min_weight_fraction_leaf=0.0, n_estimators=200;, score=0.760 total time=   2.9s\n",
      "[CV 2/5] END min_samples_leaf=2, min_weight_fraction_leaf=0.0, n_estimators=200;, score=0.723 total time=   2.7s\n",
      "[CV 3/5] END min_samples_leaf=2, min_weight_fraction_leaf=0.0, n_estimators=200;, score=0.732 total time=   2.7s\n",
      "[CV 4/5] END min_samples_leaf=2, min_weight_fraction_leaf=0.0, n_estimators=200;, score=0.709 total time=   2.8s\n",
      "[CV 5/5] END min_samples_leaf=2, min_weight_fraction_leaf=0.0, n_estimators=200;, score=0.695 total time=   2.8s\n",
      "[CV 1/5] END min_samples_leaf=2, min_weight_fraction_leaf=0.1, n_estimators=100;, score=0.748 total time=   0.3s\n",
      "[CV 2/5] END min_samples_leaf=2, min_weight_fraction_leaf=0.1, n_estimators=100;, score=0.718 total time=   0.3s\n",
      "[CV 3/5] END min_samples_leaf=2, min_weight_fraction_leaf=0.1, n_estimators=100;, score=0.707 total time=   0.3s\n",
      "[CV 4/5] END min_samples_leaf=2, min_weight_fraction_leaf=0.1, n_estimators=100;, score=0.708 total time=   0.3s\n",
      "[CV 5/5] END min_samples_leaf=2, min_weight_fraction_leaf=0.1, n_estimators=100;, score=0.715 total time=   0.3s\n",
      "[CV 1/5] END min_samples_leaf=2, min_weight_fraction_leaf=0.1, n_estimators=200;, score=0.732 total time=   0.7s\n",
      "[CV 2/5] END min_samples_leaf=2, min_weight_fraction_leaf=0.1, n_estimators=200;, score=0.714 total time=   0.7s\n",
      "[CV 3/5] END min_samples_leaf=2, min_weight_fraction_leaf=0.1, n_estimators=200;, score=0.695 total time=   0.7s\n",
      "[CV 4/5] END min_samples_leaf=2, min_weight_fraction_leaf=0.1, n_estimators=200;, score=0.723 total time=   0.7s\n",
      "[CV 5/5] END min_samples_leaf=2, min_weight_fraction_leaf=0.1, n_estimators=200;, score=0.721 total time=   0.7s\n",
      "Running GridSearchCV for DecisionTreeClassifier_unbalanced\n",
      "Fitting 5 folds for each of 8 candidates, totalling 40 fits\n",
      "[CV 1/5] END min_samples_leaf=1, min_weight_fraction_leaf=0.0, splitter=best;, score=0.556 total time=   0.6s\n",
      "[CV 2/5] END min_samples_leaf=1, min_weight_fraction_leaf=0.0, splitter=best;, score=0.551 total time=   0.7s\n",
      "[CV 3/5] END min_samples_leaf=1, min_weight_fraction_leaf=0.0, splitter=best;, score=0.549 total time=   0.6s\n",
      "[CV 4/5] END min_samples_leaf=1, min_weight_fraction_leaf=0.0, splitter=best;, score=0.556 total time=   0.7s\n",
      "[CV 5/5] END min_samples_leaf=1, min_weight_fraction_leaf=0.0, splitter=best;, score=0.517 total time=   0.7s\n",
      "[CV 1/5] END min_samples_leaf=1, min_weight_fraction_leaf=0.0, splitter=random;, score=0.564 total time=   0.3s\n",
      "[CV 2/5] END min_samples_leaf=1, min_weight_fraction_leaf=0.0, splitter=random;, score=0.516 total time=   0.2s\n",
      "[CV 3/5] END min_samples_leaf=1, min_weight_fraction_leaf=0.0, splitter=random;, score=0.537 total time=   0.3s\n",
      "[CV 4/5] END min_samples_leaf=1, min_weight_fraction_leaf=0.0, splitter=random;, score=0.526 total time=   0.2s\n",
      "[CV 5/5] END min_samples_leaf=1, min_weight_fraction_leaf=0.0, splitter=random;, score=0.516 total time=   0.3s\n",
      "[CV 1/5] END min_samples_leaf=1, min_weight_fraction_leaf=0.1, splitter=best;, score=0.718 total time=   0.0s\n",
      "[CV 2/5] END min_samples_leaf=1, min_weight_fraction_leaf=0.1, splitter=best;, score=0.677 total time=   0.0s\n",
      "[CV 3/5] END min_samples_leaf=1, min_weight_fraction_leaf=0.1, splitter=best;, score=0.658 total time=   0.0s\n",
      "[CV 4/5] END min_samples_leaf=1, min_weight_fraction_leaf=0.1, splitter=best;, score=0.690 total time=   0.0s\n",
      "[CV 5/5] END min_samples_leaf=1, min_weight_fraction_leaf=0.1, splitter=best;, score=0.722 total time=   0.0s\n",
      "[CV 1/5] END min_samples_leaf=1, min_weight_fraction_leaf=0.1, splitter=random;, score=0.715 total time=   0.0s\n",
      "[CV 2/5] END min_samples_leaf=1, min_weight_fraction_leaf=0.1, splitter=random;, score=0.675 total time=   0.0s\n",
      "[CV 3/5] END min_samples_leaf=1, min_weight_fraction_leaf=0.1, splitter=random;, score=0.636 total time=   0.0s\n",
      "[CV 4/5] END min_samples_leaf=1, min_weight_fraction_leaf=0.1, splitter=random;, score=0.690 total time=   0.0s\n",
      "[CV 5/5] END min_samples_leaf=1, min_weight_fraction_leaf=0.1, splitter=random;, score=0.658 total time=   0.0s\n",
      "[CV 1/5] END min_samples_leaf=2, min_weight_fraction_leaf=0.0, splitter=best;, score=0.541 total time=   0.6s\n",
      "[CV 2/5] END min_samples_leaf=2, min_weight_fraction_leaf=0.0, splitter=best;, score=0.557 total time=   0.5s\n",
      "[CV 3/5] END min_samples_leaf=2, min_weight_fraction_leaf=0.0, splitter=best;, score=0.524 total time=   0.5s\n",
      "[CV 4/5] END min_samples_leaf=2, min_weight_fraction_leaf=0.0, splitter=best;, score=0.565 total time=   0.5s\n",
      "[CV 5/5] END min_samples_leaf=2, min_weight_fraction_leaf=0.0, splitter=best;, score=0.533 total time=   0.5s\n",
      "[CV 1/5] END min_samples_leaf=2, min_weight_fraction_leaf=0.0, splitter=random;, score=0.557 total time=   0.3s\n",
      "[CV 2/5] END min_samples_leaf=2, min_weight_fraction_leaf=0.0, splitter=random;, score=0.540 total time=   0.2s\n",
      "[CV 3/5] END min_samples_leaf=2, min_weight_fraction_leaf=0.0, splitter=random;, score=0.528 total time=   0.2s\n",
      "[CV 4/5] END min_samples_leaf=2, min_weight_fraction_leaf=0.0, splitter=random;, score=0.514 total time=   0.2s\n",
      "[CV 5/5] END min_samples_leaf=2, min_weight_fraction_leaf=0.0, splitter=random;, score=0.538 total time=   0.2s\n",
      "[CV 1/5] END min_samples_leaf=2, min_weight_fraction_leaf=0.1, splitter=best;, score=0.718 total time=   0.0s\n",
      "[CV 2/5] END min_samples_leaf=2, min_weight_fraction_leaf=0.1, splitter=best;, score=0.677 total time=   0.0s\n",
      "[CV 3/5] END min_samples_leaf=2, min_weight_fraction_leaf=0.1, splitter=best;, score=0.658 total time=   0.0s\n",
      "[CV 4/5] END min_samples_leaf=2, min_weight_fraction_leaf=0.1, splitter=best;, score=0.690 total time=   0.0s\n",
      "[CV 5/5] END min_samples_leaf=2, min_weight_fraction_leaf=0.1, splitter=best;, score=0.722 total time=   0.0s\n",
      "[CV 1/5] END min_samples_leaf=2, min_weight_fraction_leaf=0.1, splitter=random;, score=0.661 total time=   0.0s\n",
      "[CV 2/5] END min_samples_leaf=2, min_weight_fraction_leaf=0.1, splitter=random;, score=0.668 total time=   0.0s\n",
      "[CV 3/5] END min_samples_leaf=2, min_weight_fraction_leaf=0.1, splitter=random;, score=0.682 total time=   0.0s\n",
      "[CV 4/5] END min_samples_leaf=2, min_weight_fraction_leaf=0.1, splitter=random;, score=0.695 total time=   0.0s\n",
      "[CV 5/5] END min_samples_leaf=2, min_weight_fraction_leaf=0.1, splitter=random;, score=0.608 total time=   0.0s\n",
      "Running GridSearchCV for DecisionTreeClassifier_balanced\n",
      "Fitting 5 folds for each of 8 candidates, totalling 40 fits\n",
      "[CV 1/5] END min_samples_leaf=1, min_weight_fraction_leaf=0.0, splitter=best;, score=0.574 total time=   0.3s\n",
      "[CV 2/5] END min_samples_leaf=1, min_weight_fraction_leaf=0.0, splitter=best;, score=0.534 total time=   0.3s\n",
      "[CV 3/5] END min_samples_leaf=1, min_weight_fraction_leaf=0.0, splitter=best;, score=0.546 total time=   0.3s\n",
      "[CV 4/5] END min_samples_leaf=1, min_weight_fraction_leaf=0.0, splitter=best;, score=0.548 total time=   0.3s\n",
      "[CV 5/5] END min_samples_leaf=1, min_weight_fraction_leaf=0.0, splitter=best;, score=0.536 total time=   0.3s\n",
      "[CV 1/5] END min_samples_leaf=1, min_weight_fraction_leaf=0.0, splitter=random;, score=0.600 total time=   0.1s\n",
      "[CV 2/5] END min_samples_leaf=1, min_weight_fraction_leaf=0.0, splitter=random;, score=0.537 total time=   0.1s\n",
      "[CV 3/5] END min_samples_leaf=1, min_weight_fraction_leaf=0.0, splitter=random;, score=0.539 total time=   0.1s\n",
      "[CV 4/5] END min_samples_leaf=1, min_weight_fraction_leaf=0.0, splitter=random;, score=0.535 total time=   0.2s\n",
      "[CV 5/5] END min_samples_leaf=1, min_weight_fraction_leaf=0.0, splitter=random;, score=0.547 total time=   0.1s\n",
      "[CV 1/5] END min_samples_leaf=1, min_weight_fraction_leaf=0.1, splitter=best;, score=0.723 total time=   0.0s\n",
      "[CV 2/5] END min_samples_leaf=1, min_weight_fraction_leaf=0.1, splitter=best;, score=0.691 total time=   0.0s\n",
      "[CV 3/5] END min_samples_leaf=1, min_weight_fraction_leaf=0.1, splitter=best;, score=0.711 total time=   0.0s\n",
      "[CV 4/5] END min_samples_leaf=1, min_weight_fraction_leaf=0.1, splitter=best;, score=0.712 total time=   0.0s\n",
      "[CV 5/5] END min_samples_leaf=1, min_weight_fraction_leaf=0.1, splitter=best;, score=0.684 total time=   0.0s\n",
      "[CV 1/5] END min_samples_leaf=1, min_weight_fraction_leaf=0.1, splitter=random;, score=0.674 total time=   0.0s\n",
      "[CV 2/5] END min_samples_leaf=1, min_weight_fraction_leaf=0.1, splitter=random;, score=0.665 total time=   0.0s\n",
      "[CV 3/5] END min_samples_leaf=1, min_weight_fraction_leaf=0.1, splitter=random;, score=0.710 total time=   0.0s\n",
      "[CV 4/5] END min_samples_leaf=1, min_weight_fraction_leaf=0.1, splitter=random;, score=0.656 total time=   0.0s\n",
      "[CV 5/5] END min_samples_leaf=1, min_weight_fraction_leaf=0.1, splitter=random;, score=0.669 total time=   0.0s\n",
      "[CV 1/5] END min_samples_leaf=2, min_weight_fraction_leaf=0.0, splitter=best;, score=0.573 total time=   0.3s\n",
      "[CV 2/5] END min_samples_leaf=2, min_weight_fraction_leaf=0.0, splitter=best;, score=0.550 total time=   0.2s\n",
      "[CV 3/5] END min_samples_leaf=2, min_weight_fraction_leaf=0.0, splitter=best;, score=0.532 total time=   0.3s\n",
      "[CV 4/5] END min_samples_leaf=2, min_weight_fraction_leaf=0.0, splitter=best;, score=0.553 total time=   0.3s\n",
      "[CV 5/5] END min_samples_leaf=2, min_weight_fraction_leaf=0.0, splitter=best;, score=0.575 total time=   0.3s\n",
      "[CV 1/5] END min_samples_leaf=2, min_weight_fraction_leaf=0.0, splitter=random;, score=0.570 total time=   0.1s\n",
      "[CV 2/5] END min_samples_leaf=2, min_weight_fraction_leaf=0.0, splitter=random;, score=0.512 total time=   0.1s\n",
      "[CV 3/5] END min_samples_leaf=2, min_weight_fraction_leaf=0.0, splitter=random;, score=0.570 total time=   0.1s\n",
      "[CV 4/5] END min_samples_leaf=2, min_weight_fraction_leaf=0.0, splitter=random;, score=0.554 total time=   0.1s\n",
      "[CV 5/5] END min_samples_leaf=2, min_weight_fraction_leaf=0.0, splitter=random;, score=0.526 total time=   0.1s\n",
      "[CV 1/5] END min_samples_leaf=2, min_weight_fraction_leaf=0.1, splitter=best;, score=0.723 total time=   0.0s\n",
      "[CV 2/5] END min_samples_leaf=2, min_weight_fraction_leaf=0.1, splitter=best;, score=0.691 total time=   0.0s\n",
      "[CV 3/5] END min_samples_leaf=2, min_weight_fraction_leaf=0.1, splitter=best;, score=0.711 total time=   0.0s\n",
      "[CV 4/5] END min_samples_leaf=2, min_weight_fraction_leaf=0.1, splitter=best;, score=0.712 total time=   0.0s\n",
      "[CV 5/5] END min_samples_leaf=2, min_weight_fraction_leaf=0.1, splitter=best;, score=0.684 total time=   0.0s\n",
      "[CV 1/5] END min_samples_leaf=2, min_weight_fraction_leaf=0.1, splitter=random;, score=0.714 total time=   0.0s\n",
      "[CV 2/5] END min_samples_leaf=2, min_weight_fraction_leaf=0.1, splitter=random;, score=0.679 total time=   0.0s\n",
      "[CV 3/5] END min_samples_leaf=2, min_weight_fraction_leaf=0.1, splitter=random;, score=0.656 total time=   0.0s\n",
      "[CV 4/5] END min_samples_leaf=2, min_weight_fraction_leaf=0.1, splitter=random;, score=0.682 total time=   0.0s\n",
      "[CV 5/5] END min_samples_leaf=2, min_weight_fraction_leaf=0.1, splitter=random;, score=0.659 total time=   0.0s\n",
      "Running GridSearchCV for ExtraTreeClassifier_unbalanced\n",
      "Fitting 5 folds for each of 8 candidates, totalling 40 fits\n",
      "[CV 1/5] END min_samples_leaf=1, min_weight_fraction_leaf=0.0, splitter=best;, score=0.514 total time=   0.0s\n",
      "[CV 2/5] END min_samples_leaf=1, min_weight_fraction_leaf=0.0, splitter=best;, score=0.535 total time=   0.0s\n",
      "[CV 3/5] END min_samples_leaf=1, min_weight_fraction_leaf=0.0, splitter=best;, score=0.543 total time=   0.0s\n",
      "[CV 4/5] END min_samples_leaf=1, min_weight_fraction_leaf=0.0, splitter=best;, score=0.517 total time=   0.0s\n",
      "[CV 5/5] END min_samples_leaf=1, min_weight_fraction_leaf=0.0, splitter=best;, score=0.490 total time=   0.0s\n",
      "[CV 1/5] END min_samples_leaf=1, min_weight_fraction_leaf=0.0, splitter=random;, score=0.523 total time=   0.0s\n",
      "[CV 2/5] END min_samples_leaf=1, min_weight_fraction_leaf=0.0, splitter=random;, score=0.523 total time=   0.0s\n",
      "[CV 3/5] END min_samples_leaf=1, min_weight_fraction_leaf=0.0, splitter=random;, score=0.499 total time=   0.0s\n",
      "[CV 4/5] END min_samples_leaf=1, min_weight_fraction_leaf=0.0, splitter=random;, score=0.502 total time=   0.0s\n",
      "[CV 5/5] END min_samples_leaf=1, min_weight_fraction_leaf=0.0, splitter=random;, score=0.511 total time=   0.0s\n",
      "[CV 1/5] END min_samples_leaf=1, min_weight_fraction_leaf=0.1, splitter=best;, score=0.595 total time=   0.0s\n",
      "[CV 2/5] END min_samples_leaf=1, min_weight_fraction_leaf=0.1, splitter=best;, score=0.556 total time=   0.0s\n",
      "[CV 3/5] END min_samples_leaf=1, min_weight_fraction_leaf=0.1, splitter=best;, score=0.512 total time=   0.0s\n",
      "[CV 4/5] END min_samples_leaf=1, min_weight_fraction_leaf=0.1, splitter=best;, score=0.597 total time=   0.0s\n",
      "[CV 5/5] END min_samples_leaf=1, min_weight_fraction_leaf=0.1, splitter=best;, score=0.548 total time=   0.0s\n",
      "[CV 1/5] END min_samples_leaf=1, min_weight_fraction_leaf=0.1, splitter=random;, score=0.543 total time=   0.0s\n",
      "[CV 2/5] END min_samples_leaf=1, min_weight_fraction_leaf=0.1, splitter=random;, score=0.500 total time=   0.0s\n",
      "[CV 3/5] END min_samples_leaf=1, min_weight_fraction_leaf=0.1, splitter=random;, score=0.505 total time=   0.0s\n",
      "[CV 4/5] END min_samples_leaf=1, min_weight_fraction_leaf=0.1, splitter=random;, score=0.632 total time=   0.0s\n",
      "[CV 5/5] END min_samples_leaf=1, min_weight_fraction_leaf=0.1, splitter=random;, score=0.560 total time=   0.0s\n",
      "[CV 1/5] END min_samples_leaf=2, min_weight_fraction_leaf=0.0, splitter=best;, score=0.527 total time=   0.0s\n",
      "[CV 2/5] END min_samples_leaf=2, min_weight_fraction_leaf=0.0, splitter=best;, score=0.529 total time=   0.0s\n",
      "[CV 3/5] END min_samples_leaf=2, min_weight_fraction_leaf=0.0, splitter=best;, score=0.583 total time=   0.0s\n",
      "[CV 4/5] END min_samples_leaf=2, min_weight_fraction_leaf=0.0, splitter=best;, score=0.499 total time=   0.0s\n",
      "[CV 5/5] END min_samples_leaf=2, min_weight_fraction_leaf=0.0, splitter=best;, score=0.556 total time=   0.0s\n",
      "[CV 1/5] END min_samples_leaf=2, min_weight_fraction_leaf=0.0, splitter=random;, score=0.549 total time=   0.0s\n",
      "[CV 2/5] END min_samples_leaf=2, min_weight_fraction_leaf=0.0, splitter=random;, score=0.573 total time=   0.0s\n",
      "[CV 3/5] END min_samples_leaf=2, min_weight_fraction_leaf=0.0, splitter=random;, score=0.575 total time=   0.0s\n",
      "[CV 4/5] END min_samples_leaf=2, min_weight_fraction_leaf=0.0, splitter=random;, score=0.546 total time=   0.0s\n",
      "[CV 5/5] END min_samples_leaf=2, min_weight_fraction_leaf=0.0, splitter=random;, score=0.507 total time=   0.0s\n",
      "[CV 1/5] END min_samples_leaf=2, min_weight_fraction_leaf=0.1, splitter=best;, score=0.545 total time=   0.0s\n",
      "[CV 2/5] END min_samples_leaf=2, min_weight_fraction_leaf=0.1, splitter=best;, score=0.554 total time=   0.0s\n",
      "[CV 3/5] END min_samples_leaf=2, min_weight_fraction_leaf=0.1, splitter=best;, score=0.571 total time=   0.0s\n",
      "[CV 4/5] END min_samples_leaf=2, min_weight_fraction_leaf=0.1, splitter=best;, score=0.644 total time=   0.0s\n",
      "[CV 5/5] END min_samples_leaf=2, min_weight_fraction_leaf=0.1, splitter=best;, score=0.489 total time=   0.0s\n",
      "[CV 1/5] END min_samples_leaf=2, min_weight_fraction_leaf=0.1, splitter=random;, score=0.494 total time=   0.0s\n",
      "[CV 2/5] END min_samples_leaf=2, min_weight_fraction_leaf=0.1, splitter=random;, score=0.562 total time=   0.0s\n",
      "[CV 3/5] END min_samples_leaf=2, min_weight_fraction_leaf=0.1, splitter=random;, score=0.585 total time=   0.0s\n",
      "[CV 4/5] END min_samples_leaf=2, min_weight_fraction_leaf=0.1, splitter=random;, score=0.612 total time=   0.0s\n",
      "[CV 5/5] END min_samples_leaf=2, min_weight_fraction_leaf=0.1, splitter=random;, score=0.574 total time=   0.0s\n",
      "Running GridSearchCV for ExtraTreeClassifier_balanced\n",
      "Fitting 5 folds for each of 8 candidates, totalling 40 fits\n",
      "[CV 1/5] END min_samples_leaf=1, min_weight_fraction_leaf=0.0, splitter=best;, score=0.562 total time=   0.0s\n",
      "[CV 2/5] END min_samples_leaf=1, min_weight_fraction_leaf=0.0, splitter=best;, score=0.521 total time=   0.0s\n",
      "[CV 3/5] END min_samples_leaf=1, min_weight_fraction_leaf=0.0, splitter=best;, score=0.511 total time=   0.0s\n",
      "[CV 4/5] END min_samples_leaf=1, min_weight_fraction_leaf=0.0, splitter=best;, score=0.513 total time=   0.0s\n",
      "[CV 5/5] END min_samples_leaf=1, min_weight_fraction_leaf=0.0, splitter=best;, score=0.515 total time=   0.0s\n",
      "[CV 1/5] END min_samples_leaf=1, min_weight_fraction_leaf=0.0, splitter=random;, score=0.471 total time=   0.0s\n",
      "[CV 2/5] END min_samples_leaf=1, min_weight_fraction_leaf=0.0, splitter=random;, score=0.521 total time=   0.0s\n",
      "[CV 3/5] END min_samples_leaf=1, min_weight_fraction_leaf=0.0, splitter=random;, score=0.486 total time=   0.0s\n",
      "[CV 4/5] END min_samples_leaf=1, min_weight_fraction_leaf=0.0, splitter=random;, score=0.523 total time=   0.0s\n",
      "[CV 5/5] END min_samples_leaf=1, min_weight_fraction_leaf=0.0, splitter=random;, score=0.510 total time=   0.0s\n",
      "[CV 1/5] END min_samples_leaf=1, min_weight_fraction_leaf=0.1, splitter=best;, score=0.630 total time=   0.0s\n",
      "[CV 2/5] END min_samples_leaf=1, min_weight_fraction_leaf=0.1, splitter=best;, score=0.586 total time=   0.0s\n",
      "[CV 3/5] END min_samples_leaf=1, min_weight_fraction_leaf=0.1, splitter=best;, score=0.645 total time=   0.0s\n",
      "[CV 4/5] END min_samples_leaf=1, min_weight_fraction_leaf=0.1, splitter=best;, score=0.539 total time=   0.0s\n",
      "[CV 5/5] END min_samples_leaf=1, min_weight_fraction_leaf=0.1, splitter=best;, score=0.611 total time=   0.0s\n",
      "[CV 1/5] END min_samples_leaf=1, min_weight_fraction_leaf=0.1, splitter=random;, score=0.482 total time=   0.0s\n",
      "[CV 2/5] END min_samples_leaf=1, min_weight_fraction_leaf=0.1, splitter=random;, score=0.594 total time=   0.0s\n",
      "[CV 3/5] END min_samples_leaf=1, min_weight_fraction_leaf=0.1, splitter=random;, score=0.575 total time=   0.0s\n",
      "[CV 4/5] END min_samples_leaf=1, min_weight_fraction_leaf=0.1, splitter=random;, score=0.625 total time=   0.0s\n",
      "[CV 5/5] END min_samples_leaf=1, min_weight_fraction_leaf=0.1, splitter=random;, score=0.488 total time=   0.0s\n",
      "[CV 1/5] END min_samples_leaf=2, min_weight_fraction_leaf=0.0, splitter=best;, score=0.551 total time=   0.0s\n",
      "[CV 2/5] END min_samples_leaf=2, min_weight_fraction_leaf=0.0, splitter=best;, score=0.516 total time=   0.0s\n",
      "[CV 3/5] END min_samples_leaf=2, min_weight_fraction_leaf=0.0, splitter=best;, score=0.521 total time=   0.0s\n",
      "[CV 4/5] END min_samples_leaf=2, min_weight_fraction_leaf=0.0, splitter=best;, score=0.493 total time=   0.0s\n",
      "[CV 5/5] END min_samples_leaf=2, min_weight_fraction_leaf=0.0, splitter=best;, score=0.501 total time=   0.0s\n",
      "[CV 1/5] END min_samples_leaf=2, min_weight_fraction_leaf=0.0, splitter=random;, score=0.515 total time=   0.0s\n",
      "[CV 2/5] END min_samples_leaf=2, min_weight_fraction_leaf=0.0, splitter=random;, score=0.527 total time=   0.0s\n",
      "[CV 3/5] END min_samples_leaf=2, min_weight_fraction_leaf=0.0, splitter=random;, score=0.511 total time=   0.0s\n",
      "[CV 4/5] END min_samples_leaf=2, min_weight_fraction_leaf=0.0, splitter=random;, score=0.576 total time=   0.0s\n",
      "[CV 5/5] END min_samples_leaf=2, min_weight_fraction_leaf=0.0, splitter=random;, score=0.534 total time=   0.0s\n",
      "[CV 1/5] END min_samples_leaf=2, min_weight_fraction_leaf=0.1, splitter=best;, score=0.578 total time=   0.0s\n",
      "[CV 2/5] END min_samples_leaf=2, min_weight_fraction_leaf=0.1, splitter=best;, score=0.601 total time=   0.0s\n",
      "[CV 3/5] END min_samples_leaf=2, min_weight_fraction_leaf=0.1, splitter=best;, score=0.556 total time=   0.0s\n",
      "[CV 4/5] END min_samples_leaf=2, min_weight_fraction_leaf=0.1, splitter=best;, score=0.553 total time=   0.0s\n",
      "[CV 5/5] END min_samples_leaf=2, min_weight_fraction_leaf=0.1, splitter=best;, score=0.613 total time=   0.0s\n",
      "[CV 1/5] END min_samples_leaf=2, min_weight_fraction_leaf=0.1, splitter=random;, score=0.492 total time=   0.0s\n",
      "[CV 2/5] END min_samples_leaf=2, min_weight_fraction_leaf=0.1, splitter=random;, score=0.601 total time=   0.0s\n",
      "[CV 3/5] END min_samples_leaf=2, min_weight_fraction_leaf=0.1, splitter=random;, score=0.615 total time=   0.0s\n",
      "[CV 4/5] END min_samples_leaf=2, min_weight_fraction_leaf=0.1, splitter=random;, score=0.533 total time=   0.0s\n",
      "[CV 5/5] END min_samples_leaf=2, min_weight_fraction_leaf=0.1, splitter=random;, score=0.621 total time=   0.0s\n"
     ]
    }
   ],
   "source": [
    "lstModelParams = [\n",
    "    [\n",
    "        'RandomForestClassifier_unbalanced',\n",
    "        RandomForestClassifier(), \n",
    "        {\n",
    "            'n_estimators': [100,200],\n",
    "            'min_samples_leaf':[1,2],\n",
    "            'min_weight_fraction_leaf':[0.0, 0.1]\n",
    "        }\n",
    "    ],\n",
    "    [\n",
    "        'RandomForestClassifier_balanced',\n",
    "        RandomForestClassifier(class_weight='balanced'), \n",
    "        {\n",
    "            'n_estimators': [100,200],\n",
    "            'min_samples_leaf':[1,2],\n",
    "            'min_weight_fraction_leaf':[0.0, 0.1]\n",
    "        }\n",
    "    ],\n",
    "\n",
    "    [\n",
    "        'DecisionTreeClassifier_unbalanced',\n",
    "        DecisionTreeClassifier(), \n",
    "        {\n",
    "            'splitter': ['best','random'],\n",
    "            'min_samples_leaf':[1,2],\n",
    "            'min_weight_fraction_leaf':[0.0, 0.1]\n",
    "        }\n",
    "    ],\n",
    "    [\n",
    "        'DecisionTreeClassifier_balanced',\n",
    "        DecisionTreeClassifier(class_weight='balanced'), \n",
    "        {\n",
    "            'splitter': ['best','random'],\n",
    "            'min_samples_leaf':[1,2],\n",
    "            'min_weight_fraction_leaf':[0.0, 0.1]\n",
    "        }\n",
    "    ],\n",
    "\n",
    "    [\n",
    "        'ExtraTreeClassifier_unbalanced',\n",
    "        ExtraTreeClassifier(), \n",
    "        {\n",
    "            'splitter': ['best','random'],\n",
    "            'min_samples_leaf':[1,2],\n",
    "            'min_weight_fraction_leaf':[0.0, 0.1]\n",
    "        }\n",
    "    ],\n",
    "    [\n",
    "        'ExtraTreeClassifier_balanced',\n",
    "        ExtraTreeClassifier(class_weight='balanced'), \n",
    "        {\n",
    "            'splitter': ['best','random'],\n",
    "            'min_samples_leaf':[1,2],\n",
    "            'min_weight_fraction_leaf':[0.0, 0.1]\n",
    "        }\n",
    "    ],\n",
    "]\n",
    "\n",
    "for x in lstModelParams:\n",
    "    model_name = x[0]\n",
    "    model = x[1]\n",
    "    params = x[2]\n",
    "    verbosity = 3\n",
    "    grid_score, auc_score, best_params, best_model = run_gridsearch(model_name, model, params, folds, X_train, y_train, X_test, y_test, verbosity)\n",
    "    results = add_result(results,model_name,grid_score,auc_score,best_params)\n",
    "    joblib.dump(best_model, 'model/best_' + model_name + '.pkl')"
   ]
  },
  {
   "cell_type": "code",
   "execution_count": 73,
   "metadata": {},
   "outputs": [
    {
     "data": {
      "text/html": [
       "<div>\n",
       "<style scoped>\n",
       "    .dataframe tbody tr th:only-of-type {\n",
       "        vertical-align: middle;\n",
       "    }\n",
       "\n",
       "    .dataframe tbody tr th {\n",
       "        vertical-align: top;\n",
       "    }\n",
       "\n",
       "    .dataframe thead th {\n",
       "        text-align: right;\n",
       "    }\n",
       "</style>\n",
       "<table border=\"1\" class=\"dataframe\">\n",
       "  <thead>\n",
       "    <tr style=\"text-align: right;\">\n",
       "      <th></th>\n",
       "      <th>classifier</th>\n",
       "      <th>grid_score</th>\n",
       "      <th>score</th>\n",
       "      <th>params</th>\n",
       "    </tr>\n",
       "  </thead>\n",
       "  <tbody>\n",
       "    <tr>\n",
       "      <th>4</th>\n",
       "      <td>ExtraTreesClassifier_balanced</td>\n",
       "      <td>0.701479</td>\n",
       "      <td>0.649669</td>\n",
       "      <td>{'min_samples_leaf': 1, 'min_weight_fraction_l...</td>\n",
       "    </tr>\n",
       "    <tr>\n",
       "      <th>8</th>\n",
       "      <td>DecisionTreeClassifier_balanced</td>\n",
       "      <td>0.704167</td>\n",
       "      <td>0.636243</td>\n",
       "      <td>{'min_samples_leaf': 1, 'min_weight_fraction_l...</td>\n",
       "    </tr>\n",
       "    <tr>\n",
       "      <th>10</th>\n",
       "      <td>ExtraTreeClassifier_balanced</td>\n",
       "      <td>0.602331</td>\n",
       "      <td>0.570923</td>\n",
       "      <td>{'min_samples_leaf': 1, 'min_weight_fraction_l...</td>\n",
       "    </tr>\n",
       "    <tr>\n",
       "      <th>2</th>\n",
       "      <td>GradientBoostingClassifier</td>\n",
       "      <td>0.759353</td>\n",
       "      <td>0.512938</td>\n",
       "      <td>{'learning_rate': 0.1, 'max_depth': 1, 'n_esti...</td>\n",
       "    </tr>\n",
       "    <tr>\n",
       "      <th>0</th>\n",
       "      <td>LGBMClassifier</td>\n",
       "      <td>0.757829</td>\n",
       "      <td>0.507110</td>\n",
       "      <td>{'colsample_bytree': 0.9497036, 'learning_rate...</td>\n",
       "    </tr>\n",
       "    <tr>\n",
       "      <th>6</th>\n",
       "      <td>RandomForestClassifier_balanced</td>\n",
       "      <td>0.723862</td>\n",
       "      <td>0.503645</td>\n",
       "      <td>{'min_samples_leaf': 2, 'min_weight_fraction_l...</td>\n",
       "    </tr>\n",
       "    <tr>\n",
       "      <th>3</th>\n",
       "      <td>ExtraTreesClassifier_unbalanced</td>\n",
       "      <td>0.709326</td>\n",
       "      <td>0.500000</td>\n",
       "      <td>{'min_samples_leaf': 2, 'min_weight_fraction_l...</td>\n",
       "    </tr>\n",
       "    <tr>\n",
       "      <th>5</th>\n",
       "      <td>RandomForestClassifier_unbalanced</td>\n",
       "      <td>0.721646</td>\n",
       "      <td>0.500000</td>\n",
       "      <td>{'min_samples_leaf': 1, 'min_weight_fraction_l...</td>\n",
       "    </tr>\n",
       "    <tr>\n",
       "      <th>7</th>\n",
       "      <td>DecisionTreeClassifier_unbalanced</td>\n",
       "      <td>0.692909</td>\n",
       "      <td>0.500000</td>\n",
       "      <td>{'min_samples_leaf': 1, 'min_weight_fraction_l...</td>\n",
       "    </tr>\n",
       "    <tr>\n",
       "      <th>9</th>\n",
       "      <td>ExtraTreeClassifier_unbalanced</td>\n",
       "      <td>0.565433</td>\n",
       "      <td>0.500000</td>\n",
       "      <td>{'min_samples_leaf': 2, 'min_weight_fraction_l...</td>\n",
       "    </tr>\n",
       "    <tr>\n",
       "      <th>1</th>\n",
       "      <td>XGBClassifier</td>\n",
       "      <td>0.728599</td>\n",
       "      <td>0.499820</td>\n",
       "      <td>{'colsample_bytree': 0.7, 'learning_rate': 0.0...</td>\n",
       "    </tr>\n",
       "  </tbody>\n",
       "</table>\n",
       "</div>"
      ],
      "text/plain": [
       "                           classifier  grid_score     score  \\\n",
       "4       ExtraTreesClassifier_balanced    0.701479  0.649669   \n",
       "8     DecisionTreeClassifier_balanced    0.704167  0.636243   \n",
       "10       ExtraTreeClassifier_balanced    0.602331  0.570923   \n",
       "2          GradientBoostingClassifier    0.759353  0.512938   \n",
       "0                      LGBMClassifier    0.757829  0.507110   \n",
       "6     RandomForestClassifier_balanced    0.723862  0.503645   \n",
       "3     ExtraTreesClassifier_unbalanced    0.709326  0.500000   \n",
       "5   RandomForestClassifier_unbalanced    0.721646  0.500000   \n",
       "7   DecisionTreeClassifier_unbalanced    0.692909  0.500000   \n",
       "9      ExtraTreeClassifier_unbalanced    0.565433  0.500000   \n",
       "1                       XGBClassifier    0.728599  0.499820   \n",
       "\n",
       "                                               params  \n",
       "4   {'min_samples_leaf': 1, 'min_weight_fraction_l...  \n",
       "8   {'min_samples_leaf': 1, 'min_weight_fraction_l...  \n",
       "10  {'min_samples_leaf': 1, 'min_weight_fraction_l...  \n",
       "2   {'learning_rate': 0.1, 'max_depth': 1, 'n_esti...  \n",
       "0   {'colsample_bytree': 0.9497036, 'learning_rate...  \n",
       "6   {'min_samples_leaf': 2, 'min_weight_fraction_l...  \n",
       "3   {'min_samples_leaf': 2, 'min_weight_fraction_l...  \n",
       "5   {'min_samples_leaf': 1, 'min_weight_fraction_l...  \n",
       "7   {'min_samples_leaf': 1, 'min_weight_fraction_l...  \n",
       "9   {'min_samples_leaf': 2, 'min_weight_fraction_l...  \n",
       "1   {'colsample_bytree': 0.7, 'learning_rate': 0.0...  "
      ]
     },
     "execution_count": 73,
     "metadata": {},
     "output_type": "execute_result"
    }
   ],
   "source": [
    "results.sort_values('score', ascending=False)"
   ]
  },
  {
   "cell_type": "markdown",
   "metadata": {},
   "source": [
    "# CLASS IMBALANCE"
   ]
  },
  {
   "cell_type": "markdown",
   "metadata": {},
   "source": [
    "## With no balancing"
   ]
  },
  {
   "cell_type": "code",
   "execution_count": 80,
   "metadata": {},
   "outputs": [
    {
     "name": "stdout",
     "output_type": "stream",
     "text": [
      "Actual     0.0  1.0\n",
      "Predicted          \n",
      "0.0        763   62\n",
      "1.0         88    5\n",
      "Actual     0.0  1.0\n",
      "Predicted          \n",
      "0.0        783   64\n",
      "1.0         68    3\n"
     ]
    }
   ],
   "source": [
    "# not balanced \n",
    "model = DecisionTreeClassifier()\n",
    "model.fit(X_train, y_train)\n",
    "y_predict = model.predict(X_test)\n",
    "target = 'TARGET'\n",
    "print(pd.crosstab(pd.Series(y_predict, name='Predicted'), pd.Series(y_test, name='Actual')))\n",
    "\n",
    "# balanced \n",
    "model = DecisionTreeClassifier(class_weight='balanced')\n",
    "model.fit(X_train, y_train)\n",
    "y_predict = model.predict(X_test)\n",
    "target = 'TARGET'\n",
    "print(pd.crosstab(pd.Series(y_predict, name='Predicted'), pd.Series(y_test, name='Actual')))\n"
   ]
  },
  {
   "cell_type": "markdown",
   "metadata": {},
   "source": [
    "# Finding the balance"
   ]
  },
  {
   "cell_type": "code",
   "execution_count": 105,
   "metadata": {},
   "outputs": [
    {
     "name": "stdout",
     "output_type": "stream",
     "text": [
      "Fitting 5 folds for each of 30 candidates, totalling 150 fits\n",
      "[CV] END ....................class_weight={0: 0.05, 1: 0.95}; total time=   0.4s\n",
      "[CV] END ....................class_weight={0: 0.05, 1: 0.95}; total time=   0.3s\n",
      "[CV] END ....................class_weight={0: 0.05, 1: 0.95}; total time=   0.3s\n",
      "[CV] END ....................class_weight={0: 0.05, 1: 0.95}; total time=   0.3s\n",
      "[CV] END ....................class_weight={0: 0.05, 1: 0.95}; total time=   0.3s\n",
      "[CV] END class_weight={0: 0.08103448275862069, 1: 0.9189655172413793}; total time=   0.3s\n",
      "[CV] END class_weight={0: 0.08103448275862069, 1: 0.9189655172413793}; total time=   0.3s\n",
      "[CV] END class_weight={0: 0.08103448275862069, 1: 0.9189655172413793}; total time=   0.3s\n",
      "[CV] END class_weight={0: 0.08103448275862069, 1: 0.9189655172413793}; total time=   0.3s\n",
      "[CV] END class_weight={0: 0.08103448275862069, 1: 0.9189655172413793}; total time=   0.3s\n",
      "[CV] END class_weight={0: 0.11206896551724138, 1: 0.8879310344827587}; total time=   0.3s\n",
      "[CV] END class_weight={0: 0.11206896551724138, 1: 0.8879310344827587}; total time=   0.3s\n",
      "[CV] END class_weight={0: 0.11206896551724138, 1: 0.8879310344827587}; total time=   0.3s\n",
      "[CV] END class_weight={0: 0.11206896551724138, 1: 0.8879310344827587}; total time=   0.3s\n",
      "[CV] END class_weight={0: 0.11206896551724138, 1: 0.8879310344827587}; total time=   0.3s\n",
      "[CV] END class_weight={0: 0.14310344827586208, 1: 0.8568965517241379}; total time=   0.3s\n",
      "[CV] END class_weight={0: 0.14310344827586208, 1: 0.8568965517241379}; total time=   0.3s\n",
      "[CV] END class_weight={0: 0.14310344827586208, 1: 0.8568965517241379}; total time=   0.3s\n",
      "[CV] END class_weight={0: 0.14310344827586208, 1: 0.8568965517241379}; total time=   0.3s\n",
      "[CV] END class_weight={0: 0.14310344827586208, 1: 0.8568965517241379}; total time=   0.3s\n",
      "[CV] END class_weight={0: 0.17413793103448275, 1: 0.8258620689655173}; total time=   0.3s\n",
      "[CV] END class_weight={0: 0.17413793103448275, 1: 0.8258620689655173}; total time=   0.3s\n",
      "[CV] END class_weight={0: 0.17413793103448275, 1: 0.8258620689655173}; total time=   0.4s\n",
      "[CV] END class_weight={0: 0.17413793103448275, 1: 0.8258620689655173}; total time=   0.3s\n",
      "[CV] END class_weight={0: 0.17413793103448275, 1: 0.8258620689655173}; total time=   0.3s\n",
      "[CV] END class_weight={0: 0.20517241379310341, 1: 0.7948275862068965}; total time=   0.3s\n",
      "[CV] END class_weight={0: 0.20517241379310341, 1: 0.7948275862068965}; total time=   0.4s\n",
      "[CV] END class_weight={0: 0.20517241379310341, 1: 0.7948275862068965}; total time=   0.4s\n",
      "[CV] END class_weight={0: 0.20517241379310341, 1: 0.7948275862068965}; total time=   0.3s\n",
      "[CV] END class_weight={0: 0.20517241379310341, 1: 0.7948275862068965}; total time=   0.4s\n",
      "[CV] END class_weight={0: 0.2362068965517241, 1: 0.7637931034482759}; total time=   0.4s\n",
      "[CV] END class_weight={0: 0.2362068965517241, 1: 0.7637931034482759}; total time=   0.4s\n",
      "[CV] END class_weight={0: 0.2362068965517241, 1: 0.7637931034482759}; total time=   0.4s\n",
      "[CV] END class_weight={0: 0.2362068965517241, 1: 0.7637931034482759}; total time=   0.4s\n",
      "[CV] END class_weight={0: 0.2362068965517241, 1: 0.7637931034482759}; total time=   0.4s\n",
      "[CV] END class_weight={0: 0.2672413793103448, 1: 0.7327586206896552}; total time=   0.4s\n",
      "[CV] END class_weight={0: 0.2672413793103448, 1: 0.7327586206896552}; total time=   0.5s\n",
      "[CV] END class_weight={0: 0.2672413793103448, 1: 0.7327586206896552}; total time=   0.4s\n",
      "[CV] END class_weight={0: 0.2672413793103448, 1: 0.7327586206896552}; total time=   0.4s\n",
      "[CV] END class_weight={0: 0.2672413793103448, 1: 0.7327586206896552}; total time=   0.4s\n",
      "[CV] END class_weight={0: 0.2982758620689655, 1: 0.7017241379310345}; total time=   0.5s\n",
      "[CV] END class_weight={0: 0.2982758620689655, 1: 0.7017241379310345}; total time=   0.5s\n",
      "[CV] END class_weight={0: 0.2982758620689655, 1: 0.7017241379310345}; total time=   0.4s\n",
      "[CV] END class_weight={0: 0.2982758620689655, 1: 0.7017241379310345}; total time=   0.4s\n",
      "[CV] END class_weight={0: 0.2982758620689655, 1: 0.7017241379310345}; total time=   0.5s\n",
      "[CV] END class_weight={0: 0.32931034482758614, 1: 0.6706896551724139}; total time=   0.5s\n",
      "[CV] END class_weight={0: 0.32931034482758614, 1: 0.6706896551724139}; total time=   0.5s\n",
      "[CV] END class_weight={0: 0.32931034482758614, 1: 0.6706896551724139}; total time=   0.4s\n",
      "[CV] END class_weight={0: 0.32931034482758614, 1: 0.6706896551724139}; total time=   0.4s\n",
      "[CV] END class_weight={0: 0.32931034482758614, 1: 0.6706896551724139}; total time=   0.5s\n",
      "[CV] END class_weight={0: 0.36034482758620684, 1: 0.6396551724137931}; total time=   0.5s\n",
      "[CV] END class_weight={0: 0.36034482758620684, 1: 0.6396551724137931}; total time=   0.6s\n",
      "[CV] END class_weight={0: 0.36034482758620684, 1: 0.6396551724137931}; total time=   0.5s\n",
      "[CV] END class_weight={0: 0.36034482758620684, 1: 0.6396551724137931}; total time=   0.4s\n",
      "[CV] END class_weight={0: 0.36034482758620684, 1: 0.6396551724137931}; total time=   0.5s\n",
      "[CV] END class_weight={0: 0.39137931034482754, 1: 0.6086206896551725}; total time=   0.5s\n",
      "[CV] END class_weight={0: 0.39137931034482754, 1: 0.6086206896551725}; total time=   0.5s\n",
      "[CV] END class_weight={0: 0.39137931034482754, 1: 0.6086206896551725}; total time=   0.5s\n",
      "[CV] END class_weight={0: 0.39137931034482754, 1: 0.6086206896551725}; total time=   0.5s\n",
      "[CV] END class_weight={0: 0.39137931034482754, 1: 0.6086206896551725}; total time=   0.5s\n",
      "[CV] END class_weight={0: 0.42241379310344823, 1: 0.5775862068965518}; total time=   0.5s\n",
      "[CV] END class_weight={0: 0.42241379310344823, 1: 0.5775862068965518}; total time=   0.5s\n",
      "[CV] END class_weight={0: 0.42241379310344823, 1: 0.5775862068965518}; total time=   0.5s\n",
      "[CV] END class_weight={0: 0.42241379310344823, 1: 0.5775862068965518}; total time=   0.5s\n",
      "[CV] END class_weight={0: 0.42241379310344823, 1: 0.5775862068965518}; total time=   0.5s\n",
      "[CV] END class_weight={0: 0.45344827586206893, 1: 0.5465517241379311}; total time=   0.6s\n",
      "[CV] END class_weight={0: 0.45344827586206893, 1: 0.5465517241379311}; total time=   0.6s\n",
      "[CV] END class_weight={0: 0.45344827586206893, 1: 0.5465517241379311}; total time=   0.6s\n",
      "[CV] END class_weight={0: 0.45344827586206893, 1: 0.5465517241379311}; total time=   0.5s\n",
      "[CV] END class_weight={0: 0.45344827586206893, 1: 0.5465517241379311}; total time=   0.5s\n",
      "[CV] END class_weight={0: 0.48448275862068957, 1: 0.5155172413793104}; total time=   0.6s\n",
      "[CV] END class_weight={0: 0.48448275862068957, 1: 0.5155172413793104}; total time=   0.6s\n",
      "[CV] END class_weight={0: 0.48448275862068957, 1: 0.5155172413793104}; total time=   0.6s\n",
      "[CV] END class_weight={0: 0.48448275862068957, 1: 0.5155172413793104}; total time=   0.6s\n",
      "[CV] END class_weight={0: 0.48448275862068957, 1: 0.5155172413793104}; total time=   0.6s\n",
      "[CV] END class_weight={0: 0.5155172413793103, 1: 0.4844827586206897}; total time=   0.7s\n",
      "[CV] END class_weight={0: 0.5155172413793103, 1: 0.4844827586206897}; total time=   0.6s\n",
      "[CV] END class_weight={0: 0.5155172413793103, 1: 0.4844827586206897}; total time=   0.7s\n",
      "[CV] END class_weight={0: 0.5155172413793103, 1: 0.4844827586206897}; total time=   0.6s\n",
      "[CV] END class_weight={0: 0.5155172413793103, 1: 0.4844827586206897}; total time=   0.6s\n",
      "[CV] END class_weight={0: 0.546551724137931, 1: 0.45344827586206904}; total time=   0.7s\n",
      "[CV] END class_weight={0: 0.546551724137931, 1: 0.45344827586206904}; total time=   0.7s\n",
      "[CV] END class_weight={0: 0.546551724137931, 1: 0.45344827586206904}; total time=   0.6s\n",
      "[CV] END class_weight={0: 0.546551724137931, 1: 0.45344827586206904}; total time=   0.6s\n",
      "[CV] END class_weight={0: 0.546551724137931, 1: 0.45344827586206904}; total time=   0.7s\n",
      "[CV] END class_weight={0: 0.5775862068965517, 1: 0.4224137931034483}; total time=   0.7s\n",
      "[CV] END class_weight={0: 0.5775862068965517, 1: 0.4224137931034483}; total time=   0.7s\n",
      "[CV] END class_weight={0: 0.5775862068965517, 1: 0.4224137931034483}; total time=   0.6s\n",
      "[CV] END class_weight={0: 0.5775862068965517, 1: 0.4224137931034483}; total time=   0.6s\n",
      "[CV] END class_weight={0: 0.5775862068965517, 1: 0.4224137931034483}; total time=   0.7s\n",
      "[CV] END class_weight={0: 0.6086206896551724, 1: 0.39137931034482765}; total time=   0.7s\n",
      "[CV] END class_weight={0: 0.6086206896551724, 1: 0.39137931034482765}; total time=   0.8s\n",
      "[CV] END class_weight={0: 0.6086206896551724, 1: 0.39137931034482765}; total time=   0.7s\n",
      "[CV] END class_weight={0: 0.6086206896551724, 1: 0.39137931034482765}; total time=   0.7s\n",
      "[CV] END class_weight={0: 0.6086206896551724, 1: 0.39137931034482765}; total time=   0.7s\n",
      "[CV] END class_weight={0: 0.6396551724137931, 1: 0.3603448275862069}; total time=   0.8s\n",
      "[CV] END class_weight={0: 0.6396551724137931, 1: 0.3603448275862069}; total time=   0.8s\n",
      "[CV] END class_weight={0: 0.6396551724137931, 1: 0.3603448275862069}; total time=   0.8s\n",
      "[CV] END class_weight={0: 0.6396551724137931, 1: 0.3603448275862069}; total time=   0.7s\n",
      "[CV] END class_weight={0: 0.6396551724137931, 1: 0.3603448275862069}; total time=   0.8s\n",
      "[CV] END class_weight={0: 0.6706896551724137, 1: 0.32931034482758625}; total time=   0.8s\n",
      "[CV] END class_weight={0: 0.6706896551724137, 1: 0.32931034482758625}; total time=   0.8s\n",
      "[CV] END class_weight={0: 0.6706896551724137, 1: 0.32931034482758625}; total time=   0.8s\n",
      "[CV] END class_weight={0: 0.6706896551724137, 1: 0.32931034482758625}; total time=   0.8s\n",
      "[CV] END class_weight={0: 0.6706896551724137, 1: 0.32931034482758625}; total time=   0.8s\n",
      "[CV] END class_weight={0: 0.7017241379310345, 1: 0.2982758620689655}; total time=   1.0s\n",
      "[CV] END class_weight={0: 0.7017241379310345, 1: 0.2982758620689655}; total time=   0.9s\n",
      "[CV] END class_weight={0: 0.7017241379310345, 1: 0.2982758620689655}; total time=   0.8s\n",
      "[CV] END class_weight={0: 0.7017241379310345, 1: 0.2982758620689655}; total time=   0.8s\n",
      "[CV] END class_weight={0: 0.7017241379310345, 1: 0.2982758620689655}; total time=   0.8s\n",
      "[CV] END class_weight={0: 0.7327586206896551, 1: 0.26724137931034486}; total time=   0.9s\n",
      "[CV] END class_weight={0: 0.7327586206896551, 1: 0.26724137931034486}; total time=   0.8s\n",
      "[CV] END class_weight={0: 0.7327586206896551, 1: 0.26724137931034486}; total time=   0.9s\n",
      "[CV] END class_weight={0: 0.7327586206896551, 1: 0.26724137931034486}; total time=   0.8s\n",
      "[CV] END class_weight={0: 0.7327586206896551, 1: 0.26724137931034486}; total time=   0.9s\n",
      "[CV] END class_weight={0: 0.7637931034482758, 1: 0.23620689655172422}; total time=   0.9s\n",
      "[CV] END class_weight={0: 0.7637931034482758, 1: 0.23620689655172422}; total time=   0.9s\n",
      "[CV] END class_weight={0: 0.7637931034482758, 1: 0.23620689655172422}; total time=   0.9s\n",
      "[CV] END class_weight={0: 0.7637931034482758, 1: 0.23620689655172422}; total time=   0.8s\n",
      "[CV] END class_weight={0: 0.7637931034482758, 1: 0.23620689655172422}; total time=   0.9s\n",
      "[CV] END class_weight={0: 0.7948275862068965, 1: 0.20517241379310347}; total time=   0.9s\n",
      "[CV] END class_weight={0: 0.7948275862068965, 1: 0.20517241379310347}; total time=   0.9s\n",
      "[CV] END class_weight={0: 0.7948275862068965, 1: 0.20517241379310347}; total time=   1.0s\n",
      "[CV] END class_weight={0: 0.7948275862068965, 1: 0.20517241379310347}; total time=   0.9s\n",
      "[CV] END class_weight={0: 0.7948275862068965, 1: 0.20517241379310347}; total time=   0.9s\n",
      "[CV] END class_weight={0: 0.8258620689655172, 1: 0.17413793103448283}; total time=   1.0s\n",
      "[CV] END class_weight={0: 0.8258620689655172, 1: 0.17413793103448283}; total time=   0.9s\n",
      "[CV] END class_weight={0: 0.8258620689655172, 1: 0.17413793103448283}; total time=   1.0s\n",
      "[CV] END class_weight={0: 0.8258620689655172, 1: 0.17413793103448283}; total time=   0.9s\n",
      "[CV] END class_weight={0: 0.8258620689655172, 1: 0.17413793103448283}; total time=   0.9s\n",
      "[CV] END class_weight={0: 0.8568965517241379, 1: 0.14310344827586208}; total time=   1.0s\n",
      "[CV] END class_weight={0: 0.8568965517241379, 1: 0.14310344827586208}; total time=   1.0s\n",
      "[CV] END class_weight={0: 0.8568965517241379, 1: 0.14310344827586208}; total time=   1.0s\n",
      "[CV] END class_weight={0: 0.8568965517241379, 1: 0.14310344827586208}; total time=   0.9s\n",
      "[CV] END class_weight={0: 0.8568965517241379, 1: 0.14310344827586208}; total time=   1.0s\n",
      "[CV] END class_weight={0: 0.8879310344827586, 1: 0.11206896551724144}; total time=   1.0s\n",
      "[CV] END class_weight={0: 0.8879310344827586, 1: 0.11206896551724144}; total time=   1.0s\n",
      "[CV] END class_weight={0: 0.8879310344827586, 1: 0.11206896551724144}; total time=   1.1s\n",
      "[CV] END class_weight={0: 0.8879310344827586, 1: 0.11206896551724144}; total time=   0.9s\n",
      "[CV] END class_weight={0: 0.8879310344827586, 1: 0.11206896551724144}; total time=   1.0s\n",
      "[CV] END class_weight={0: 0.9189655172413792, 1: 0.0810344827586208}; total time=   1.0s\n",
      "[CV] END class_weight={0: 0.9189655172413792, 1: 0.0810344827586208}; total time=   1.1s\n",
      "[CV] END class_weight={0: 0.9189655172413792, 1: 0.0810344827586208}; total time=   1.0s\n",
      "[CV] END class_weight={0: 0.9189655172413792, 1: 0.0810344827586208}; total time=   0.9s\n",
      "[CV] END class_weight={0: 0.9189655172413792, 1: 0.0810344827586208}; total time=   1.1s\n",
      "[CV] END ....class_weight={0: 0.95, 1: 0.050000000000000044}; total time=   1.1s\n",
      "[CV] END ....class_weight={0: 0.95, 1: 0.050000000000000044}; total time=   1.2s\n",
      "[CV] END ....class_weight={0: 0.95, 1: 0.050000000000000044}; total time=   1.2s\n",
      "[CV] END ....class_weight={0: 0.95, 1: 0.050000000000000044}; total time=   1.0s\n",
      "[CV] END ....class_weight={0: 0.95, 1: 0.050000000000000044}; total time=   1.1s\n",
      "Best Params:  {'class_weight': {0: 0.14310344827586208, 1: 0.8568965517241379}}\n"
     ]
    }
   ],
   "source": [
    "weights = np.linspace(0.05, 0.95, 30)\n",
    "model = DecisionTreeClassifier()\n",
    "params = {'class_weight': [{0:x, 1: 1.0-x} for x in weights]}\n",
    "grid = GridSearchCV(model, params, scoring='f1', cv=folds, verbose=2)\n",
    "grid_results = grid.fit(X_train, y_train)\n",
    "print ('Best Params: ', grid_results.best_params_)\n"
   ]
  },
  {
   "cell_type": "code",
   "execution_count": 106,
   "metadata": {},
   "outputs": [
    {
     "data": {
      "text/plain": [
       "<AxesSubplot:xlabel='weight'>"
      ]
     },
     "execution_count": 106,
     "metadata": {},
     "output_type": "execute_result"
    },
    {
     "data": {
      "image/png": "[encoded data removed]",
      "text/plain": [
       "<Figure size 640x480 with 1 Axes>"
      ]
     },
     "metadata": {},
     "output_type": "display_data"
    }
   ],
   "source": [
    "data_out = pd.DataFrame({'score': grid_results.cv_results_['mean_test_score'],'weight': weights})\n",
    "data_out.plot(x='weight')"
   ]
  },
  {
   "cell_type": "code",
   "execution_count": 107,
   "metadata": {},
   "outputs": [
    {
     "data": {
      "text/html": [
       "<div>\n",
       "<style scoped>\n",
       "    .dataframe tbody tr th:only-of-type {\n",
       "        vertical-align: middle;\n",
       "    }\n",
       "\n",
       "    .dataframe tbody tr th {\n",
       "        vertical-align: top;\n",
       "    }\n",
       "\n",
       "    .dataframe thead th {\n",
       "        text-align: right;\n",
       "    }\n",
       "</style>\n",
       "<table border=\"1\" class=\"dataframe\">\n",
       "  <thead>\n",
       "    <tr style=\"text-align: right;\">\n",
       "      <th></th>\n",
       "      <th>score</th>\n",
       "      <th>weight</th>\n",
       "    </tr>\n",
       "  </thead>\n",
       "  <tbody>\n",
       "    <tr>\n",
       "      <th>0</th>\n",
       "      <td>0.142292</td>\n",
       "      <td>0.050000</td>\n",
       "    </tr>\n",
       "    <tr>\n",
       "      <th>1</th>\n",
       "      <td>0.176934</td>\n",
       "      <td>0.081034</td>\n",
       "    </tr>\n",
       "    <tr>\n",
       "      <th>2</th>\n",
       "      <td>0.165204</td>\n",
       "      <td>0.112069</td>\n",
       "    </tr>\n",
       "    <tr>\n",
       "      <th>3</th>\n",
       "      <td>0.185031</td>\n",
       "      <td>0.143103</td>\n",
       "    </tr>\n",
       "    <tr>\n",
       "      <th>4</th>\n",
       "      <td>0.183816</td>\n",
       "      <td>0.174138</td>\n",
       "    </tr>\n",
       "    <tr>\n",
       "      <th>5</th>\n",
       "      <td>0.151072</td>\n",
       "      <td>0.205172</td>\n",
       "    </tr>\n",
       "    <tr>\n",
       "      <th>6</th>\n",
       "      <td>0.138325</td>\n",
       "      <td>0.236207</td>\n",
       "    </tr>\n",
       "    <tr>\n",
       "      <th>7</th>\n",
       "      <td>0.155045</td>\n",
       "      <td>0.267241</td>\n",
       "    </tr>\n",
       "    <tr>\n",
       "      <th>8</th>\n",
       "      <td>0.148283</td>\n",
       "      <td>0.298276</td>\n",
       "    </tr>\n",
       "    <tr>\n",
       "      <th>9</th>\n",
       "      <td>0.148947</td>\n",
       "      <td>0.329310</td>\n",
       "    </tr>\n",
       "    <tr>\n",
       "      <th>10</th>\n",
       "      <td>0.151644</td>\n",
       "      <td>0.360345</td>\n",
       "    </tr>\n",
       "    <tr>\n",
       "      <th>11</th>\n",
       "      <td>0.137077</td>\n",
       "      <td>0.391379</td>\n",
       "    </tr>\n",
       "    <tr>\n",
       "      <th>12</th>\n",
       "      <td>0.142273</td>\n",
       "      <td>0.422414</td>\n",
       "    </tr>\n",
       "    <tr>\n",
       "      <th>13</th>\n",
       "      <td>0.164053</td>\n",
       "      <td>0.453448</td>\n",
       "    </tr>\n",
       "    <tr>\n",
       "      <th>14</th>\n",
       "      <td>0.146013</td>\n",
       "      <td>0.484483</td>\n",
       "    </tr>\n",
       "    <tr>\n",
       "      <th>15</th>\n",
       "      <td>0.141602</td>\n",
       "      <td>0.515517</td>\n",
       "    </tr>\n",
       "    <tr>\n",
       "      <th>16</th>\n",
       "      <td>0.161394</td>\n",
       "      <td>0.546552</td>\n",
       "    </tr>\n",
       "    <tr>\n",
       "      <th>17</th>\n",
       "      <td>0.148522</td>\n",
       "      <td>0.577586</td>\n",
       "    </tr>\n",
       "    <tr>\n",
       "      <th>18</th>\n",
       "      <td>0.133096</td>\n",
       "      <td>0.608621</td>\n",
       "    </tr>\n",
       "    <tr>\n",
       "      <th>19</th>\n",
       "      <td>0.137025</td>\n",
       "      <td>0.639655</td>\n",
       "    </tr>\n",
       "    <tr>\n",
       "      <th>20</th>\n",
       "      <td>0.139213</td>\n",
       "      <td>0.670690</td>\n",
       "    </tr>\n",
       "    <tr>\n",
       "      <th>21</th>\n",
       "      <td>0.138773</td>\n",
       "      <td>0.701724</td>\n",
       "    </tr>\n",
       "    <tr>\n",
       "      <th>22</th>\n",
       "      <td>0.141568</td>\n",
       "      <td>0.732759</td>\n",
       "    </tr>\n",
       "    <tr>\n",
       "      <th>23</th>\n",
       "      <td>0.141759</td>\n",
       "      <td>0.763793</td>\n",
       "    </tr>\n",
       "    <tr>\n",
       "      <th>24</th>\n",
       "      <td>0.149419</td>\n",
       "      <td>0.794828</td>\n",
       "    </tr>\n",
       "    <tr>\n",
       "      <th>25</th>\n",
       "      <td>0.140036</td>\n",
       "      <td>0.825862</td>\n",
       "    </tr>\n",
       "    <tr>\n",
       "      <th>26</th>\n",
       "      <td>0.134152</td>\n",
       "      <td>0.856897</td>\n",
       "    </tr>\n",
       "    <tr>\n",
       "      <th>27</th>\n",
       "      <td>0.141552</td>\n",
       "      <td>0.887931</td>\n",
       "    </tr>\n",
       "    <tr>\n",
       "      <th>28</th>\n",
       "      <td>0.128820</td>\n",
       "      <td>0.918966</td>\n",
       "    </tr>\n",
       "    <tr>\n",
       "      <th>29</th>\n",
       "      <td>0.127826</td>\n",
       "      <td>0.950000</td>\n",
       "    </tr>\n",
       "  </tbody>\n",
       "</table>\n",
       "</div>"
      ],
      "text/plain": [
       "       score    weight\n",
       "0   0.142292  0.050000\n",
       "1   0.176934  0.081034\n",
       "2   0.165204  0.112069\n",
       "3   0.185031  0.143103\n",
       "4   0.183816  0.174138\n",
       "5   0.151072  0.205172\n",
       "6   0.138325  0.236207\n",
       "7   0.155045  0.267241\n",
       "8   0.148283  0.298276\n",
       "9   0.148947  0.329310\n",
       "10  0.151644  0.360345\n",
       "11  0.137077  0.391379\n",
       "12  0.142273  0.422414\n",
       "13  0.164053  0.453448\n",
       "14  0.146013  0.484483\n",
       "15  0.141602  0.515517\n",
       "16  0.161394  0.546552\n",
       "17  0.148522  0.577586\n",
       "18  0.133096  0.608621\n",
       "19  0.137025  0.639655\n",
       "20  0.139213  0.670690\n",
       "21  0.138773  0.701724\n",
       "22  0.141568  0.732759\n",
       "23  0.141759  0.763793\n",
       "24  0.149419  0.794828\n",
       "25  0.140036  0.825862\n",
       "26  0.134152  0.856897\n",
       "27  0.141552  0.887931\n",
       "28  0.128820  0.918966\n",
       "29  0.127826  0.950000"
      ]
     },
     "execution_count": 107,
     "metadata": {},
     "output_type": "execute_result"
    }
   ],
   "source": [
    "data_out"
   ]
  },
  {
   "cell_type": "code",
   "execution_count": 15,
   "metadata": {},
   "outputs": [],
   "source": [
    "from sklearn.metrics import accuracy_score\n",
    "from sklearn.metrics import precision_score, recall_score\n",
    "from sklearn.metrics import f1_score, roc_auc_score, roc_curve\n",
    "import matplotlib.pyplot as plt\n",
    "import seaborn as sns\n"
   ]
  },
  {
   "cell_type": "code",
   "execution_count": 51,
   "metadata": {},
   "outputs": [],
   "source": [
    "def generate_model_report(y_actual, y_predicted):\n",
    "    print(\"Accuracy = \" , accuracy_score(y_actual, y_predicted))\n",
    "    print(\"Precision = \" ,precision_score(y_actual, y_predicted))\n",
    "    print(\"Recall = \" ,recall_score(y_actual, y_predicted))\n",
    "    print(\"F1 Score = \" ,f1_score(y_actual, y_predicted))\n",
    "    pass\n",
    "\n",
    "def generate_auc_roc_curve(clf, X_test):\n",
    "    y_pred_proba = clf.predict_proba(X_test)[:, 1]\n",
    "    fpr, tpr, thresholds = roc_curve(y_test,  y_pred_proba)\n",
    "    auc = roc_auc_score(y_test, y_pred_proba)\n",
    "    plt.plot(fpr,tpr,label=\"AUC ROC Curve with Area Under the curve =\"+str(auc))\n",
    "    plt.legend(loc=4)\n",
    "    plt.show()\n",
    "    pass\n",
    "\n"
   ]
  },
  {
   "cell_type": "code",
   "execution_count": 108,
   "metadata": {},
   "outputs": [
    {
     "data": {
      "text/html": [
       "<div>\n",
       "<style scoped>\n",
       "    .dataframe tbody tr th:only-of-type {\n",
       "        vertical-align: middle;\n",
       "    }\n",
       "\n",
       "    .dataframe tbody tr th {\n",
       "        vertical-align: top;\n",
       "    }\n",
       "\n",
       "    .dataframe thead th {\n",
       "        text-align: right;\n",
       "    }\n",
       "</style>\n",
       "<table border=\"1\" class=\"dataframe\">\n",
       "  <thead>\n",
       "    <tr style=\"text-align: right;\">\n",
       "      <th>Actual</th>\n",
       "      <th>0.0</th>\n",
       "      <th>1.0</th>\n",
       "    </tr>\n",
       "    <tr>\n",
       "      <th>Predicted</th>\n",
       "      <th></th>\n",
       "      <th></th>\n",
       "    </tr>\n",
       "  </thead>\n",
       "  <tbody>\n",
       "    <tr>\n",
       "      <th>0.0</th>\n",
       "      <td>786</td>\n",
       "      <td>67</td>\n",
       "    </tr>\n",
       "    <tr>\n",
       "      <th>1.0</th>\n",
       "      <td>65</td>\n",
       "      <td>0</td>\n",
       "    </tr>\n",
       "  </tbody>\n",
       "</table>\n",
       "</div>"
      ],
      "text/plain": [
       "Actual     0.0  1.0\n",
       "Predicted          \n",
       "0.0        786   67\n",
       "1.0         65    0"
      ]
     },
     "execution_count": 108,
     "metadata": {},
     "output_type": "execute_result"
    }
   ],
   "source": [
    "model = DecisionTreeClassifier(**grid_results.best_params_).fit(X_train,y_train)\n",
    "y_predict = model.predict(X_test)\n",
    "pd.crosstab(pd.Series(y_predict, name='Predicted'), pd.Series(y_test, name='Actual'))\n"
   ]
  },
  {
   "cell_type": "code",
   "execution_count": 109,
   "metadata": {},
   "outputs": [
    {
     "name": "stdout",
     "output_type": "stream",
     "text": [
      "Accuracy =  0.873\n",
      "Precision =  0.18067226890756302\n",
      "Recall =  0.18777292576419213\n",
      "F1 Score =  0.1841541755888651\n"
     ]
    }
   ],
   "source": [
    "generate_model_report(y_test, y_predict)"
   ]
  },
  {
   "cell_type": "code",
   "execution_count": 111,
   "metadata": {},
   "outputs": [
    {
     "data": {
      "image/png": "[encoded data removed]",
      "text/plain": [
       "<Figure size 640x480 with 1 Axes>"
      ]
     },
     "metadata": {},
     "output_type": "display_data"
    }
   ],
   "source": [
    "generate_auc_roc_curve(model, X_test)"
   ]
  },
  {
   "cell_type": "markdown",
   "metadata": {},
   "source": [
    "# SMOTE"
   ]
  },
  {
   "cell_type": "code",
   "execution_count": 16,
   "metadata": {},
   "outputs": [],
   "source": [
    "from imblearn.over_sampling import SMOTE\n",
    "from imblearn.pipeline import make_pipeline\n"
   ]
  },
  {
   "cell_type": "code",
   "execution_count": 17,
   "metadata": {},
   "outputs": [
    {
     "data": {
      "text/plain": [
       "{0.0: 6454, 1.0: 546}"
      ]
     },
     "execution_count": 17,
     "metadata": {},
     "output_type": "execute_result"
    }
   ],
   "source": [
    "unique, count = np.unique(y_train, return_counts=True)\n",
    "Y_train_dict_value_count = { k:v for (k,v) in zip(unique, count)}\n",
    "Y_train_dict_value_count"
   ]
  },
  {
   "cell_type": "code",
   "execution_count": 19,
   "metadata": {},
   "outputs": [],
   "source": [
    "sm = SMOTE(random_state=12, sampling_strategy = 1.0)\n",
    "x_train_res, y_train_res = sm.fit_sample(X_train, y_train)\n"
   ]
  },
  {
   "cell_type": "code",
   "execution_count": 20,
   "metadata": {},
   "outputs": [
    {
     "data": {
      "text/plain": [
       "{0.0: 6454, 1.0: 6454}"
      ]
     },
     "execution_count": 20,
     "metadata": {},
     "output_type": "execute_result"
    }
   ],
   "source": [
    "unique, count = np.unique(y_train_res, return_counts=True)\n",
    "y_train_smote_value_count = { k:v for (k,v) in zip(unique, count)}\n",
    "y_train_smote_value_count"
   ]
  },
  {
   "cell_type": "code",
   "execution_count": 21,
   "metadata": {},
   "outputs": [],
   "source": [
    "clf = DecisionTreeClassifier().fit(x_train_res, y_train_res)"
   ]
  },
  {
   "cell_type": "code",
   "execution_count": 22,
   "metadata": {},
   "outputs": [
    {
     "data": {
      "text/html": [
       "<div>\n",
       "<style scoped>\n",
       "    .dataframe tbody tr th:only-of-type {\n",
       "        vertical-align: middle;\n",
       "    }\n",
       "\n",
       "    .dataframe tbody tr th {\n",
       "        vertical-align: top;\n",
       "    }\n",
       "\n",
       "    .dataframe thead th {\n",
       "        text-align: right;\n",
       "    }\n",
       "</style>\n",
       "<table border=\"1\" class=\"dataframe\">\n",
       "  <thead>\n",
       "    <tr style=\"text-align: right;\">\n",
       "      <th>Actual</th>\n",
       "      <th>0.0</th>\n",
       "      <th>1.0</th>\n",
       "    </tr>\n",
       "    <tr>\n",
       "      <th>Predicted</th>\n",
       "      <th></th>\n",
       "      <th></th>\n",
       "    </tr>\n",
       "  </thead>\n",
       "  <tbody>\n",
       "    <tr>\n",
       "      <th>0.0</th>\n",
       "      <td>765</td>\n",
       "      <td>53</td>\n",
       "    </tr>\n",
       "    <tr>\n",
       "      <th>1.0</th>\n",
       "      <td>86</td>\n",
       "      <td>14</td>\n",
       "    </tr>\n",
       "  </tbody>\n",
       "</table>\n",
       "</div>"
      ],
      "text/plain": [
       "Actual     0.0  1.0\n",
       "Predicted          \n",
       "0.0        765   53\n",
       "1.0         86   14"
      ]
     },
     "execution_count": 22,
     "metadata": {},
     "output_type": "execute_result"
    }
   ],
   "source": [
    "Y_Test_Pred = clf.predict(X_test)\n",
    "\n",
    "pd.crosstab(pd.Series(Y_Test_Pred, name = 'Predicted'), \n",
    "            pd.Series(y_test, name = 'Actual'))"
   ]
  },
  {
   "cell_type": "code",
   "execution_count": 23,
   "metadata": {},
   "outputs": [
    {
     "name": "stdout",
     "output_type": "stream",
     "text": [
      "Accuracy =  0.828\n",
      "Precision =  0.1046831955922865\n",
      "Recall =  0.16593886462882096\n",
      "F1 Score =  0.12837837837837837\n"
     ]
    }
   ],
   "source": [
    "generate_model_report(y_test, Y_Test_Pred)"
   ]
  },
  {
   "cell_type": "code",
   "execution_count": 24,
   "metadata": {},
   "outputs": [
    {
     "data": {
      "image/png": "[encoded data removed]",
      "text/plain": [
       "<Figure size 640x480 with 1 Axes>"
      ]
     },
     "metadata": {},
     "output_type": "display_data"
    }
   ],
   "source": [
    "generate_auc_roc_curve(clf, X_test)"
   ]
  },
  {
   "cell_type": "code",
   "execution_count": 25,
   "metadata": {},
   "outputs": [
    {
     "data": {
      "text/plain": [
       "array([0.005     , 0.03222222, 0.05944444, 0.08666667, 0.11388889,\n",
       "       0.14111111, 0.16833333, 0.19555556, 0.22277778, 0.25      ])"
      ]
     },
     "execution_count": 25,
     "metadata": {},
     "output_type": "execute_result"
    }
   ],
   "source": [
    "weights = np.linspace(0.005, 0.25, 10)\n",
    "weights"
   ]
  },
  {
   "cell_type": "code",
   "execution_count": 27,
   "metadata": {},
   "outputs": [
    {
     "name": "stdout",
     "output_type": "stream",
     "text": [
      "Best parameters : {'smote__sampling_strategy': 0.1411111111111111}\n"
     ]
    },
    {
     "data": {
      "text/plain": [
       "<AxesSubplot:xlabel='weight'>"
      ]
     },
     "execution_count": 27,
     "metadata": {},
     "output_type": "execute_result"
    },
    {
     "data": {
      "image/png": "[encoded data removed]",
      "text/plain": [
       "<Figure size 640x480 with 1 Axes>"
      ]
     },
     "metadata": {},
     "output_type": "display_data"
    }
   ],
   "source": [
    "pipe = make_pipeline(\n",
    "    SMOTE(),\n",
    "    DecisionTreeClassifier()\n",
    ")\n",
    "\n",
    "weights = np.linspace(0.005, 0.25, 10)\n",
    "\n",
    "gsc = GridSearchCV(\n",
    "    estimator=pipe,\n",
    "    param_grid={\n",
    "        'smote__sampling_strategy': weights\n",
    "    },\n",
    "    scoring='f1',\n",
    "    cv=3\n",
    ")\n",
    "grid_result = gsc.fit(X_train, y_train)\n",
    "\n",
    "print(\"Best parameters : %s\" % grid_result.best_params_)\n",
    "weight_f1_score_df = pd.DataFrame({ 'score': grid_result.cv_results_['mean_test_score'],\n",
    "                                   'weight': weights })\n",
    "weight_f1_score_df.plot(x='weight')"
   ]
  },
  {
   "cell_type": "code",
   "execution_count": 28,
   "metadata": {},
   "outputs": [],
   "source": [
    "pipe = make_pipeline(\n",
    "    SMOTE(sampling_strategy=0.1411111111111111),\n",
    "    DecisionTreeClassifier()\n",
    ")\n",
    "\n",
    "pipe.fit(X_train, y_train)\n",
    "\n",
    "Y_Test_Pred = pipe.predict(X_test)"
   ]
  },
  {
   "cell_type": "code",
   "execution_count": 29,
   "metadata": {},
   "outputs": [
    {
     "data": {
      "text/html": [
       "<div>\n",
       "<style scoped>\n",
       "    .dataframe tbody tr th:only-of-type {\n",
       "        vertical-align: middle;\n",
       "    }\n",
       "\n",
       "    .dataframe tbody tr th {\n",
       "        vertical-align: top;\n",
       "    }\n",
       "\n",
       "    .dataframe thead th {\n",
       "        text-align: right;\n",
       "    }\n",
       "</style>\n",
       "<table border=\"1\" class=\"dataframe\">\n",
       "  <thead>\n",
       "    <tr style=\"text-align: right;\">\n",
       "      <th>Actual</th>\n",
       "      <th>0.0</th>\n",
       "      <th>1.0</th>\n",
       "    </tr>\n",
       "    <tr>\n",
       "      <th>Predicted</th>\n",
       "      <th></th>\n",
       "      <th></th>\n",
       "    </tr>\n",
       "  </thead>\n",
       "  <tbody>\n",
       "    <tr>\n",
       "      <th>0.0</th>\n",
       "      <td>773</td>\n",
       "      <td>55</td>\n",
       "    </tr>\n",
       "    <tr>\n",
       "      <th>1.0</th>\n",
       "      <td>78</td>\n",
       "      <td>12</td>\n",
       "    </tr>\n",
       "  </tbody>\n",
       "</table>\n",
       "</div>"
      ],
      "text/plain": [
       "Actual     0.0  1.0\n",
       "Predicted          \n",
       "0.0        773   55\n",
       "1.0         78   12"
      ]
     },
     "execution_count": 29,
     "metadata": {},
     "output_type": "execute_result"
    }
   ],
   "source": [
    "pd.crosstab(pd.Series(Y_Test_Pred, name = 'Predicted'), \n",
    "            pd.Series(y_test, name = 'Actual'))"
   ]
  },
  {
   "cell_type": "code",
   "execution_count": 30,
   "metadata": {},
   "outputs": [
    {
     "name": "stdout",
     "output_type": "stream",
     "text": [
      "Accuracy =  0.8503333333333334\n",
      "Precision =  0.14052287581699346\n",
      "Recall =  0.18777292576419213\n",
      "F1 Score =  0.16074766355140188\n"
     ]
    }
   ],
   "source": [
    "generate_model_report(y_test, Y_Test_Pred)"
   ]
  },
  {
   "cell_type": "code",
   "execution_count": 31,
   "metadata": {},
   "outputs": [
    {
     "data": {
      "image/png": "[encoded data removed]",
      "text/plain": [
       "<Figure size 640x480 with 1 Axes>"
      ]
     },
     "metadata": {},
     "output_type": "display_data"
    }
   ],
   "source": [
    "generate_auc_roc_curve(clf, X_test)"
   ]
  },
  {
   "cell_type": "markdown",
   "metadata": {},
   "source": [
    "# UNDERSAMPLING\n",
    "https://github.com/bhattbhavesh91/imbalance_class_sklearn/blob/master/imbalance_class_undersampling_oversampling.ipynb"
   ]
  },
  {
   "cell_type": "code",
   "execution_count": 32,
   "metadata": {},
   "outputs": [
    {
     "name": "stdout",
     "output_type": "stream",
     "text": [
      "775\n"
     ]
    }
   ],
   "source": [
    "minority_class_len = len(df[df['TARGET'] == 1])\n",
    "print(minority_class_len)"
   ]
  },
  {
   "cell_type": "code",
   "execution_count": 33,
   "metadata": {},
   "outputs": [
    {
     "name": "stdout",
     "output_type": "stream",
     "text": [
      "Int64Index([   1,    2,    3,    4,    5,    6,    7,    8,    9,   10,\n",
      "            ...\n",
      "            9990, 9991, 9992, 9993, 9994, 9995, 9996, 9997, 9998, 9999],\n",
      "           dtype='int64', length=9225)\n"
     ]
    }
   ],
   "source": [
    "majority_class_indices = df[df['TARGET'] == 0].index\n",
    "print(majority_class_indices)"
   ]
  },
  {
   "cell_type": "code",
   "execution_count": 37,
   "metadata": {},
   "outputs": [
    {
     "name": "stdout",
     "output_type": "stream",
     "text": [
      "775\n"
     ]
    }
   ],
   "source": [
    "random_majority_indices = np.random.choice(majority_class_indices,\n",
    "                                           minority_class_len, \n",
    "                                           replace=False)\n",
    "print(len(random_majority_indices))"
   ]
  },
  {
   "cell_type": "code",
   "execution_count": 38,
   "metadata": {},
   "outputs": [
    {
     "name": "stdout",
     "output_type": "stream",
     "text": [
      "Int64Index([   0,   26,   40,   42,   81,   94,  110,  138,  154,  163,\n",
      "            ...\n",
      "            9876, 9880, 9920, 9923, 9924, 9925, 9930, 9953, 9965, 9984],\n",
      "           dtype='int64', length=775)\n"
     ]
    }
   ],
   "source": [
    "minority_class_indices = df[df['TARGET'] == 1].index\n",
    "print(minority_class_indices)"
   ]
  },
  {
   "cell_type": "code",
   "execution_count": 39,
   "metadata": {},
   "outputs": [],
   "source": [
    "under_sample_indices = np.concatenate([minority_class_indices,random_majority_indices])"
   ]
  },
  {
   "cell_type": "code",
   "execution_count": 40,
   "metadata": {},
   "outputs": [],
   "source": [
    "under_sample = df.loc[under_sample_indices]"
   ]
  },
  {
   "cell_type": "code",
   "execution_count": 42,
   "metadata": {},
   "outputs": [
    {
     "data": {
      "text/plain": [
       "<AxesSubplot:xlabel='TARGET', ylabel='count'>"
      ]
     },
     "execution_count": 42,
     "metadata": {},
     "output_type": "execute_result"
    },
    {
     "data": {
      "image/png": "[encoded data removed]",
      "text/plain": [
       "<Figure size 640x480 with 1 Axes>"
      ]
     },
     "metadata": {},
     "output_type": "display_data"
    }
   ],
   "source": [
    "sns.countplot(x='TARGET', data=under_sample)"
   ]
  },
  {
   "cell_type": "code",
   "execution_count": 53,
   "metadata": {},
   "outputs": [],
   "source": [
    "X = under_sample.loc[:, df.columns!='TARGET']\n",
    "Y = under_sample.loc[:, df.columns=='TARGET']\n",
    "X_train, X_test, y_train, y_test = train_test_split(X, Y, test_size=0.33, random_state=42)\n",
    "clf = DecisionTreeClassifier().fit(X_train, y_train)\n",
    "Y_Test_Pred = clf.predict(X_test)"
   ]
  },
  {
   "cell_type": "code",
   "execution_count": 54,
   "metadata": {},
   "outputs": [
    {
     "name": "stdout",
     "output_type": "stream",
     "text": [
      "Accuracy =  0.6171875\n",
      "Precision =  0.6091954022988506\n",
      "Recall =  0.6284584980237155\n",
      "F1 Score =  0.6186770428015563\n"
     ]
    }
   ],
   "source": [
    "generate_model_report(y_test, Y_Test_Pred)"
   ]
  },
  {
   "cell_type": "code",
   "execution_count": 55,
   "metadata": {},
   "outputs": [
    {
     "data": {
      "image/png": "[encoded data removed]",
      "text/plain": [
       "<Figure size 640x480 with 1 Axes>"
      ]
     },
     "metadata": {},
     "output_type": "display_data"
    }
   ],
   "source": [
    "generate_auc_roc_curve(clf, X_test)"
   ]
  }
 ],
 "metadata": {
  "kernelspec": {
   "display_name": "Python 3.7.13 ('OCP7')",
   "language": "python",
   "name": "python3"
  },
  "language_info": {
   "codemirror_mode": {
    "name": "ipython",
    "version": 3
   },
   "file_extension": ".py",
   "mimetype": "text/x-python",
   "name": "python",
   "nbconvert_exporter": "python",
   "pygments_lexer": "ipython3",
   "version": "3.7.13"
  },
  "orig_nbformat": 4,
  "vscode": {
   "interpreter": {
    "hash": "4a021ee55297eef2d09131013fb40c2be9107a7aec06b872979238f8fe03dbee"
   }
  }
 },
 "nbformat": 4,
 "nbformat_minor": 2
}
