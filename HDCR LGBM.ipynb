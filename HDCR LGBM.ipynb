{
 "cells": [
  {
   "cell_type": "markdown",
   "metadata": {},
   "source": [
    "A first attempt at getting a working LGBM Model running\n",
    "\n",
    "It works, but the scores are terrible\n",
    "\n",
    "The best model is pickled to 'model/best_LGBM.pkl'"
   ]
  },
  {
   "cell_type": "markdown",
   "metadata": {},
   "source": [
    "# IMPORTS"
   ]
  },
  {
   "cell_type": "code",
   "execution_count": 68,
   "metadata": {},
   "outputs": [],
   "source": [
    "import pandas as pd\n",
    "from sklearn.model_selection import KFold\n",
    "from sklearn.metrics import roc_auc_score, roc_curve\n",
    "import xgboost as xgb\n",
    "from xgboost.sklearn import XGBRegressor\n",
    "import numpy as np\n",
    "from lightgbm import LGBMClassifier\n",
    "import re\n",
    "import gc"
   ]
  },
  {
   "cell_type": "markdown",
   "metadata": {},
   "source": [
    "# READ DATA"
   ]
  },
  {
   "cell_type": "code",
   "execution_count": 69,
   "metadata": {},
   "outputs": [
    {
     "name": "stdout",
     "output_type": "stream",
     "text": [
      "Using saved data\n"
     ]
    },
    {
     "data": {
      "text/plain": [
       "(10000, 798)"
      ]
     },
     "execution_count": 69,
     "metadata": {},
     "output_type": "execute_result"
    }
   ],
   "source": [
    "USE_SAVED_DATA = True\n",
    "\n",
    "if USE_SAVED_DATA:\n",
    "    print ('Using saved data')\n",
    "    df = pd.read_csv('testdata/hdcr10k.csv')\n",
    "else:\n",
    "    print ('Using FULL data')\n",
    "    df = pd.read_csv('../data/cleaned/hcdr_FULL.csv',nrows=10000)\n",
    "    df = df.rename(columns = lambda x:re.sub('[^A-Za-z0-9_]+', '', x))\n",
    "    df.to_csv('testdata/hdcr10k.csv', index=False)\n",
    "df.shape"
   ]
  },
  {
   "cell_type": "code",
   "execution_count": 70,
   "metadata": {},
   "outputs": [
    {
     "name": "stdout",
     "output_type": "stream",
     "text": [
      "2058717\n"
     ]
    }
   ],
   "source": [
    "print (df.isna().sum().sum())"
   ]
  },
  {
   "cell_type": "code",
   "execution_count": 71,
   "metadata": {},
   "outputs": [],
   "source": [
    "# No need to do this with LGBM\n",
    "# df.fillna(0,inplace=True)"
   ]
  },
  {
   "cell_type": "markdown",
   "metadata": {},
   "source": [
    "# X and y"
   ]
  },
  {
   "cell_type": "code",
   "execution_count": 72,
   "metadata": {},
   "outputs": [],
   "source": [
    "X= df.drop('TARGET',axis=1)\n",
    "y= df['TARGET']"
   ]
  },
  {
   "cell_type": "markdown",
   "metadata": {},
   "source": [
    "# SPLIT TEST/TRAIN"
   ]
  },
  {
   "cell_type": "code",
   "execution_count": 73,
   "metadata": {},
   "outputs": [],
   "source": [
    "from sklearn.model_selection import train_test_split\n",
    "from sklearn.preprocessing import StandardScaler\n",
    "\n",
    "X_train, X_test, y_train, y_test = train_test_split(X, y, test_size=0.20, random_state=1234)\n",
    "\n"
   ]
  },
  {
   "cell_type": "markdown",
   "metadata": {},
   "source": [
    "# GRIDSEARCHCV"
   ]
  },
  {
   "cell_type": "code",
   "execution_count": 74,
   "metadata": {},
   "outputs": [
    {
     "name": "stdout",
     "output_type": "stream",
     "text": [
      "Fitting 5 folds for each of 8 candidates, totalling 40 fits\n",
      "[CV 1/5] END colsample_bytree=0.9497036, learning_rate=0.1, max_depth=5, min_child_weight=39.3259775, min_split_gain=0.0222415, n_estimators=100, num_leaves=34, reg_alpha=0.041545473, reg_lambda=0.0735294, subsample=0.8715623;, score=-0.085 total time=   1.1s\n",
      "[CV 2/5] END colsample_bytree=0.9497036, learning_rate=0.1, max_depth=5, min_child_weight=39.3259775, min_split_gain=0.0222415, n_estimators=100, num_leaves=34, reg_alpha=0.041545473, reg_lambda=0.0735294, subsample=0.8715623;, score=-0.108 total time=   1.2s\n",
      "[CV 3/5] END colsample_bytree=0.9497036, learning_rate=0.1, max_depth=5, min_child_weight=39.3259775, min_split_gain=0.0222415, n_estimators=100, num_leaves=34, reg_alpha=0.041545473, reg_lambda=0.0735294, subsample=0.8715623;, score=-0.111 total time=   1.2s\n",
      "[CV 4/5] END colsample_bytree=0.9497036, learning_rate=0.1, max_depth=5, min_child_weight=39.3259775, min_split_gain=0.0222415, n_estimators=100, num_leaves=34, reg_alpha=0.041545473, reg_lambda=0.0735294, subsample=0.8715623;, score=-0.052 total time=   1.2s\n",
      "[CV 5/5] END colsample_bytree=0.9497036, learning_rate=0.1, max_depth=5, min_child_weight=39.3259775, min_split_gain=0.0222415, n_estimators=100, num_leaves=34, reg_alpha=0.041545473, reg_lambda=0.0735294, subsample=0.8715623;, score=-0.095 total time=   1.2s\n",
      "[CV 1/5] END colsample_bytree=0.9497036, learning_rate=0.1, max_depth=5, min_child_weight=39.3259775, min_split_gain=0.0222415, n_estimators=100, num_leaves=40, reg_alpha=0.041545473, reg_lambda=0.0735294, subsample=0.8715623;, score=-0.085 total time=   1.2s\n",
      "[CV 2/5] END colsample_bytree=0.9497036, learning_rate=0.1, max_depth=5, min_child_weight=39.3259775, min_split_gain=0.0222415, n_estimators=100, num_leaves=40, reg_alpha=0.041545473, reg_lambda=0.0735294, subsample=0.8715623;, score=-0.108 total time=   1.3s\n",
      "[CV 3/5] END colsample_bytree=0.9497036, learning_rate=0.1, max_depth=5, min_child_weight=39.3259775, min_split_gain=0.0222415, n_estimators=100, num_leaves=40, reg_alpha=0.041545473, reg_lambda=0.0735294, subsample=0.8715623;, score=-0.111 total time=   1.2s\n",
      "[CV 4/5] END colsample_bytree=0.9497036, learning_rate=0.1, max_depth=5, min_child_weight=39.3259775, min_split_gain=0.0222415, n_estimators=100, num_leaves=40, reg_alpha=0.041545473, reg_lambda=0.0735294, subsample=0.8715623;, score=-0.052 total time=   1.2s\n",
      "[CV 5/5] END colsample_bytree=0.9497036, learning_rate=0.1, max_depth=5, min_child_weight=39.3259775, min_split_gain=0.0222415, n_estimators=100, num_leaves=40, reg_alpha=0.041545473, reg_lambda=0.0735294, subsample=0.8715623;, score=-0.095 total time=   1.2s\n",
      "[CV 1/5] END colsample_bytree=0.9497036, learning_rate=0.1, max_depth=8, min_child_weight=39.3259775, min_split_gain=0.0222415, n_estimators=100, num_leaves=34, reg_alpha=0.041545473, reg_lambda=0.0735294, subsample=0.8715623;, score=-0.093 total time=   1.4s\n",
      "[CV 2/5] END colsample_bytree=0.9497036, learning_rate=0.1, max_depth=8, min_child_weight=39.3259775, min_split_gain=0.0222415, n_estimators=100, num_leaves=34, reg_alpha=0.041545473, reg_lambda=0.0735294, subsample=0.8715623;, score=-0.089 total time=   1.4s\n",
      "[CV 3/5] END colsample_bytree=0.9497036, learning_rate=0.1, max_depth=8, min_child_weight=39.3259775, min_split_gain=0.0222415, n_estimators=100, num_leaves=34, reg_alpha=0.041545473, reg_lambda=0.0735294, subsample=0.8715623;, score=-0.137 total time=   1.4s\n",
      "[CV 4/5] END colsample_bytree=0.9497036, learning_rate=0.1, max_depth=8, min_child_weight=39.3259775, min_split_gain=0.0222415, n_estimators=100, num_leaves=34, reg_alpha=0.041545473, reg_lambda=0.0735294, subsample=0.8715623;, score=-0.069 total time=   1.4s\n",
      "[CV 5/5] END colsample_bytree=0.9497036, learning_rate=0.1, max_depth=8, min_child_weight=39.3259775, min_split_gain=0.0222415, n_estimators=100, num_leaves=34, reg_alpha=0.041545473, reg_lambda=0.0735294, subsample=0.8715623;, score=-0.121 total time=   1.4s\n",
      "[CV 1/5] END colsample_bytree=0.9497036, learning_rate=0.1, max_depth=8, min_child_weight=39.3259775, min_split_gain=0.0222415, n_estimators=100, num_leaves=40, reg_alpha=0.041545473, reg_lambda=0.0735294, subsample=0.8715623;, score=-0.093 total time=   1.4s\n",
      "[CV 2/5] END colsample_bytree=0.9497036, learning_rate=0.1, max_depth=8, min_child_weight=39.3259775, min_split_gain=0.0222415, n_estimators=100, num_leaves=40, reg_alpha=0.041545473, reg_lambda=0.0735294, subsample=0.8715623;, score=-0.089 total time=   1.5s\n",
      "[CV 3/5] END colsample_bytree=0.9497036, learning_rate=0.1, max_depth=8, min_child_weight=39.3259775, min_split_gain=0.0222415, n_estimators=100, num_leaves=40, reg_alpha=0.041545473, reg_lambda=0.0735294, subsample=0.8715623;, score=-0.137 total time=   1.5s\n",
      "[CV 4/5] END colsample_bytree=0.9497036, learning_rate=0.1, max_depth=8, min_child_weight=39.3259775, min_split_gain=0.0222415, n_estimators=100, num_leaves=40, reg_alpha=0.041545473, reg_lambda=0.0735294, subsample=0.8715623;, score=-0.069 total time=   1.5s\n",
      "[CV 5/5] END colsample_bytree=0.9497036, learning_rate=0.1, max_depth=8, min_child_weight=39.3259775, min_split_gain=0.0222415, n_estimators=100, num_leaves=40, reg_alpha=0.041545473, reg_lambda=0.0735294, subsample=0.8715623;, score=-0.121 total time=   1.4s\n",
      "[CV 1/5] END colsample_bytree=0.9497036, learning_rate=0.02, max_depth=5, min_child_weight=39.3259775, min_split_gain=0.0222415, n_estimators=100, num_leaves=34, reg_alpha=0.041545473, reg_lambda=0.0735294, subsample=0.8715623;, score=-0.093 total time=   1.3s\n",
      "[CV 2/5] END colsample_bytree=0.9497036, learning_rate=0.02, max_depth=5, min_child_weight=39.3259775, min_split_gain=0.0222415, n_estimators=100, num_leaves=34, reg_alpha=0.041545473, reg_lambda=0.0735294, subsample=0.8715623;, score=-0.080 total time=   1.4s\n",
      "[CV 3/5] END colsample_bytree=0.9497036, learning_rate=0.02, max_depth=5, min_child_weight=39.3259775, min_split_gain=0.0222415, n_estimators=100, num_leaves=34, reg_alpha=0.041545473, reg_lambda=0.0735294, subsample=0.8715623;, score=-0.085 total time=   1.4s\n",
      "[CV 4/5] END colsample_bytree=0.9497036, learning_rate=0.02, max_depth=5, min_child_weight=39.3259775, min_split_gain=0.0222415, n_estimators=100, num_leaves=34, reg_alpha=0.041545473, reg_lambda=0.0735294, subsample=0.8715623;, score=-0.086 total time=   1.4s\n",
      "[CV 5/5] END colsample_bytree=0.9497036, learning_rate=0.02, max_depth=5, min_child_weight=39.3259775, min_split_gain=0.0222415, n_estimators=100, num_leaves=34, reg_alpha=0.041545473, reg_lambda=0.0735294, subsample=0.8715623;, score=-0.087 total time=   1.4s\n",
      "[CV 1/5] END colsample_bytree=0.9497036, learning_rate=0.02, max_depth=5, min_child_weight=39.3259775, min_split_gain=0.0222415, n_estimators=100, num_leaves=40, reg_alpha=0.041545473, reg_lambda=0.0735294, subsample=0.8715623;, score=-0.093 total time=   1.4s\n",
      "[CV 2/5] END colsample_bytree=0.9497036, learning_rate=0.02, max_depth=5, min_child_weight=39.3259775, min_split_gain=0.0222415, n_estimators=100, num_leaves=40, reg_alpha=0.041545473, reg_lambda=0.0735294, subsample=0.8715623;, score=-0.080 total time=   1.5s\n",
      "[CV 3/5] END colsample_bytree=0.9497036, learning_rate=0.02, max_depth=5, min_child_weight=39.3259775, min_split_gain=0.0222415, n_estimators=100, num_leaves=40, reg_alpha=0.041545473, reg_lambda=0.0735294, subsample=0.8715623;, score=-0.085 total time=   1.4s\n",
      "[CV 4/5] END colsample_bytree=0.9497036, learning_rate=0.02, max_depth=5, min_child_weight=39.3259775, min_split_gain=0.0222415, n_estimators=100, num_leaves=40, reg_alpha=0.041545473, reg_lambda=0.0735294, subsample=0.8715623;, score=-0.086 total time=   1.4s\n",
      "[CV 5/5] END colsample_bytree=0.9497036, learning_rate=0.02, max_depth=5, min_child_weight=39.3259775, min_split_gain=0.0222415, n_estimators=100, num_leaves=40, reg_alpha=0.041545473, reg_lambda=0.0735294, subsample=0.8715623;, score=-0.087 total time=   1.4s\n",
      "[CV 1/5] END colsample_bytree=0.9497036, learning_rate=0.02, max_depth=8, min_child_weight=39.3259775, min_split_gain=0.0222415, n_estimators=100, num_leaves=34, reg_alpha=0.041545473, reg_lambda=0.0735294, subsample=0.8715623;, score=-0.093 total time=   1.6s\n",
      "[CV 2/5] END colsample_bytree=0.9497036, learning_rate=0.02, max_depth=8, min_child_weight=39.3259775, min_split_gain=0.0222415, n_estimators=100, num_leaves=34, reg_alpha=0.041545473, reg_lambda=0.0735294, subsample=0.8715623;, score=-0.080 total time=   1.6s\n",
      "[CV 3/5] END colsample_bytree=0.9497036, learning_rate=0.02, max_depth=8, min_child_weight=39.3259775, min_split_gain=0.0222415, n_estimators=100, num_leaves=34, reg_alpha=0.041545473, reg_lambda=0.0735294, subsample=0.8715623;, score=-0.085 total time=   1.6s\n",
      "[CV 4/5] END colsample_bytree=0.9497036, learning_rate=0.02, max_depth=8, min_child_weight=39.3259775, min_split_gain=0.0222415, n_estimators=100, num_leaves=34, reg_alpha=0.041545473, reg_lambda=0.0735294, subsample=0.8715623;, score=-0.086 total time=   1.5s\n",
      "[CV 5/5] END colsample_bytree=0.9497036, learning_rate=0.02, max_depth=8, min_child_weight=39.3259775, min_split_gain=0.0222415, n_estimators=100, num_leaves=34, reg_alpha=0.041545473, reg_lambda=0.0735294, subsample=0.8715623;, score=-0.087 total time=   1.5s\n",
      "[CV 1/5] END colsample_bytree=0.9497036, learning_rate=0.02, max_depth=8, min_child_weight=39.3259775, min_split_gain=0.0222415, n_estimators=100, num_leaves=40, reg_alpha=0.041545473, reg_lambda=0.0735294, subsample=0.8715623;, score=-0.093 total time=   1.5s\n",
      "[CV 2/5] END colsample_bytree=0.9497036, learning_rate=0.02, max_depth=8, min_child_weight=39.3259775, min_split_gain=0.0222415, n_estimators=100, num_leaves=40, reg_alpha=0.041545473, reg_lambda=0.0735294, subsample=0.8715623;, score=-0.080 total time=   1.6s\n",
      "[CV 3/5] END colsample_bytree=0.9497036, learning_rate=0.02, max_depth=8, min_child_weight=39.3259775, min_split_gain=0.0222415, n_estimators=100, num_leaves=40, reg_alpha=0.041545473, reg_lambda=0.0735294, subsample=0.8715623;, score=-0.085 total time=   1.6s\n",
      "[CV 4/5] END colsample_bytree=0.9497036, learning_rate=0.02, max_depth=8, min_child_weight=39.3259775, min_split_gain=0.0222415, n_estimators=100, num_leaves=40, reg_alpha=0.041545473, reg_lambda=0.0735294, subsample=0.8715623;, score=-0.086 total time=   1.6s\n",
      "[CV 5/5] END colsample_bytree=0.9497036, learning_rate=0.02, max_depth=8, min_child_weight=39.3259775, min_split_gain=0.0222415, n_estimators=100, num_leaves=40, reg_alpha=0.041545473, reg_lambda=0.0735294, subsample=0.8715623;, score=-0.087 total time=   1.5s\n"
     ]
    },
    {
     "data": {
      "text/plain": [
       "GridSearchCV(cv=KFold(n_splits=5, random_state=1001, shuffle=True),\n",
       "             estimator=LGBMClassifier(random_state=0),\n",
       "             param_grid={'colsample_bytree': [0.9497036],\n",
       "                         'learning_rate': [0.1, 0.02], 'max_depth': [5, 8],\n",
       "                         'min_child_weight': [39.3259775],\n",
       "                         'min_split_gain': [0.0222415], 'n_estimators': [100],\n",
       "                         'num_leaves': [34, 40], 'reg_alpha': [0.041545473],\n",
       "                         'reg_lambda': [0.0735294], 'subsample': [0.8715623]},\n",
       "             scoring='r2', verbose=3)"
      ]
     },
     "execution_count": 74,
     "metadata": {},
     "output_type": "execute_result"
    }
   ],
   "source": [
    "from sklearn.model_selection import GridSearchCV\n",
    "\n",
    "folds = KFold(n_splits= 5, shuffle=True, random_state=1001)\n",
    "\n",
    "params = {\n",
    "    'n_estimators': [100],\n",
    "    'learning_rate':[0.1,0.02],\n",
    "    'num_leaves':[34,40],\n",
    "    'colsample_bytree':[0.9497036],\n",
    "    'subsample':[0.8715623],\n",
    "    'max_depth':[5, 8],\n",
    "    'reg_alpha':[0.041545473],\n",
    "    'reg_lambda':[0.0735294],\n",
    "    'min_split_gain':[0.0222415],\n",
    "    'min_child_weight':[39.3259775],\n",
    "}\n",
    "\n",
    "grid = GridSearchCV(LGBMClassifier(random_state=0), params, scoring='r2', cv=folds, verbose=3)\n",
    "grid.fit(X_train, y_train)"
   ]
  },
  {
   "cell_type": "markdown",
   "metadata": {},
   "source": [
    "# RESULTS"
   ]
  },
  {
   "cell_type": "code",
   "execution_count": 75,
   "metadata": {},
   "outputs": [
    {
     "name": "stdout",
     "output_type": "stream",
     "text": [
      "-0.08623363498400397\n",
      "LGBMClassifier(colsample_bytree=0.9497036, learning_rate=0.02, max_depth=5,\n",
      "               min_child_weight=39.3259775, min_split_gain=0.0222415,\n",
      "               num_leaves=34, random_state=0, reg_alpha=0.041545473,\n",
      "               reg_lambda=0.0735294, subsample=0.8715623)\n",
      "{'colsample_bytree': 0.9497036, 'learning_rate': 0.02, 'max_depth': 5, 'min_child_weight': 39.3259775, 'min_split_gain': 0.0222415, 'n_estimators': 100, 'num_leaves': 34, 'reg_alpha': 0.041545473, 'reg_lambda': 0.0735294, 'subsample': 0.8715623}\n"
     ]
    }
   ],
   "source": [
    "print (grid.best_score_)\n",
    "print(grid.best_estimator_)\n",
    "print(grid.best_params_)"
   ]
  },
  {
   "cell_type": "markdown",
   "metadata": {},
   "source": [
    "# EXTRACT BEST MODEL"
   ]
  },
  {
   "cell_type": "code",
   "execution_count": 76,
   "metadata": {},
   "outputs": [
    {
     "name": "stdout",
     "output_type": "stream",
     "text": [
      "R2 score: -0.07526881720430123\n"
     ]
    }
   ],
   "source": [
    "from sklearn.metrics import r2_score\n",
    "\n",
    "best_model = grid.best_estimator_\n",
    "\n",
    "best_model.fit(X_train, y_train)\n",
    "y_predict = best_model.predict(X_test)\n",
    "print (\"R2 score:\",r2_score(y_test,y_predict))"
   ]
  },
  {
   "cell_type": "markdown",
   "metadata": {},
   "source": [
    "# SAVE MODEL"
   ]
  },
  {
   "cell_type": "code",
   "execution_count": 77,
   "metadata": {},
   "outputs": [
    {
     "data": {
      "text/plain": [
       "['model/best_LGBM.pkl']"
      ]
     },
     "execution_count": 77,
     "metadata": {},
     "output_type": "execute_result"
    }
   ],
   "source": [
    "import joblib\n",
    "\n",
    "joblib.dump(best_model, 'model/best_LGBM.pkl')"
   ]
  }
 ],
 "metadata": {
  "kernelspec": {
   "display_name": "Python 3.7.13 ('OCP7')",
   "language": "python",
   "name": "python3"
  },
  "language_info": {
   "codemirror_mode": {
    "name": "ipython",
    "version": 3
   },
   "file_extension": ".py",
   "mimetype": "text/x-python",
   "name": "python",
   "nbconvert_exporter": "python",
   "pygments_lexer": "ipython3",
   "version": "3.7.13"
  },
  "orig_nbformat": 4,
  "vscode": {
   "interpreter": {
    "hash": "4a021ee55297eef2d09131013fb40c2be9107a7aec06b872979238f8fe03dbee"
   }
  }
 },
 "nbformat": 4,
 "nbformat_minor": 2
}
