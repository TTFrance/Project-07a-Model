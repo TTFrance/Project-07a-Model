{
 "cells": [
  {
   "cell_type": "markdown",
   "metadata": {},
   "source": [
    "# XGBClassifier"
   ]
  },
  {
   "cell_type": "code",
   "execution_count": 1,
   "metadata": {},
   "outputs": [],
   "source": [
    "import pandas as pd\n",
    "import numpy as np\n",
    "\n",
    "from sklearn.impute import SimpleImputer\n",
    "\n",
    "from sklearn.metrics import roc_auc_score\n",
    "from sklearn.metrics import classification_report, confusion_matrix\n",
    "\n",
    "from sklearn.model_selection import KFold\n",
    "from sklearn.model_selection import GridSearchCV\n",
    "from sklearn.model_selection import train_test_split\n",
    "\n",
    "from sklearn.preprocessing import LabelEncoder\n",
    "from sklearn.preprocessing import MinMaxScaler, StandardScaler\n",
    "\n",
    "import xgboost as xgb\n",
    "from xgboost.sklearn import XGBClassifier\n",
    "\n",
    "from imblearn.over_sampling import SMOTE\n",
    "\n",
    "import re\n",
    "import gc\n",
    "import joblib\n",
    "import warnings\n",
    "warnings.filterwarnings(\"ignore\")"
   ]
  },
  {
   "cell_type": "code",
   "execution_count": 2,
   "metadata": {},
   "outputs": [],
   "source": [
    "def read_and_prepare_data(use_sample_data = True, max_empty_allowed=0.5):\n",
    "    if use_sample_data:\n",
    "        print ('Using sample data')\n",
    "        df = pd.read_csv('testdata/hdcr10k.csv')\n",
    "    else:\n",
    "        print ('Using FULL data')\n",
    "        # df = pd.read_csv('../data/cleaned/hcdr_FULL.csv',nrows=10000)\n",
    "        df = pd.read_csv('../data/cleaned/hcdr_FULL.csv')\n",
    "\n",
    "    df = df.drop(columns=['SK_ID_CURR'])\n",
    "\n",
    "    df = df.rename(columns = lambda x:re.sub('[^A-Za-z0-9_]+', '', x))\n",
    "    df = df[~df.TARGET.isna()]\n",
    "    df.TARGET.value_counts(dropna=False)\n",
    "\n",
    "    num_rows = df.shape[0]\n",
    "\n",
    "    # ELIMINATE COLUMNS IF PERCENTAGE EMPTY OVER n%\n",
    "    lst_cols_to_delete = []\n",
    "    num_rows = df.shape[0]\n",
    "    num_columns = df.shape[1]\n",
    "    for column in df.columns:\n",
    "        if df[column].isna().sum()/num_rows > max_empty_allowed:\n",
    "            lst_cols_to_delete.append(column)\n",
    "    num_cols_to_drop = len(lst_cols_to_delete)\n",
    "    num_cols_to_keep = num_columns - num_cols_to_drop\n",
    "    print ('COLS TO DROP:',num_cols_to_drop)\n",
    "    print ('COLS TO KEEP:',num_cols_to_keep)\n",
    "    df = df.drop(columns=lst_cols_to_delete)\n",
    "\n",
    "    lst_empty_cols = []\n",
    "    for column in df.columns:\n",
    "        if df[column].isnull().sum() == num_rows:\n",
    "            lst_empty_cols.append(column)\n",
    "    df = df.drop(columns = lst_empty_cols)\n",
    "\n",
    "    if df.isna().sum().sum() > 0:\n",
    "        df.replace([np.inf, -np.inf], np.nan, inplace=True)\n",
    "        imputer = SimpleImputer(missing_values=np.nan, strategy = 'median')\n",
    "        df=pd.DataFrame(imputer.fit_transform(df), columns=df.columns, index=df.index)\n",
    "\n",
    "        # Scale the features\n",
    "        scaler = MinMaxScaler(feature_range = (0, 1))\n",
    "        #df=pd.DataFrame(scaler.fit_transform(df), columns=df.columns, index=df.index)\n",
    "\n",
    "    return df\n",
    "    \n",
    "def get_Xy(df,target_column):\n",
    "    X= df.drop(target_column,axis=1)\n",
    "    y= df[target_column]\n",
    "    return X, y"
   ]
  },
  {
   "cell_type": "markdown",
   "metadata": {},
   "source": [
    "## With all columns"
   ]
  },
  {
   "cell_type": "code",
   "execution_count": 3,
   "metadata": {},
   "outputs": [
    {
     "name": "stdout",
     "output_type": "stream",
     "text": [
      "Using sample data\n",
      "COLS TO DROP: 560\n",
      "COLS TO KEEP: 206\n"
     ]
    },
    {
     "data": {
      "text/plain": [
       "(10000, 206)"
      ]
     },
     "execution_count": 3,
     "metadata": {},
     "output_type": "execute_result"
    }
   ],
   "source": [
    "df = read_and_prepare_data(use_sample_data = True, max_empty_allowed=0.5)\n",
    "X, y = get_Xy(df,'TARGET')\n",
    "df.shape"
   ]
  },
  {
   "cell_type": "code",
   "execution_count": 8,
   "metadata": {},
   "outputs": [
    {
     "name": "stdout",
     "output_type": "stream",
     "text": [
      "Using sample data\n",
      "COLS TO DROP: 560\n",
      "COLS TO KEEP: 206\n"
     ]
    },
    {
     "data": {
      "text/plain": [
       "(10000, 206)"
      ]
     },
     "execution_count": 8,
     "metadata": {},
     "output_type": "execute_result"
    }
   ],
   "source": [
    "import pickle \n",
    "\n",
    "with open('top_features_shap.pkl', 'rb') as fp:\n",
    "    top_features_shap = pickle.load(fp)\n",
    "\n",
    "df = read_and_prepare_data(use_sample_data = True, max_empty_allowed=0.5)\n",
    "df.shape"
   ]
  },
  {
   "cell_type": "code",
   "execution_count": 9,
   "metadata": {},
   "outputs": [
    {
     "name": "stdout",
     "output_type": "stream",
     "text": [
      "Fitting 5 folds for each of 1 candidates, totalling 5 fits\n",
      "[CV 1/5] END ..................................., score=0.749 total time=   2.1s\n",
      "[CV 2/5] END ..................................., score=0.705 total time=   1.7s\n",
      "[CV 3/5] END ..................................., score=0.717 total time=   2.0s\n",
      "[CV 4/5] END ..................................., score=0.692 total time=   1.6s\n",
      "[CV 5/5] END ..................................., score=0.684 total time=   1.6s\n",
      "AUC: 0.5224297504250984\n",
      "Actual     0.0  1.0\n",
      "Predicted          \n",
      "0          841   65\n",
      "1           10    2\n"
     ]
    }
   ],
   "source": [
    "model = XGBClassifier()\n",
    "X, y = get_Xy(df,'TARGET')\n",
    "X_train, X_test, y_train, y_test = train_test_split(X, y, test_size=0.30, random_state=1234)\n",
    "params = {}\n",
    "folds = KFold(n_splits= 5, shuffle=True, random_state=1001)\n",
    "grid = GridSearchCV(model, params, scoring='roc_auc', cv=folds, verbose=3)\n",
    "grid.fit(X_train, y_train)\n",
    "best_model = grid.best_estimator_\n",
    "best_params = grid.best_params_\n",
    "grid_score = grid.best_score_\n",
    "best_model.fit(X_train, y_train)\n",
    "y_predict = best_model.predict(X_test)\n",
    "auc_score = roc_auc_score(y_test,y_predict)\n",
    "print('AUC:',auc_score)\n",
    "print(pd.crosstab(pd.Series(y_predict, name='Predicted'), pd.Series(y_test, name='Actual')))\n"
   ]
  },
  {
   "cell_type": "markdown",
   "metadata": {},
   "source": [
    "## With only top 30 features from SHAP"
   ]
  },
  {
   "cell_type": "code",
   "execution_count": 10,
   "metadata": {},
   "outputs": [
    {
     "name": "stdout",
     "output_type": "stream",
     "text": [
      "Using sample data\n",
      "COLS TO DROP: 560\n",
      "COLS TO KEEP: 206\n",
      "(10000, 51)\n"
     ]
    }
   ],
   "source": [
    "df = read_and_prepare_data(use_sample_data = True, max_empty_allowed=0.5)\n",
    "df = df[top_features_shap]\n",
    "print (df.shape)"
   ]
  },
  {
   "cell_type": "code",
   "execution_count": 11,
   "metadata": {},
   "outputs": [
    {
     "name": "stdout",
     "output_type": "stream",
     "text": [
      "Fitting 5 folds for each of 1 candidates, totalling 5 fits\n",
      "[CV 1/5] END ..................................., score=0.754 total time=   0.7s\n",
      "[CV 2/5] END ..................................., score=0.714 total time=   0.6s\n",
      "[CV 3/5] END ..................................., score=0.695 total time=   0.6s\n",
      "[CV 4/5] END ..................................., score=0.714 total time=   0.6s\n",
      "[CV 5/5] END ..................................., score=0.697 total time=   0.6s\n",
      "AUC: 0.5153382112616794\n",
      "Actual     0.0  1.0\n",
      "Predicted          \n",
      "0          840   66\n",
      "1           11    1\n"
     ]
    }
   ],
   "source": [
    "model = XGBClassifier()\n",
    "X, y = get_Xy(df,'TARGET')\n",
    "X_train, X_test, y_train, y_test = train_test_split(X, y, test_size=0.30, random_state=1234)\n",
    "params = {}\n",
    "folds = KFold(n_splits= 5, shuffle=True, random_state=1001)\n",
    "grid = GridSearchCV(model, params, scoring='roc_auc', cv=folds, verbose=3)\n",
    "grid.fit(X_train, y_train)\n",
    "best_model = grid.best_estimator_\n",
    "best_params = grid.best_params_\n",
    "grid_score = grid.best_score_\n",
    "best_model.fit(X_train, y_train)\n",
    "y_predict = best_model.predict(X_test)\n",
    "auc_score = roc_auc_score(y_test,y_predict)\n",
    "print('AUC:',auc_score)\n",
    "print(pd.crosstab(pd.Series(y_predict, name='Predicted'), pd.Series(y_test, name='Actual')))\n"
   ]
  }
 ],
 "metadata": {
  "kernelspec": {
   "display_name": "Python 3.7.13 ('OCP7')",
   "language": "python",
   "name": "python3"
  },
  "language_info": {
   "codemirror_mode": {
    "name": "ipython",
    "version": 3
   },
   "file_extension": ".py",
   "mimetype": "text/x-python",
   "name": "python",
   "nbconvert_exporter": "python",
   "pygments_lexer": "ipython3",
   "version": "3.7.13"
  },
  "orig_nbformat": 4,
  "vscode": {
   "interpreter": {
    "hash": "4a021ee55297eef2d09131013fb40c2be9107a7aec06b872979238f8fe03dbee"
   }
  }
 },
 "nbformat": 4,
 "nbformat_minor": 2
}
