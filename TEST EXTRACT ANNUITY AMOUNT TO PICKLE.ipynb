{
 "cells": [
  {
   "cell_type": "code",
   "execution_count": 1,
   "metadata": {},
   "outputs": [],
   "source": [
    "import joblib\n",
    "from lightgbm import LGBMClassifier\n",
    "import numpy as np\n",
    "import pandas as pd\n",
    "import pickle\n",
    "import random\n",
    "import matplotlib.pyplot as plt\n",
    "\n",
    "from sklearn.metrics import confusion_matrix\n",
    "from sklearn.model_selection import train_test_split"
   ]
  },
  {
   "cell_type": "code",
   "execution_count": 2,
   "metadata": {},
   "outputs": [],
   "source": [
    "# load the model\n",
    "model = joblib.load('model/best_LGB_10k_Undersampled_BestParams.pkl')\n",
    "\n",
    "#load the X_train dataframe\n",
    "df = pd.read_pickle('../data/cleaned/client_data_api_dashboard.pkl')\n",
    "\n",
    "# load full data\n",
    "full_data = pd.read_csv('../data/raw/application_train.csv')"
   ]
  },
  {
   "cell_type": "code",
   "execution_count": 3,
   "metadata": {},
   "outputs": [],
   "source": [
    "# extract AMT_ANNUITY from full_data, save as csv\n",
    "\n",
    "df_AMT_ANNUITY = full_data[['SK_ID_CURR','AMT_ANNUITY']].set_index('SK_ID_CURR')\n",
    "df_AMT_ANNUITY\n",
    "\n",
    "# join\n",
    "df = df.join(df_AMT_ANNUITY)\n",
    "\n",
    "\n",
    "#df_AMT_ANNUITY.to_pickle('../data/cleaned/df_amt_annuity.pkl')"
   ]
  },
  {
   "cell_type": "code",
   "execution_count": 5,
   "metadata": {},
   "outputs": [
    {
     "data": {
      "text/plain": [
       "12"
      ]
     },
     "execution_count": 5,
     "metadata": {},
     "output_type": "execute_result"
    }
   ],
   "source": [
    "df.AMT_ANNUITY.isna().sum()"
   ]
  },
  {
   "cell_type": "code",
   "execution_count": 6,
   "metadata": {},
   "outputs": [],
   "source": [
    "df.AMT_ANNUITY = df.AMT_ANNUITY.fillna((df.AMT_ANNUITY/df.AMT_CREDIT).mean())"
   ]
  },
  {
   "cell_type": "code",
   "execution_count": 7,
   "metadata": {},
   "outputs": [
    {
     "data": {
      "text/plain": [
       "0"
      ]
     },
     "execution_count": 7,
     "metadata": {},
     "output_type": "execute_result"
    }
   ],
   "source": [
    "df.AMT_ANNUITY.isna().sum()"
   ]
  },
  {
   "cell_type": "code",
   "execution_count": 8,
   "metadata": {},
   "outputs": [],
   "source": [
    "df_AMT_ANNUITY = df[['AMT_ANNUITY']]\n",
    "df_AMT_ANNUITY.to_pickle('../data/cleaned/df_amt_annuity.pkl')"
   ]
  }
 ],
 "metadata": {
  "kernelspec": {
   "display_name": "Python 3.7.13 ('OCP7')",
   "language": "python",
   "name": "python3"
  },
  "language_info": {
   "codemirror_mode": {
    "name": "ipython",
    "version": 3
   },
   "file_extension": ".py",
   "mimetype": "text/x-python",
   "name": "python",
   "nbconvert_exporter": "python",
   "pygments_lexer": "ipython3",
   "version": "3.7.13"
  },
  "orig_nbformat": 4,
  "vscode": {
   "interpreter": {
    "hash": "4a021ee55297eef2d09131013fb40c2be9107a7aec06b872979238f8fe03dbee"
   }
  }
 },
 "nbformat": 4,
 "nbformat_minor": 2
}
