{
 "cells": [
  {
   "cell_type": "code",
   "execution_count": 27,
   "metadata": {},
   "outputs": [],
   "source": [
    "import random\n",
    "import pandas as pd\n",
    "import numpy as np\n",
    "import matplotlib.pyplot as plt\n",
    "\n",
    "from sklearn.metrics import confusion_matrix"
   ]
  },
  {
   "cell_type": "markdown",
   "metadata": {},
   "source": [
    "# 1"
   ]
  },
  {
   "cell_type": "code",
   "execution_count": 42,
   "metadata": {},
   "outputs": [],
   "source": [
    "N_SAMPLES = 4000\n",
    "N_THRESHOLDS = 40\n",
    "CLASS_1_RATIO = 0.08\n",
    "\n",
    "y_true = np.array([\n",
    "    int(random.random()<=CLASS_1_RATIO)\n",
    "    for i in range(N_SAMPLES)\n",
    "])\n",
    "y_pred = np.array([\n",
    "    # formula to fake a not so bad prediction\n",
    "    random.triangular(0,1, 0.6 if y_true[i] else 0.2)\n",
    "    for i in range(N_SAMPLES)\n",
    "])\n",
    "\n",
    "THRESHOLDS = [ i/float(N_THRESHOLDS) for i in range(N_THRESHOLDS+1) ]"
   ]
  },
  {
   "cell_type": "code",
   "execution_count": 43,
   "metadata": {},
   "outputs": [
    {
     "data": {
      "text/plain": [
       "array([0.24632202, 0.54998209, 0.75020374, ..., 0.47043696, 0.3460448 ,\n",
       "       0.93099252])"
      ]
     },
     "execution_count": 43,
     "metadata": {},
     "output_type": "execute_result"
    }
   ],
   "source": [
    "y_pred"
   ]
  },
  {
   "cell_type": "markdown",
   "metadata": {},
   "source": [
    "# 2"
   ]
  },
  {
   "cell_type": "code",
   "execution_count": 37,
   "metadata": {},
   "outputs": [
    {
     "name": "stdout",
     "output_type": "stream",
     "text": [
      "Confusion matrix at 50%:\n",
      " [[2517 1130]\n",
      " [ 151  202]]\n"
     ]
    }
   ],
   "source": [
    "def cm(y_true, y_pred, threshold =0.5):\n",
    "    return confusion_matrix(\n",
    "        y_true,\n",
    "        y_pred>=threshold\n",
    "    )\n",
    "def confusion_curve(y_true, y_pred):\n",
    "    return [\n",
    "        cm(y_true, y_pred, thr).flatten()\n",
    "        for thr in THRESHOLDS\n",
    "    ]\n",
    "\n",
    "print(\"Confusion matrix at 50%:\\n\", cm(y_true, y_pred))"
   ]
  },
  {
   "cell_type": "markdown",
   "metadata": {},
   "source": [
    "# 3"
   ]
  },
  {
   "cell_type": "code",
   "execution_count": 38,
   "metadata": {},
   "outputs": [],
   "source": [
    "CURVES = pd.DataFrame(\n",
    "    confusion_curve(y_true, y_pred),\n",
    "    columns = [ 'TN', 'FP', 'FN', 'TP', ]\n",
    ") / N_SAMPLES  # Normalized per sample\n",
    "\n",
    "CURVES['threshold'] = THRESHOLDS"
   ]
  },
  {
   "cell_type": "code",
   "execution_count": 39,
   "metadata": {},
   "outputs": [
    {
     "data": {
      "text/html": [
       "<div>\n",
       "<style scoped>\n",
       "    .dataframe tbody tr th:only-of-type {\n",
       "        vertical-align: middle;\n",
       "    }\n",
       "\n",
       "    .dataframe tbody tr th {\n",
       "        vertical-align: top;\n",
       "    }\n",
       "\n",
       "    .dataframe thead th {\n",
       "        text-align: right;\n",
       "    }\n",
       "</style>\n",
       "<table border=\"1\" class=\"dataframe\">\n",
       "  <thead>\n",
       "    <tr style=\"text-align: right;\">\n",
       "      <th></th>\n",
       "      <th>TN</th>\n",
       "      <th>FP</th>\n",
       "      <th>FN</th>\n",
       "      <th>TP</th>\n",
       "      <th>threshold</th>\n",
       "    </tr>\n",
       "  </thead>\n",
       "  <tbody>\n",
       "    <tr>\n",
       "      <th>0</th>\n",
       "      <td>0.00000</td>\n",
       "      <td>0.91175</td>\n",
       "      <td>0.00000</td>\n",
       "      <td>0.08825</td>\n",
       "      <td>0.00</td>\n",
       "    </tr>\n",
       "    <tr>\n",
       "      <th>1</th>\n",
       "      <td>0.00000</td>\n",
       "      <td>0.91175</td>\n",
       "      <td>0.00025</td>\n",
       "      <td>0.08800</td>\n",
       "      <td>0.01</td>\n",
       "    </tr>\n",
       "    <tr>\n",
       "      <th>2</th>\n",
       "      <td>0.00150</td>\n",
       "      <td>0.91025</td>\n",
       "      <td>0.00025</td>\n",
       "      <td>0.08800</td>\n",
       "      <td>0.02</td>\n",
       "    </tr>\n",
       "    <tr>\n",
       "      <th>3</th>\n",
       "      <td>0.00475</td>\n",
       "      <td>0.90700</td>\n",
       "      <td>0.00025</td>\n",
       "      <td>0.08800</td>\n",
       "      <td>0.03</td>\n",
       "    </tr>\n",
       "    <tr>\n",
       "      <th>4</th>\n",
       "      <td>0.00800</td>\n",
       "      <td>0.90375</td>\n",
       "      <td>0.00050</td>\n",
       "      <td>0.08775</td>\n",
       "      <td>0.04</td>\n",
       "    </tr>\n",
       "    <tr>\n",
       "      <th>...</th>\n",
       "      <td>...</td>\n",
       "      <td>...</td>\n",
       "      <td>...</td>\n",
       "      <td>...</td>\n",
       "      <td>...</td>\n",
       "    </tr>\n",
       "    <tr>\n",
       "      <th>96</th>\n",
       "      <td>0.90975</td>\n",
       "      <td>0.00200</td>\n",
       "      <td>0.08825</td>\n",
       "      <td>0.00000</td>\n",
       "      <td>0.96</td>\n",
       "    </tr>\n",
       "    <tr>\n",
       "      <th>97</th>\n",
       "      <td>0.91075</td>\n",
       "      <td>0.00100</td>\n",
       "      <td>0.08825</td>\n",
       "      <td>0.00000</td>\n",
       "      <td>0.97</td>\n",
       "    </tr>\n",
       "    <tr>\n",
       "      <th>98</th>\n",
       "      <td>0.91125</td>\n",
       "      <td>0.00050</td>\n",
       "      <td>0.08825</td>\n",
       "      <td>0.00000</td>\n",
       "      <td>0.98</td>\n",
       "    </tr>\n",
       "    <tr>\n",
       "      <th>99</th>\n",
       "      <td>0.91150</td>\n",
       "      <td>0.00025</td>\n",
       "      <td>0.08825</td>\n",
       "      <td>0.00000</td>\n",
       "      <td>0.99</td>\n",
       "    </tr>\n",
       "    <tr>\n",
       "      <th>100</th>\n",
       "      <td>0.91175</td>\n",
       "      <td>0.00000</td>\n",
       "      <td>0.08825</td>\n",
       "      <td>0.00000</td>\n",
       "      <td>1.00</td>\n",
       "    </tr>\n",
       "  </tbody>\n",
       "</table>\n",
       "<p>101 rows × 5 columns</p>\n",
       "</div>"
      ],
      "text/plain": [
       "          TN       FP       FN       TP  threshold\n",
       "0    0.00000  0.91175  0.00000  0.08825       0.00\n",
       "1    0.00000  0.91175  0.00025  0.08800       0.01\n",
       "2    0.00150  0.91025  0.00025  0.08800       0.02\n",
       "3    0.00475  0.90700  0.00025  0.08800       0.03\n",
       "4    0.00800  0.90375  0.00050  0.08775       0.04\n",
       "..       ...      ...      ...      ...        ...\n",
       "96   0.90975  0.00200  0.08825  0.00000       0.96\n",
       "97   0.91075  0.00100  0.08825  0.00000       0.97\n",
       "98   0.91125  0.00050  0.08825  0.00000       0.98\n",
       "99   0.91150  0.00025  0.08825  0.00000       0.99\n",
       "100  0.91175  0.00000  0.08825  0.00000       1.00\n",
       "\n",
       "[101 rows x 5 columns]"
      ]
     },
     "execution_count": 39,
     "metadata": {},
     "output_type": "execute_result"
    }
   ],
   "source": [
    "CURVES"
   ]
  },
  {
   "cell_type": "markdown",
   "metadata": {},
   "source": [
    "# 4"
   ]
  },
  {
   "cell_type": "code",
   "execution_count": 40,
   "metadata": {},
   "outputs": [],
   "source": [
    "# W0 = volume of interests that are paid back\n",
    "# W1 = estimation of the averaged capital lost for bad customers\n",
    "# if W1/W0 penalty is lower than (1/class1ratio - 1) then gains are always positive\n",
    "#    (8% => W1/W0 = 11.5)\n",
    "# but it doesn't mean maximal gain at any threshold!!\n",
    "################\n",
    "W0 =   7000.0  # penalty=12.5\n",
    "W1 = 100000.0  #\n",
    "################\n",
    "\n",
    "CURVES['EARNED']     = W0*CURVES.TN\n",
    "CURVES['NOT_EARNED'] = W0*CURVES.FP\n",
    "CURVES['LOST']       = W1*CURVES.FN\n",
    "CURVES['GAIN']       = CURVES.EARNED - CURVES.LOST\n",
    "CURVES['MAX_GAIN']   = CURVES.EARNED + CURVES.NOT_EARNED"
   ]
  },
  {
   "cell_type": "markdown",
   "metadata": {},
   "source": [
    "# 5"
   ]
  },
  {
   "cell_type": "code",
   "execution_count": 41,
   "metadata": {},
   "outputs": [
    {
     "data": {
      "text/plain": [
       "[<matplotlib.lines.Line2D at 0x1cbd1b50be0>]"
      ]
     },
     "execution_count": 41,
     "metadata": {},
     "output_type": "execute_result"
    },
    {
     "data": {
      "image/png": "[encoded data removed]",
      "text/plain": [
       "<Figure size 720x864 with 2 Axes>"
      ]
     },
     "metadata": {
      "needs_background": "light"
     },
     "output_type": "display_data"
    }
   ],
   "source": [
    "fig, ax = plt.subplots(2, sharex=True, figsize =(10, 12))\n",
    "\n",
    "CURVES.plot(ax=ax[0], x='threshold', y=['EARNED', 'LOST'])\n",
    "CURVES.plot(ax=ax[1], x='threshold', y=['GAIN', 'MAX_GAIN'])\n",
    "ax[1].plot([0,1],[0,0], 'r:')"
   ]
  },
  {
   "cell_type": "code",
   "execution_count": null,
   "metadata": {},
   "outputs": [],
   "source": []
  }
 ],
 "metadata": {
  "kernelspec": {
   "display_name": "Python 3.9.7 ('base')",
   "language": "python",
   "name": "python3"
  },
  "language_info": {
   "codemirror_mode": {
    "name": "ipython",
    "version": 3
   },
   "file_extension": ".py",
   "mimetype": "text/x-python",
   "name": "python",
   "nbconvert_exporter": "python",
   "pygments_lexer": "ipython3",
   "version": "3.9.7"
  },
  "orig_nbformat": 4,
  "vscode": {
   "interpreter": {
    "hash": "9b6f224b3d7daa80c0152910d5f33be0adb657cce3f5b079f96ab8316ce7174b"
   }
  }
 },
 "nbformat": 4,
 "nbformat_minor": 2
}
